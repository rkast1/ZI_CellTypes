{
 "cells": [
  {
   "cell_type": "markdown",
   "metadata": {},
   "source": [
    "# Outline\n",
    "\n",
    "### Normalize the x, y positions of objects in the .csv of each cell type\n",
    "\n",
    "1) Extract the height and width of the image from the Image.csv, in order to translate the x to DV axis y to the if AP axis\n",
    "\n",
    "2) Create a new DF containing the BoundingBox minima and maxima as columns from the Mask_Obj.csv \n",
    "\n",
    "3) Add the IMAGE width and height to the mask dataframe by extracting these columns from the Image.csv\n",
    "\n",
    "4) Determined the anterior, posterior, dorsal and ventral bounds in image space coordinates taking into consideration the orientation of the image\n",
    "\n",
    "5) Effectively flip the coordinates of identified objects in X and Y by subtracting the Location_Center_X and Location_Center_Y values from the Width and Height, respectively. This will make it so that cells to the right of the image are more anterior and thus have smaller x coordinate values, and cells to the bottom of the image are more ventral and thus have smaller y coordinate values\n",
    "\n",
    "6) From the Location_Center_X value for each cell, subtract the number of pixels between the anterior edge of the mask and the right side of the image. From the Location_Center_Y value for each cell, subtract the number of pixels between the ventral edge of the mask and the bottom of the image.\n",
    "\n",
    "7) Normalize the AP and DV axes (scale 0 to 1) by dividing the Location_Center_X value for each cell by the left-to-right diameter(width) of the mask (calculated via the bounding box measurements of the mask present in the Mask_Obj.csv) and the Location_Center_Y values for each cell by the top-to-bottom diameter(height) of the mask.\n",
    "\n",
    "#### All of these processing steps are accomplished through the normalized_anatomy( ) function, which requires 1 argument (a directory containing at least 3 files: Image.csv, Mask_obj.csv, CT_probes.csv"
   ]
  },
  {
   "cell_type": "code",
   "execution_count": null,
   "metadata": {},
   "outputs": [],
   "source": [
    "import os\n",
    "import numpy as np\n",
    "import pandas as pd\n",
    "import matplotlib.pyplot as plt\n",
    "import seaborn as sns"
   ]
  },
  {
   "cell_type": "code",
   "execution_count": null,
   "metadata": {},
   "outputs": [],
   "source": []
  },
  {
   "cell_type": "code",
   "execution_count": null,
   "metadata": {},
   "outputs": [],
   "source": []
  },
  {
   "cell_type": "code",
   "execution_count": null,
   "metadata": {},
   "outputs": [],
   "source": [
    "sns.set_theme(style = 'white', \n",
    "              font = 'arial',\n",
    "              font_scale = 2)\n",
    "\n"
   ]
  },
  {
   "cell_type": "code",
   "execution_count": null,
   "metadata": {
    "scrolled": true
   },
   "outputs": [],
   "source": [
    "\n"
   ]
  },
  {
   "cell_type": "code",
   "execution_count": null,
   "metadata": {},
   "outputs": [],
   "source": []
  },
  {
   "cell_type": "code",
   "execution_count": null,
   "metadata": {},
   "outputs": [],
   "source": []
  },
  {
   "cell_type": "code",
   "execution_count": null,
   "metadata": {},
   "outputs": [],
   "source": []
  },
  {
   "cell_type": "code",
   "execution_count": null,
   "metadata": {},
   "outputs": [],
   "source": [
    "def normalized_anatomy(directory):\n",
    "    \n",
    "    for a in os.listdir(directory):\n",
    "        if a.find('normalized') != -1:\n",
    "            return 'Dataset Already Normalized!'\n",
    "    \"\"\"\n",
    "        This function will normalize the XY pixel coordinates of each cell within an image on a scale from \n",
    "        0 to 1 through measurements of the width and height of the image and its mask. The output will be new\n",
    "        .csv files in the parent directory that contain the suffix \"normalized\". These new .csv files will \n",
    "        have a \"CellType\" column containing the marker combinations used to identify the celltypes contained within\n",
    "        that directory. \n",
    "        \n",
    "        Arguments Required (1):\n",
    "        1. Directory - provide the full filepath (as a string) to the directory containing the output from cellprofiler.\n",
    "                    This directory must contain the following files:\n",
    "                    a) \"\"Image.csv \n",
    "                    b) \"\"Mask_Obj.csv\n",
    "                    c) \"\"CT_probes.csv *one file for each probe combination of interest\n",
    "        \n",
    "        Output:\n",
    "        This function will produce a new 'normalized' csv file containing the normalized pixel coordinates for each cell.\n",
    "        These new csv files can then be concatenated to make a master dataframe of all the cell locations\n",
    "    \n",
    "    \"\"\"\n",
    "           \n",
    "    for x in os.listdir(directory):\n",
    "        if x.find('Image.csv') != -1:\n",
    "            images = pd.read_csv(directory + x)\n",
    "        elif x.find('Mask_Obj.csv') != -1:\n",
    "            masks = pd.read_csv(directory + x)\n",
    "            \n",
    "    masks[['ImageHeight', 'ImageWidth']] = images[['Height_RAW', 'Width_RAW']]\n",
    "    masks['MaskHeight'] = masks['AreaShape_BoundingBoxMaximum_Y'] - masks['AreaShape_BoundingBoxMinimum_Y']\n",
    "    masks['MaskWidth'] = masks['AreaShape_BoundingBoxMaximum_X'] - masks['AreaShape_BoundingBoxMinimum_X']\n",
    "    \n",
    "    ##Assuming the anterior side is the right side of the image\n",
    "    masks['AnteriorBound'] = masks['ImageWidth'] - masks['AreaShape_BoundingBoxMaximum_X']\n",
    "    masks['PosteriorBound'] = masks['ImageWidth'] - masks['AreaShape_BoundingBoxMinimum_X']\n",
    "    \n",
    "    #Assuming dorsal is to the top of the image\n",
    "    masks['VentralBound'] = masks['ImageHeight'] - masks['AreaShape_BoundingBoxMaximum_Y']\n",
    "    masks['DorsalBound'] = masks['ImageHeight'] - masks['AreaShape_BoundingBoxMinimum_Y']\n",
    "    \n",
    "    masks['Aspect (H/W)'] = masks['MaskHeight'] / masks['MaskWidth']\n",
    "    \n",
    "    for item in os.listdir(directory):\n",
    "        if (item.find('CT_') != -1) or (item.find('ExpandedMedianNuclei') != -1):\n",
    "            combo = pd.read_csv(directory + item)\n",
    "            ##combo = combo[['ImageNumber',\n",
    "            ##            'ObjectNumber', \n",
    "            ##           'Location_Center_X', \n",
    "            ##         'Location_Center_Y']]    \n",
    "\n",
    "            #Assuming right of image is anterior, and top is dorsal\n",
    "            ##For the center of each cell(object): \n",
    "            ##Subtract the Location_Center_X value from the Width of the image\n",
    "            ##Subtract the Location_Center_Y value from the Height of the image\n",
    "            AdjustedXlist = []\n",
    "            AdjustedYlist = []\n",
    "            for i in range(len(combo)):\n",
    "                imgnum = combo['ImageNumber'].iloc[i]\n",
    "\n",
    "                width = images[images['ImageNumber'] == imgnum]['Width_RAW'].iloc[0]\n",
    "                adj = width - combo['Location_Center_X'].iloc[i]\n",
    "                AdjustedXlist.append(adj)\n",
    "\n",
    "                height = images[images['ImageNumber'] == imgnum]['Height_RAW'].iloc[0]\n",
    "                heightadj = height - combo['Location_Center_Y'].iloc[i]\n",
    "                AdjustedYlist.append(heightadj)\n",
    "\n",
    "            combo['AdjustedX'] = AdjustedXlist\n",
    "            combo['AdjustedY'] = AdjustedYlist\n",
    "\n",
    "            #Assuming right of image is anterior, and top is dorsal\n",
    "            ##For the center of each cell(object): \n",
    "            ##Subtract the anterior bound value from the AdjustedX valuefor the cell\n",
    "            ##Subtract the ventral bound value from the AdjustedY value for the cell\n",
    "            \n",
    "            baseXlist = []\n",
    "            baseYlist = []\n",
    "            for i in range(len(combo)):\n",
    "                imgnum = combo['ImageNumber'].iloc[i]\n",
    "\n",
    "                ant_bound = masks[masks['ImageNumber'] == imgnum]['AnteriorBound'].iloc[0]\n",
    "                vent_bound = masks[masks['ImageNumber'] == imgnum]['VentralBound'].iloc[0]\n",
    "\n",
    "                baselineX = combo['AdjustedX'].iloc[i] - ant_bound\n",
    "                baselineY = combo['AdjustedY'].iloc[i] - vent_bound\n",
    "\n",
    "                baseXlist.append(baselineX)\n",
    "                baseYlist.append(baselineY)\n",
    "\n",
    "            combo['BaselineX'] = baseXlist\n",
    "            combo['BaselineY'] = baseYlist\n",
    "\n",
    "\n",
    "\n",
    "            ##To normalize the position values from 0 to 1 in the dorsal ventral and anterior posterior planes\n",
    "            ## Divide the BaselineX and BaselineY values by the width and height of the MASK\n",
    "            NormalizedXlist = []\n",
    "            NormalizedYlist = []\n",
    "            AspectList = []\n",
    "            for i in range(len(combo)):\n",
    "                imgnum = combo['ImageNumber'].iloc[i]\n",
    "                xdiam = (masks[masks['ImageNumber'] == imgnum]['AreaShape_BoundingBoxMaximum_X'].iloc[0]) - (masks[masks['ImageNumber'] == imgnum]['AreaShape_BoundingBoxMinimum_X'].iloc[0])\n",
    "                ydiam = (masks[masks['ImageNumber'] == imgnum]['AreaShape_BoundingBoxMaximum_Y'].iloc[0]) - (masks[masks['ImageNumber'] == imgnum]['AreaShape_BoundingBoxMinimum_Y'].iloc[0])\n",
    "                normalX = combo['BaselineX'].iloc[i] / xdiam\n",
    "                normalY = combo['BaselineY'].iloc[i] / ydiam\n",
    "                NormalizedXlist.append(normalX)\n",
    "                NormalizedYlist.append(normalY)\n",
    "                aspect = masks[masks['ImageNumber'] == imgnum]['Aspect (H/W)'].iloc[0]\n",
    "                AspectList.append(aspect)\n",
    "                \n",
    "            combo['NormalizedX'] = NormalizedXlist\n",
    "            combo['NormalizedY'] = NormalizedYlist\n",
    "            combo['Aspect (H/W)'] = AspectList\n",
    "\n",
    "            celltypelist = []\n",
    "\n",
    "            ct = item[item.find('CT_'):item.find('.csv')]\n",
    "            \n",
    "            if item.find('CT_') == -1:\n",
    "                ct = 'DAPI'\n",
    "            \n",
    "            for i in range(len(combo)):\n",
    "                celltypelist.append(ct)\n",
    "            \n",
    "            combo['CellType'] = celltypelist\n",
    "            combo.to_csv(directory + item[:item.find('.csv')] + 'normalized.csv')\n",
    "            \n",
    "    return "
   ]
  },
  {
   "cell_type": "code",
   "execution_count": null,
   "metadata": {},
   "outputs": [],
   "source": [
    "def normalized_anatomy_preCropped_NoMask(directory):\n",
    "    \n",
    "    for a in os.listdir(directory):\n",
    "        if a.find('normalized') != -1:\n",
    "            return 'Dataset Already Normalized!'\n",
    "    \"\"\"\n",
    "        This function will normalize the XY pixel coordinates of each cell within an image on a scale from \n",
    "        0 to 1 through measurements of the width and height of the image and its mask. The output will be new\n",
    "        .csv files in the parent directory that contain the suffix \"normalized\". These new .csv files will \n",
    "        have a \"CellType\" column containing the marker combinations used to identify the celltypes contained within\n",
    "        that directory. \n",
    "        \n",
    "        Arguments Required (1):\n",
    "        1. Directory - provide the full filepath (as a string) to the directory containing the output from cellprofiler.\n",
    "                    This directory must contain the following files:\n",
    "                    a) \"\"Image.csv \n",
    "                    b) \"\"CT_probes.csv *one file for each probe combination of interest\n",
    "        \n",
    "        Output:\n",
    "        This function will produce a new 'normalized' csv file containing the normalized pixel coordinates for each cell.\n",
    "        These new csv files can then be concatenated to make a master dataframe of all the cell locations\n",
    "    \n",
    "    \"\"\"\n",
    "           \n",
    "    for x in os.listdir(directory):\n",
    "        if x.find('Image.csv') != -1:\n",
    "            images = pd.read_csv(directory + x)\n",
    "            \n",
    "    \n",
    "    for item in os.listdir(directory):\n",
    "        if (item.find('CT_') != -1) or (item.find('Neurons') != -1):\n",
    "            combo = pd.read_csv(directory + item)\n",
    "           ## combo = combo[['ImageNumber',\n",
    "           ##              'ObjectNumber', \n",
    "           ##              'Location_Center_X', \n",
    "           ##              'Location_Center_Y']]\n",
    "\n",
    "            \n",
    "            #Assuming right of image is anterior, and top is dorsal\n",
    "            ##For the center of each cell(object): \n",
    "            ##Subtract the Location_Center_X value from the Width of the image\n",
    "            ##Subtract the Location_Center_Y value from the Height of the image\n",
    "            \n",
    "            NormalizedXlist = []\n",
    "            NormalizedYlist = []\n",
    "            AspectList = []\n",
    "            for i in range(len(combo)):\n",
    "                \n",
    "                imgnum = combo['ImageNumber'].iloc[i]\n",
    "\n",
    "                width = images[images['ImageNumber'] == imgnum]['Width_RAW'].iloc[0]\n",
    "                adj = width - combo['Location_Center_X'].iloc[i]\n",
    "\n",
    "                height = images[images['ImageNumber'] == imgnum]['Height_RAW'].iloc[0]\n",
    "                heightadj = height - combo['Location_Center_Y'].iloc[i]\n",
    "\n",
    "                imgnum = combo['ImageNumber'].iloc[i]\n",
    "                normalX = adj / width\n",
    "                normalY = heightadj / height\n",
    "                \n",
    "                NormalizedXlist.append(normalX)\n",
    "                NormalizedYlist.append(normalY)\n",
    "                \n",
    "                aspect = height/width\n",
    "                AspectList.append(aspect)\n",
    "                \n",
    "            combo['NormalizedX'] = NormalizedXlist\n",
    "            combo['NormalizedY'] = NormalizedYlist\n",
    "            combo['Aspect (H/W)'] = AspectList\n",
    "\n",
    "            celltypelist = []\n",
    "\n",
    "            ct = item[item.find('CT_'):item.find('.csv')]\n",
    "            \n",
    "            for i in range(len(combo)):\n",
    "                celltypelist.append(ct)\n",
    "            \n",
    "            combo['CellType'] = celltypelist\n",
    "            combo.to_csv(directory + item[:item.find('.csv')] + 'normalized.csv')\n",
    "            \n",
    "    return \n"
   ]
  },
  {
   "cell_type": "code",
   "execution_count": null,
   "metadata": {},
   "outputs": [],
   "source": [
    "for item in os.listdir('Z:/RKDATA/ConfocalData/SDC/RNAscope/V2/ZI/Sagittal/FINALSET_FIRSTTIER/Spp1_Nos1_Kcng2/CellProfilerOutput/'):\n",
    "    if item.find('CT_') != -1:\n",
    "                print(item)"
   ]
  },
  {
   "cell_type": "code",
   "execution_count": null,
   "metadata": {
    "scrolled": true
   },
   "outputs": [],
   "source": [
    "normalized_anatomy_preCropped_NoMask(\"Z:/RKDATA/ConfocalData/SDC/RNAscope\\/V2/ZI/Sagittal/FINALSET_FIRSTTIER/Spp1_Slc30a3_Pax6/CellProfilerOutput/112922(3mice)/\")"
   ]
  },
  {
   "cell_type": "markdown",
   "metadata": {},
   "source": [
    "## We have two options for making jointplots with the DAPI only in the central relational plot, but not within the KDEs. See below. The first option requires some creativity outside of python"
   ]
  },
  {
   "cell_type": "markdown",
   "metadata": {},
   "source": [
    "# Slc17a6, Gad2, Pax6------------------------------------------------------------"
   ]
  },
  {
   "cell_type": "code",
   "execution_count": null,
   "metadata": {},
   "outputs": [],
   "source": [
    "SGPdatadir = '/Users/ryankast/Downloads/Slc17a6Gad2Pax6RNAscopeAnalysis/'\n",
    "normalized_anatomy_preCropped_NoMask(SGPdatadir)\n",
    "\n",
    "savedir = SGPdatadir + 'JointPlots/'"
   ]
  },
  {
   "cell_type": "code",
   "execution_count": null,
   "metadata": {},
   "outputs": [],
   "source": [
    "normalizedlist = []\n",
    "for item in os.listdir(SGPdatadir):\n",
    "    if item.find('normalized') != -1:\n",
    "        normalizedlist.append(pd.read_csv(SGPdatadir+item))\n",
    "\n",
    "SGPfulldf = pd.concat(normalizedlist)\n",
    "SGPfulldf = SGPfulldf.reset_index()"
   ]
  },
  {
   "cell_type": "code",
   "execution_count": null,
   "metadata": {},
   "outputs": [],
   "source": [
    "SGPimage = pd.read_csv(SGPdatadir + 'Slc17a6Gad2Pax6_02252023Image.csv')\n",
    "SGPimagesdict = dict(zip(SGPimage['ImageNumber'],SGPimage['FileName_RAW'].str[4:29]))\n",
    "                    "
   ]
  },
  {
   "cell_type": "code",
   "execution_count": null,
   "metadata": {},
   "outputs": [],
   "source": [
    "SGPfulldf['CellType'].value_counts()"
   ]
  },
  {
   "cell_type": "code",
   "execution_count": null,
   "metadata": {},
   "outputs": [],
   "source": [
    "#Use named, discrete colors to create a custom colormap\n",
    "SGPcm = ['red', 'darkturquoise']\n",
    "\n",
    "#sns.set(font_scale = 2, style= 'white', palette = None)\n",
    "\n",
    "#Designate which Cell Types you want to plot\n",
    "SGPctlist = ['CT_Gad2Neurons',\n",
    "             'CT_Slc17a6Neurons']\n",
    "\n",
    "SGPctcmdict = dict(zip(SGPctlist, SGPcm))"
   ]
  },
  {
   "cell_type": "code",
   "execution_count": null,
   "metadata": {
    "scrolled": true
   },
   "outputs": [],
   "source": [
    "SGPimagesdict"
   ]
  },
  {
   "cell_type": "code",
   "execution_count": null,
   "metadata": {},
   "outputs": [],
   "source": [
    "SGPfulldf[SGPfulldf['ImageNumber'] == 10].iloc[0]['Aspect (H/W)']"
   ]
  },
  {
   "cell_type": "code",
   "execution_count": null,
   "metadata": {
    "scrolled": true
   },
   "outputs": [],
   "source": [
    "##Make one with DAPI and one without iteratively, and then overlay in illustrator\n",
    "#fig = plt.figure(figsize=(5,4), dpi =300)\n",
    "#ax1 = fig.add_axes([0,0,1,1])\n",
    "\n",
    "##Assign which image in the dataset you want to plot\n",
    "for imgnum in range(1, len(SGPimage)):\n",
    "\n",
    "    celltypes = ['CT_Slc17a6Neurons','CT_Gad2Neurons']\n",
    "\n",
    "\n",
    "\n",
    "    cmap = [SGPctcmdict[x] for x in celltypes]\n",
    "\n",
    "    g = sns.jointplot(data=SGPfulldf[(SGPfulldf['ImageNumber'] == imgnum) &  \n",
    "                          (SGPfulldf['CellType'].isin(celltypes))],\n",
    "                 x='NormalizedX',\n",
    "                 y='NormalizedY',\n",
    "                 palette = cmap,\n",
    "                 hue = 'CellType',\n",
    "                 hue_order= celltypes,\n",
    "                 xlim = (-0.2,1.2),\n",
    "                 ylim = (-0.2,1.2),\n",
    "                 s = 80,\n",
    "                 alpha = 0.8,\n",
    "                 legend = False,\n",
    "                 )\n",
    "\n",
    "\n",
    "    Aspect = SGPfulldf[SGPfulldf['ImageNumber'] == imgnum].iloc[0]['Aspect (H/W)']\n",
    "    g.set_axis_labels('Normalized Anterior-Posterior Postition', 'Normalized Dorsal-Ventral Postition', fontsize = 24)\n",
    "    g.fig.set_figwidth(20)\n",
    "    g.fig.set_figheight(20*Aspect)\n",
    "\n",
    "\n",
    "\n",
    "    plt.legend(title = 'Cell Type', fontsize = 24,\n",
    "               labels = ['Gad2+ Neurons',\n",
    "                         'Slc17a6+ Neurons'], \n",
    "               bbox_to_anchor = (2.8, 1.1), \n",
    "               edgecolor = 'Black')\n",
    "\n",
    "    #plt.title(SGPimagesdict[imgnum])\n",
    "    plt.savefig(savedir + SGPimagesdict[imgnum] + str(celltypes) + '.svg' , bbox_inches = 'tight')\n"
   ]
  },
  {
   "cell_type": "code",
   "execution_count": null,
   "metadata": {},
   "outputs": [],
   "source": []
  },
  {
   "cell_type": "code",
   "execution_count": null,
   "metadata": {},
   "outputs": [],
   "source": []
  },
  {
   "cell_type": "code",
   "execution_count": null,
   "metadata": {},
   "outputs": [],
   "source": []
  },
  {
   "cell_type": "code",
   "execution_count": null,
   "metadata": {},
   "outputs": [],
   "source": []
  },
  {
   "cell_type": "code",
   "execution_count": null,
   "metadata": {},
   "outputs": [],
   "source": []
  },
  {
   "cell_type": "code",
   "execution_count": null,
   "metadata": {},
   "outputs": [],
   "source": []
  },
  {
   "cell_type": "code",
   "execution_count": null,
   "metadata": {},
   "outputs": [],
   "source": []
  },
  {
   "cell_type": "code",
   "execution_count": null,
   "metadata": {},
   "outputs": [],
   "source": []
  },
  {
   "cell_type": "code",
   "execution_count": null,
   "metadata": {},
   "outputs": [],
   "source": []
  },
  {
   "cell_type": "code",
   "execution_count": null,
   "metadata": {},
   "outputs": [],
   "source": []
  },
  {
   "cell_type": "code",
   "execution_count": null,
   "metadata": {},
   "outputs": [],
   "source": []
  },
  {
   "cell_type": "markdown",
   "metadata": {},
   "source": [
    "# Pax6,Spp1,Slc30a3 ------------------------------------------------------------"
   ]
  },
  {
   "cell_type": "code",
   "execution_count": null,
   "metadata": {},
   "outputs": [],
   "source": [
    "PSSdatadir = 'Z:/RKDATA/ConfocalData/SDC/RNAscope/V2/ZI/Sagittal/FINALSET_FIRSTTIER/Spp1_Slc30a3_Pax6/CellProfilerOutput/112922(3mice)/Marker_ScatterPlots/'\n",
    "normalized_anatomy_preCropped_NoMask(PSSdatadir)"
   ]
  },
  {
   "cell_type": "code",
   "execution_count": null,
   "metadata": {},
   "outputs": [],
   "source": [
    "savedir = 'Z:/RKDATA/ConfocalData/SDC/RNAscope/V2/ZI/Sagittal/FINALSET_FIRSTTIER/PythonAnalysis/Plots/Pax6Spp1Slc30a3/3Mice/JointPlots/'"
   ]
  },
  {
   "cell_type": "code",
   "execution_count": null,
   "metadata": {},
   "outputs": [],
   "source": [
    "normalizedlist = []\n",
    "for item in os.listdir(PSSdatadir):\n",
    "    if item.find('normalized') != -1:\n",
    "        normalizedlist.append(pd.read_csv(PSSdatadir+item))\n",
    "\n",
    "PSSfulldf = pd.concat(normalizedlist)\n",
    "PSSfulldf = PSSfulldf.reset_index()"
   ]
  },
  {
   "cell_type": "code",
   "execution_count": null,
   "metadata": {
    "scrolled": true
   },
   "outputs": [],
   "source": []
  },
  {
   "cell_type": "code",
   "execution_count": null,
   "metadata": {},
   "outputs": [],
   "source": [
    "PSSimage = pd.read_csv(PSSdatadir + 'Slc30a3Spp1Pax6_CellPosePax6_112922Image.csv')\n",
    "PSSimagesdict = dict(zip(PSSimage['ImageNumber'],PSSimage['FileName_RAW'].str[4:16]))"
   ]
  },
  {
   "cell_type": "code",
   "execution_count": null,
   "metadata": {},
   "outputs": [],
   "source": [
    "#Use named, discrete colors to create a custom colormap\n",
    "PSScm = ['ghostwhite', 'magenta', 'darkblue', 'darkturquoise',  'silver']\n",
    "\n",
    "#sns.set(font_scale = 2, style= 'white', palette = None)\n",
    "\n",
    "#Designate which Cell Types you want to plot\n",
    "PSSctlist = ['CT_DAPI',\n",
    "             'CT_Slc30a3_Pax6',\n",
    "             'CT_Slc30a3_Spp1_Pax6',\n",
    "             'CT_Spp1_Pax6',\n",
    "             'CT_Pax6only']\n",
    "\n",
    "PSSctcmdict = dict(zip(PSSctlist, PSScm))"
   ]
  },
  {
   "cell_type": "code",
   "execution_count": null,
   "metadata": {},
   "outputs": [],
   "source": [
    "PSSctcmdict"
   ]
  },
  {
   "cell_type": "code",
   "execution_count": null,
   "metadata": {},
   "outputs": [],
   "source": [
    "PSSfulldf[PSSfulldf['ImageNumber'] == 10].iloc[0]['Aspect (H/W)']"
   ]
  },
  {
   "cell_type": "code",
   "execution_count": null,
   "metadata": {
    "scrolled": false
   },
   "outputs": [],
   "source": [
    "##Make one with DAPI and one without iteratively, and then overlay in illustrator\n",
    "#fig = plt.figure(figsize=(5,4), dpi =300)\n",
    "#ax1 = fig.add_axes([0,0,1,1])\n",
    "\n",
    "##Assign which image in the dataset you want to plot\n",
    "for imgnum in range(1,36):\n",
    "\n",
    "    celltypes = ['CT_Slc30a3_Spp1_Pax6',\n",
    "                 'CT_Slc30a3_Pax6',\n",
    "                 'CT_Spp1_Pax6',\n",
    "                 'CT_Pax6only']\n",
    "\n",
    "\n",
    "    cmap = [PSSctcmdict[x] for x in celltypes]\n",
    "\n",
    "    g = sns.jointplot(data=PSSfulldf[(PSSfulldf['ImageNumber'] == imgnum) &  \n",
    "                          (PSSfulldf['CellType'].isin(celltypes))],\n",
    "                 x='NormalizedX',\n",
    "                 y='NormalizedY',\n",
    "                 palette = cmap,\n",
    "                 hue = 'CellType',\n",
    "                 hue_order= celltypes,\n",
    "                 xlim = (-0.2,1.2),\n",
    "                 ylim = (-0.2,1.2),\n",
    "                 s = 80,\n",
    "                 alpha = 0.8,\n",
    "                 legend = False)\n",
    "\n",
    "\n",
    "    Aspect = PSSfulldf[PSSfulldf['ImageNumber'] == imgnum].iloc[0]['Aspect (H/W)']\n",
    "    g.set_axis_labels('Normalized Anterior-Posterior Postition', 'Normalized Dorsal-Ventral Postition', fontsize = 24)\n",
    "    g.fig.set_figwidth(20)\n",
    "    g.fig.set_figheight(20*Aspect)\n",
    "\n",
    "\n",
    "\n",
    "    plt.legend(title = 'Cell Type', fontsize = 24,\n",
    "               labels = ['Pax6+Only',\n",
    "                         'Spp1+Pax6+',\n",
    "                         'Slc30a3+Pax6+',\n",
    "                         'Slc30a3+Spp1+Pax6+'], \n",
    "               bbox_to_anchor = (2.8, 1.1), \n",
    "               edgecolor = 'Black')\n",
    "\n",
    "    #plt.title(PSSimagesdict[imgnum])\n",
    "    #plt.savefig(savedir + PSSimagesdict[imgnum] + str(celltypes) + '.svg' , bbox_inches = 'tight')\n"
   ]
  },
  {
   "cell_type": "code",
   "execution_count": null,
   "metadata": {
    "scrolled": false
   },
   "outputs": [],
   "source": []
  },
  {
   "cell_type": "code",
   "execution_count": null,
   "metadata": {},
   "outputs": [],
   "source": [
    "sns.set_theme(style = 'ticks',\n",
    "              font = 'helvetica',\n",
    "              font_scale = 1.5)\n",
    "\n",
    "\n",
    "plt.figure(figsize = (3,3), dpi =300)\n",
    "plotdata = PSSfulldf[PSSfulldf['CellType'] == 'CT_Pax6Neurons']\n",
    "\n",
    "sns.scatterplot(data = plotdata,\n",
    "            #kind = 'scatter',\n",
    "            x =  (plotdata['Intensity_IntegratedIntensity_Slc30a3Robust'] / plotdata['AreaShape_Area']),\n",
    "            y=   (plotdata['Intensity_IntegratedIntensity_Spp1Robust'] / plotdata['AreaShape_Area']),\n",
    "            s = 20,\n",
    "            color = 'grey',\n",
    "            edgecolor = 'grey',\n",
    "            alpha = 0.1).set(ylim = (-0.02, 1.00), xlim = (-0.02, 1.00))\n",
    "\n",
    "sns.despine(top = True, \n",
    "            right = True)"
   ]
  },
  {
   "cell_type": "code",
   "execution_count": null,
   "metadata": {},
   "outputs": [],
   "source": [
    "sns.scatterplot(data = PSSfulldf,\n",
    "            #kind = 'scatter',\n",
    "            x =  plotdata['Intensity_IntegratedIntensity_Slc30a3Robust'] / plotdata['AreaShape_Area'],\n",
    "            y=   plotdata['Intensity_IntegratedIntensity_Spp1Robust'] / plotdata['AreaShape_Area'],\n",
    "            s = 50,\n",
    "            color = 'teal',\n",
    "            edgecolor = 'white',\n",
    "            alpha = 0.1).set(ylim = (-0.02, 1), xlim = (-0.02, 1))"
   ]
  },
  {
   "cell_type": "code",
   "execution_count": null,
   "metadata": {},
   "outputs": [],
   "source": [
    "##Make one with DAPI and one without iteratively, and then overlay in illustrator\n",
    "#fig = plt.figure(figsize=(5,4), dpi =300)\n",
    "#ax1 = fig.add_axes([0,0,1,1])\n",
    "\n",
    "##Assign which image in the dataset you want to plot\n",
    "for imgnum in range(1,22):\n",
    "\n",
    "    celltypes = ['CT_DAPI']\n",
    "\n",
    "\n",
    "    cmap = [PSSctcmdict[x] for x in celltypes]\n",
    "\n",
    "    g = sns.jointplot(data=PSSfulldf[(PSSfulldf['ImageNumber'] == imgnum) &  \n",
    "                          (PSSfulldf['CellType'].isin(celltypes))],\n",
    "                 x='NormalizedX',\n",
    "                 y='NormalizedY',\n",
    "                 hue = 'CellType',\n",
    "                 hue_order= celltypes,\n",
    "                 palette = cmap,\n",
    "                 xlim = (-0.2,1.2),\n",
    "                 ylim = (-0.2,1.2),\n",
    "                 s = 80,\n",
    "                 legend = False,\n",
    "                 edgecolor = 'Black',\n",
    "                 linewidth = 0.1)\n",
    "\n",
    "\n",
    "    Aspect = PSSfulldf[PSSfulldf['ImageNumber'] == imgnum].iloc[0]['Aspect (H/W)']\n",
    "    g.set_axis_labels('Normalized Anterior-Posterior Postition', 'Normalized Dorsal-Ventral Postition')\n",
    "    g.fig.set_figwidth(20)\n",
    "    g.fig.set_figheight(20*Aspect)\n",
    "\n",
    "    plt.legend(title = 'Cell Type', \n",
    "               labels= ['DAPI'], \n",
    "\n",
    "               bbox_to_anchor = (2.8, 1.1), \n",
    "               edgecolor = 'Black',\n",
    "               fontsize = 24,\n",
    "               title_fontsize=24)\n",
    "\n",
    "\n",
    "\n",
    "    #plt.title(PSSimagesdict[imgnum])\n",
    "    #plt.savefig(savedir + PSSimagesdict[imgnum]  + '_DAPI.png' , bbox_inches = 'tight', dpi = 300)"
   ]
  },
  {
   "cell_type": "code",
   "execution_count": null,
   "metadata": {},
   "outputs": [],
   "source": [
    "##Make one with DAPI and one without iteratively, and then overlay in illustrator\n",
    "#fig = plt.figure(figsize=(5,4), dpi =300)\n",
    "#ax1 = fig.add_axes([0,0,1,1])\n",
    "\n",
    "##Assign which image in the dataset you want to plot\n",
    "for imgnum in range(1,22):\n",
    "\n",
    "    celltypes = ['CT_Slc30a3_Spp1_Pax6']\n",
    "\n",
    "\n",
    "    cmap = [PSSctcmdict[x] for x in celltypes]\n",
    "\n",
    "    g = sns.jointplot(data=PSSfulldf[(PSSfulldf['ImageNumber'] == imgnum) &  \n",
    "                          (PSSfulldf['CellType'].isin(celltypes))],\n",
    "                 x='NormalizedX',\n",
    "                 y='NormalizedY',\n",
    "                 hue = 'CellType',\n",
    "                 hue_order= celltypes,\n",
    "                 palette = cmap,\n",
    "                 xlim = (-0.2,1.2),\n",
    "                 ylim = (-0.2,1.2),\n",
    "                 s = 80,\n",
    "                 legend = False,\n",
    "                 linewidth = 0.1)\n",
    "\n",
    "\n",
    "    Aspect = PSSfulldf[PSSfulldf['ImageNumber'] == imgnum].iloc[0]['Aspect (H/W)']\n",
    "    g.set_axis_labels('Normalized Anterior-Posterior Postition', 'Normalized Dorsal-Ventral Postition')\n",
    "    g.fig.set_figwidth(20)\n",
    "    g.fig.set_figheight(20*Aspect)\n",
    "    \n",
    "    plt.legend(title = 'Cell Type', \n",
    "           labels= ['Slc30a3+Spp1+Pax6+'], \n",
    "\n",
    "           bbox_to_anchor = (2.8, 1.1), \n",
    "           edgecolor = 'Black',\n",
    "           fontsize = 24,\n",
    "           title_fontsize=24)\n",
    "\n",
    "\n",
    "\n",
    "\n",
    "    #plt.title(PSSimagesdict[imgnum])\n",
    "    #plt.savefig(savedir + PSSimagesdict[imgnum]  + '_TriplePosStubborn.png' , bbox_inches = 'tight', dpi = 300)"
   ]
  },
  {
   "cell_type": "markdown",
   "metadata": {},
   "source": [
    "# Kcng2,Nos1,Spp1------------------------------------------------------------"
   ]
  },
  {
   "cell_type": "code",
   "execution_count": null,
   "metadata": {},
   "outputs": [],
   "source": [
    "cd /Volumes/ryanKast/RKDATA/ConfocalData/SDC/RNAscope/V2/ZI/Sagittal/FINALSET_FIRSTTIER/Spp1_Nos1_Kcng2/CellProfilerOutput/Spp1_ii24_Nos1_ii24/"
   ]
  },
  {
   "cell_type": "code",
   "execution_count": null,
   "metadata": {},
   "outputs": [],
   "source": [
    "ls"
   ]
  },
  {
   "cell_type": "code",
   "execution_count": null,
   "metadata": {},
   "outputs": [],
   "source": [
    "KNSdatadir = \"./\"\n",
    "normalized_anatomy_preCropped_NoMask(KNSdatadir)\n"
   ]
  },
  {
   "cell_type": "code",
   "execution_count": null,
   "metadata": {},
   "outputs": [],
   "source": [
    "savedir = '/Volumes/ryanKast/RKDATA/ConfocalData/SDC/RNAscope/V2/ZI/Sagittal/FINALSET_FIRSTTIER/PythonAnalysis/Plots/Kcng2Nos1Spp1/JointPlots/'"
   ]
  },
  {
   "cell_type": "code",
   "execution_count": null,
   "metadata": {},
   "outputs": [],
   "source": [
    "KNSdatadir = \"./\"\n",
    "normalizedlist = []\n",
    "\n",
    "for item in os.listdir(KNSdatadir):\n",
    "    if item.find('normalized') != -1:\n",
    "        normalizedlist.append(pd.read_csv(KNSdatadir+item))\n",
    "\n",
    "KNSfulldf = pd.concat(normalizedlist)\n",
    "KNSfulldf = KNSfulldf.reset_index()"
   ]
  },
  {
   "cell_type": "code",
   "execution_count": null,
   "metadata": {},
   "outputs": [],
   "source": [
    "KNSfulldf['CellType'].unique().tolist()"
   ]
  },
  {
   "cell_type": "code",
   "execution_count": null,
   "metadata": {},
   "outputs": [],
   "source": [
    "#Use named, discrete colors to create a custom colormap\n",
    "KNScm = ['darkblue', \n",
    "         'red', \n",
    "         'darkturquoise',\n",
    "         'silver', \n",
    "         'ghostwhite']\n",
    "\n",
    "#sns.set(font_scale = 2, style= 'white', palette = None)\n",
    "\n",
    "#Designate which Cell Types you want to plot\n",
    "KNSctlist = ['CT_Nos1_Spp1_Kcng2', \n",
    "             'CT_Nos1_Kcng2', \n",
    "             'CT_Spp1_Kcng2', \n",
    "             'CT_Kcng2only',\n",
    "             'CT_DAPI']\n",
    "\n",
    "KNSctcmdict = dict(zip(KNSctlist, KNScm))"
   ]
  },
  {
   "cell_type": "code",
   "execution_count": null,
   "metadata": {},
   "outputs": [],
   "source": [
    "KNSimages = pd.read_csv('Spp1Nos1Kcng2_CellPoseKcng2_092122Image.csv')"
   ]
  },
  {
   "cell_type": "code",
   "execution_count": null,
   "metadata": {},
   "outputs": [],
   "source": [
    "KNSimages = KNSimages[['ImageNumber', 'FileName_RAW']]"
   ]
  },
  {
   "cell_type": "code",
   "execution_count": null,
   "metadata": {},
   "outputs": [],
   "source": [
    "KNSimages['FileName_RAW'] = KNSimages['FileName_RAW'].str[4:16].tolist()\n"
   ]
  },
  {
   "cell_type": "code",
   "execution_count": null,
   "metadata": {},
   "outputs": [],
   "source": [
    "KNSimagesdict = dict(zip(KNSimages['ImageNumber'], KNSimages['FileName_RAW']))"
   ]
  },
  {
   "cell_type": "code",
   "execution_count": null,
   "metadata": {
    "scrolled": false
   },
   "outputs": [],
   "source": [
    "for imgnum in range(1,KNSimages['ImageNumber'].max()):\n",
    "    \n",
    "    celltypes = [ 'CT_Nos1_Spp1_Kcng2',  'CT_Spp1_Kcng2', 'CT_Nos1_Kcng2', 'CT_Kcng2only'] #'CT_DAPI']\n",
    "    \n",
    "    cmap = [KNSctcmdict[x] for x in celltypes]\n",
    "\n",
    "    g = sns.jointplot(data=KNSfulldf[(KNSfulldf['ImageNumber'] == imgnum) &  \n",
    "                          (KNSfulldf['CellType'].isin(celltypes))],\n",
    "                 x='NormalizedX',\n",
    "                 y='NormalizedY',\n",
    "                 palette = cmap,\n",
    "                 hue = 'CellType',\n",
    "                 hue_order= celltypes,\n",
    "                 xlim = (-0.2,1.2),\n",
    "                 ylim = (-0.2,1.2),\n",
    "                 s = 80,\n",
    "                 legend = False,\n",
    "                 )\n",
    "\n",
    "\n",
    "    Aspect = KNSfulldf[KNSfulldf['ImageNumber'] == imgnum].iloc[0]['Aspect (H/W)']\n",
    "\n",
    "    g.set_axis_labels('Normalized Anterior-Posterior Postition', 'Normalized Dorsal-Ventral Postition')\n",
    "    g.fig.set_figwidth(20)\n",
    "    g.fig.set_figheight(20*Aspect)\n",
    "\n",
    "    plt.legend(title = 'Cell Type', \n",
    "               labels= ['Kcng2Only',\n",
    "                        'Nos1+Kcng2+',\n",
    "                        'Spp1+Kcng2+',\n",
    "\n",
    "                        'Nos1+Spp1+Kcng2',\n",
    "                         ], \n",
    "\n",
    "               bbox_to_anchor = (2.8, 1.1), \n",
    "               edgecolor = 'Black',\n",
    "               fontsize = 24,\n",
    "               title_fontsize=24)\n",
    "\n",
    "    #plt.title(KNSimagesdict[imgnum])\n",
    "    plt.savefig(savedir + KNSimagesdict[imgnum] + '.svg' , bbox_inches = 'tight', dpi=300)"
   ]
  },
  {
   "cell_type": "code",
   "execution_count": null,
   "metadata": {
    "scrolled": true
   },
   "outputs": [],
   "source": [
    "    ##Make one with DAPI and one without iteratively, and then overlay in illustrator\n",
    "    #fig = plt.figure(figsize=(5,4), dpi =300)\n",
    "    #ax1 = fig.add_axes([0,0,1,1])\n",
    "\n",
    "    ##Assign which image in the dataset you want to plot\n",
    "for imgnum in range(1,28):\n",
    "        celltypes = [ 'CT_Nos1_Spp1_Kcng2',  'CT_Spp1_Kcng2', 'CT_Nos1_Kcng2', 'CT_Kcng2only'] #'CT_DAPI']\n",
    "\n",
    "        cmap = [KNSctcmdict[x] for x in celltypes]\n",
    "\n",
    "        g = sns.jointplot(data=KNSfulldf[(KNSfulldf['ImageNumber'] == imgnum) &  \n",
    "                              (KNSfulldf['CellType'].isin(celltypes))],\n",
    "                     x='NormalizedX',\n",
    "                     y='NormalizedY',\n",
    "                     palette = cmap,\n",
    "                     hue = 'CellType',\n",
    "                     hue_order= celltypes,\n",
    "\n",
    "                     xlim = (-0.2,1.2),\n",
    "                     ylim = (-0.2,1.2),\n",
    "                     s = 80,\n",
    "                     legend = False,\n",
    "                     )\n",
    "\n",
    "\n",
    "        Aspect = KNSfulldf[KNSfulldf['ImageNumber'] == imgnum].iloc[0]['Aspect (H/W)']\n",
    "\n",
    "        g.set_axis_labels('Normalized Anterior-Posterior Postition', 'Normalized Dorsal-Ventral Postition')\n",
    "        g.fig.set_figwidth(20)\n",
    "        g.fig.set_figheight(20*Aspect)\n",
    "\n",
    "        plt.legend(title = 'Cell Type', \n",
    "                   labels= ['Kcng2Only',\n",
    "                            'Nos1+Spp1+Kcng2',\n",
    "                            'Spp1+Kcng2+',\n",
    "                            'Nos1+Kcng2+',\n",
    "                             ], \n",
    "\n",
    "                   bbox_to_anchor = (2.8, 1.1), \n",
    "                   edgecolor = 'Black',\n",
    "                   fontsize = 24,\n",
    "                   title_fontsize=24)\n",
    "\n",
    "        #plt.title(KNSimagesdict[imgnum])\n",
    "        #plt.savefig(savedir + KNSimagesdict[imgnum] + '.png' , bbox_inches = 'tight', dpi=300)"
   ]
  },
  {
   "cell_type": "code",
   "execution_count": null,
   "metadata": {
    "scrolled": true
   },
   "outputs": [],
   "source": [
    "##Make one with DAPI and one without iteratively, and then overlay in illustrator\n",
    "#fig = plt.figure(figsize=(5,4), dpi =300)\n",
    "#ax1 = fig.add_axes([0,0,1,1])\n",
    "\n",
    "##Assign which image in the dataset you want to plot\n",
    "for imgnum in range(1,28):\n",
    "\n",
    "    celltypes = ['CT_DAPI']\n",
    "\n",
    "\n",
    "    cmap = [KNSctcmdict[x] for x in celltypes]\n",
    "\n",
    "    g = sns.jointplot(data=KNSfulldf[(KNSfulldf['ImageNumber'] == imgnum) &  \n",
    "                          (KNSfulldf['CellType'].isin(celltypes))],\n",
    "                 x='NormalizedX',\n",
    "                 y='NormalizedY',\n",
    "                 hue = 'CellType',\n",
    "                 hue_order= celltypes,\n",
    "                 palette = cmap,\n",
    "                 xlim = (-0.2,1.2),\n",
    "                 ylim = (-0.2,1.2),\n",
    "                 s = 80,\n",
    "                 legend = False,\n",
    "                 edgecolor = 'Black',\n",
    "                 linewidth = 0.1)\n",
    "\n",
    "\n",
    "    Aspect = KNSfulldf[KNSfulldf['ImageNumber'] == imgnum].iloc[0]['Aspect (H/W)']\n",
    "    g.set_axis_labels('Normalized Anterior-Posterior Postition', 'Normalized Dorsal-Ventral Postition')\n",
    "    g.fig.set_figwidth(20)\n",
    "    g.fig.set_figheight(20*Aspect)\n",
    "\n",
    "    plt.legend(title = 'Cell Type', \n",
    "               labels= ['DAPI'], \n",
    "\n",
    "               bbox_to_anchor = (2.8, 1.1), \n",
    "               edgecolor = 'Black',\n",
    "               fontsize = 24,\n",
    "               title_fontsize=24)\n",
    "\n",
    "\n",
    "\n",
    "    #plt.title(KNSimagesdict[imgnum])\n",
    "    plt.savefig(savedir + KNSimagesdict[imgnum]  + '_DAPI.png' , bbox_inches = 'tight', dpi = 300)"
   ]
  },
  {
   "cell_type": "code",
   "execution_count": null,
   "metadata": {
    "scrolled": true
   },
   "outputs": [],
   "source": [
    "##Make one with DAPI and one without iteratively, and then overlay in illustrator\n",
    "#fig = plt.figure(figsize=(5,4), dpi =300)\n",
    "#ax1 = fig.add_axes([0,0,1,1])\n",
    "\n",
    "##Assign which image in the dataset you want to plot\n",
    "for imgnum in range(1,28):\n",
    "\n",
    "    celltypes = ['CT_Nos1_Spp1_Kcng2']\n",
    "\n",
    "\n",
    "    cmap = [KNSctcmdict[x] for x in celltypes]\n",
    "\n",
    "    g = sns.jointplot(data=KNSfulldf[(KNSfulldf['ImageNumber'] == imgnum) &  \n",
    "                          (KNSfulldf['CellType'].isin(celltypes))],\n",
    "                 x='NormalizedX',\n",
    "                 y='NormalizedY',\n",
    "                 hue = 'CellType',\n",
    "                 hue_order= celltypes,\n",
    "                 palette = cmap,\n",
    "                 xlim = (-0.2,1.2),\n",
    "                 ylim = (-0.2,1.2),\n",
    "                 s = 80,\n",
    "                 legend = False,\n",
    "                 linewidth = 0.1)\n",
    "\n",
    "\n",
    "    Aspect = KNSfulldf[KNSfulldf['ImageNumber'] == imgnum].iloc[0]['Aspect (H/W)']\n",
    "    g.set_axis_labels('Normalized Anterior-Posterior Postition', 'Normalized Dorsal-Ventral Postition')\n",
    "    g.fig.set_figwidth(20)\n",
    "    g.fig.set_figheight(20*Aspect)\n",
    "    \n",
    "    plt.legend(title = 'Cell Type', \n",
    "           labels= ['Nos1+Spp1+Kcng2'], \n",
    "\n",
    "           bbox_to_anchor = (2.8, 1.1), \n",
    "           edgecolor = 'Black',\n",
    "           fontsize = 24,\n",
    "           title_fontsize=24)\n",
    "\n",
    "\n",
    "\n",
    "\n",
    "    #plt.title(KNSimagesdict[imgnum])\n",
    "    #plt.savefig(savedir + KNSimagesdict[imgnum]  + '_TriplePosStubborn.png' , bbox_inches = 'tight', dpi = 300)"
   ]
  },
  {
   "cell_type": "code",
   "execution_count": null,
   "metadata": {},
   "outputs": [],
   "source": []
  },
  {
   "cell_type": "code",
   "execution_count": null,
   "metadata": {},
   "outputs": [],
   "source": []
  },
  {
   "cell_type": "markdown",
   "metadata": {},
   "source": [
    "# Gad2,Pax6,Kcng2------------------------------------------------------------"
   ]
  },
  {
   "cell_type": "code",
   "execution_count": null,
   "metadata": {},
   "outputs": [],
   "source": [
    "cd /Volumes/ryanKast/RKDATA/ConfocalData/SDC/RNAscope/V2/ZI/Sagittal/FINALSET_FIRSTTIER/Gad2_Pax6_Kcng2/CellProfilerOutput/3Mice_110222/"
   ]
  },
  {
   "cell_type": "code",
   "execution_count": null,
   "metadata": {},
   "outputs": [],
   "source": [
    "ls"
   ]
  },
  {
   "cell_type": "code",
   "execution_count": null,
   "metadata": {},
   "outputs": [],
   "source": [
    "GPKdatadir = './'\n",
    "normalized_anatomy_preCropped_NoMask(GPKdatadir)"
   ]
  },
  {
   "cell_type": "code",
   "execution_count": null,
   "metadata": {},
   "outputs": [],
   "source": [
    "savedir = '/Volumes/ryanKast/RKDATA/ConfocalData/SDC/RNAscope/V2/ZI/Sagittal/FINALSET_FIRSTTIER/PythonAnalysis/Plots/Gad2Pax6Kcng2/JointPlots/3Mice/'\n",
    "\n"
   ]
  },
  {
   "cell_type": "code",
   "execution_count": null,
   "metadata": {},
   "outputs": [],
   "source": [
    "normalizedlist = []\n",
    "for item in os.listdir(GPKdatadir):\n",
    "    if item.find('normalized') != -1:\n",
    "        normalizedlist.append(pd.read_csv(GPKdatadir+item))\n",
    "\n",
    "GPKfulldf = pd.concat(normalizedlist)\n",
    "GPKfulldf = GPKfulldf.reset_index()"
   ]
  },
  {
   "cell_type": "code",
   "execution_count": null,
   "metadata": {},
   "outputs": [],
   "source": [
    "GPKfulldf['CellType'].unique().tolist()"
   ]
  },
  {
   "cell_type": "code",
   "execution_count": null,
   "metadata": {},
   "outputs": [],
   "source": [
    "#Use named, discrete colors to create a custom colormap\n",
    "GPKcm = ['silver', 'darkturquoise', 'magenta', 'darkblue', 'white']\n",
    "\n",
    "#sns.set(font_scale = 2, style= 'white', palette = None)\n",
    "\n",
    "#Designate which Cell Types you want to plot\n",
    "GPKctlist = ['CT_Gad2only', 'CT_Pax6_Gad2', 'CT_Kcng2_Gad2', 'CT_Kcng2_Pax6_Gad2', 'CT_DAPI']\n",
    "\n",
    "GPKctcmdict = dict(zip(GPKctlist, GPKcm))"
   ]
  },
  {
   "cell_type": "code",
   "execution_count": null,
   "metadata": {},
   "outputs": [],
   "source": [
    "GPKimages = pd.read_csv('Kcng2Pax6Gad2_CellPoseGad2_110222Image.csv')"
   ]
  },
  {
   "cell_type": "code",
   "execution_count": null,
   "metadata": {},
   "outputs": [],
   "source": [
    "GPKimages = GPKimages[['ImageNumber', 'FileName_RAW']]"
   ]
  },
  {
   "cell_type": "code",
   "execution_count": null,
   "metadata": {},
   "outputs": [],
   "source": [
    "GPKimages['FileName_RAW'] = GPKimages['FileName_RAW'].str[4:16].tolist()\n"
   ]
  },
  {
   "cell_type": "code",
   "execution_count": null,
   "metadata": {},
   "outputs": [],
   "source": [
    "GPKimagesdict = dict(zip(GPKimages['ImageNumber'], GPKimages['FileName_RAW']))"
   ]
  },
  {
   "cell_type": "code",
   "execution_count": null,
   "metadata": {},
   "outputs": [],
   "source": [
    "GPKimagesdict[7]"
   ]
  },
  {
   "cell_type": "code",
   "execution_count": null,
   "metadata": {
    "scrolled": true
   },
   "outputs": [],
   "source": [
    "##Make one with DAPI and one without iteratively, and then overlay in illustrator\n",
    "#fig = plt.figure(figsize=(5,4), dpi =300)\n",
    "#ax1 = fig.add_axes([0,0,1,1])\n",
    "\n",
    "##Assign which image in the dataset you want to plot\n",
    "##Assign which image in the dataset you want to plot\n",
    "for imgnum in range(1,46):\n",
    "\n",
    "        celltypes =  ['CT_Gad2only',\n",
    "                     'CT_Kcng2_Gad2',\n",
    "                     'CT_Kcng2_Pax6_Gad2',\n",
    "                     'CT_Pax6_Gad2'] #,'CT_DAPI']\n",
    "\n",
    "        cmap = [GPKctcmdict[x] for x in celltypes]\n",
    "\n",
    "        g = sns.jointplot(data=GPKfulldf[(GPKfulldf['ImageNumber'] == imgnum) &  \n",
    "                              (GPKfulldf['CellType'].isin(celltypes))],\n",
    "                     x='NormalizedX',\n",
    "                     y='NormalizedY',\n",
    "                     hue = 'CellType',\n",
    "                     hue_order= celltypes,\n",
    "                     palette = cmap,\n",
    "                     xlim = (-0.2,1.2),\n",
    "                     ylim = (-0.2,1.2),\n",
    "                     s = 80,\n",
    "                     legend = False)\n",
    "\n",
    "\n",
    "        Aspect = GPKfulldf[GPKfulldf['ImageNumber'] == imgnum].iloc[0]['Aspect (H/W)']\n",
    "        g.set_axis_labels('Normalized Anterior-Posterior Postition', 'Normalized Dorsal-Ventral Postition')\n",
    "        g.fig.set_figwidth(20)\n",
    "        g.fig.set_figheight(20*Aspect)\n",
    "\n",
    "\n",
    "        plt.legend(title = 'Cell Type', \n",
    "                   labels = celltypes[-1::-1], \n",
    "                   bbox_to_anchor = (2.8, 1.1), \n",
    "                   edgecolor = 'Black')\n",
    "        #plt.title(GPKimagesdict[imgnum])\n",
    "        plt.savefig(savedir + GPKimagesdict[imgnum]  + '.svg' , bbox_inches = 'tight', transparent = True, dpi = 300)"
   ]
  },
  {
   "cell_type": "code",
   "execution_count": null,
   "metadata": {
    "scrolled": true
   },
   "outputs": [],
   "source": [
    "##Make one with DAPI and one without iteratively, and then overlay in illustrator\n",
    "#fig = plt.figure(figsize=(5,4), dpi =300)\n",
    "#ax1 = fig.add_axes([0,0,1,1])\n",
    "\n",
    "##Assign which image in the dataset you want to plot\n",
    "##Assign which image in the dataset you want to plot\n",
    "for imgnum in range(1,13):\n",
    "\n",
    "        celltypes =  ['CT_DAPI']\n",
    "\n",
    "        cmap = [GPKctcmdict[x] for x in celltypes]\n",
    "\n",
    "        g = sns.jointplot(data=GPKfulldf[(GPKfulldf['ImageNumber'] == imgnum) &  \n",
    "                              (GPKfulldf['CellType'].isin(celltypes))],\n",
    "                     x='NormalizedX',\n",
    "                     y='NormalizedY',\n",
    "                     hue = 'CellType',\n",
    "                     hue_order= celltypes,\n",
    "                     palette = ['lightgray'],\n",
    "                     xlim = (-0.2,1.2),\n",
    "                     ylim = (-0.2,1.2),\n",
    "                     s = 80,\n",
    "                     legend = False)\n",
    "\n",
    "\n",
    "        Aspect = GPKfulldf[GPKfulldf['ImageNumber'] == imgnum].iloc[0]['Aspect (H/W)']\n",
    "        g.set_axis_labels('Normalized Anterior-Posterior Postition', 'Normalized Dorsal-Ventral Postition')\n",
    "        g.fig.set_figwidth(20)\n",
    "        g.fig.set_figheight(20*Aspect)\n",
    "\n",
    "\n",
    "        plt.legend(title = 'Cell Type', \n",
    "                   labels = celltypes[-1::-1], \n",
    "                   bbox_to_anchor = (2.8, 1.1), \n",
    "                   edgecolor = 'Black')\n",
    "        #plt.title(GPKimagesdict[imgnum])\n",
    "        plt.savefig(GPKimagesdict[imgnum] + '_DAPI.svg' , bbox_inches = 'tight', transparent = True, dpi = 300)"
   ]
  },
  {
   "cell_type": "code",
   "execution_count": null,
   "metadata": {
    "scrolled": true
   },
   "outputs": [],
   "source": [
    "##Make one with DAPI and one without iteratively, and then overlay in illustrator\n",
    "#fig = plt.figure(figsize=(5,4), dpi =300)\n",
    "#ax1 = fig.add_axes([0,0,1,1])\n",
    "\n",
    "##Assign which image in the dataset you want to plot\n",
    "##Assign which image in the dataset you want to plot\n",
    "for imgnum in range(1,13):\n",
    "\n",
    "        celltypes =  ['CT_Kcng2_Pax6_Gad2']\n",
    "\n",
    "        cmap = [GPKctcmdict[x] for x in celltypes]\n",
    "\n",
    "        g = sns.jointplot(data=GPKfulldf[(GPKfulldf['ImageNumber'] == imgnum) &  \n",
    "                              (GPKfulldf['CellType'].isin(celltypes))],\n",
    "                     x='NormalizedX',\n",
    "                     y='NormalizedY',\n",
    "                     hue = 'CellType',\n",
    "                     hue_order= celltypes,\n",
    "                     palette = cmap,\n",
    "                     xlim = (-0.2,1.2),\n",
    "                     ylim = (-0.2,1.2),\n",
    "                     s = 80,\n",
    "                     legend = False)\n",
    "\n",
    "\n",
    "        Aspect = GPKfulldf[GPKfulldf['ImageNumber'] == imgnum].iloc[0]['Aspect (H/W)']\n",
    "        g.set_axis_labels('Normalized Anterior-Posterior Postition', 'Normalized Dorsal-Ventral Postition')\n",
    "        g.fig.set_figwidth(20)\n",
    "        g.fig.set_figheight(20*Aspect)\n",
    "\n",
    "\n",
    "        plt.legend(title = 'Cell Type', \n",
    "                   labels = celltypes[-1::-1], \n",
    "                   bbox_to_anchor = (2.8, 1.1), \n",
    "                   edgecolor = 'Black')\n",
    "        #plt.title(GPKimagesdict[imgnum])\n",
    "        plt.savefig(savedir + GPKimagesdict[imgnum] + '_TripPosStubborn.png' , bbox_inches = 'tight',transparent = True, dpi = 300)"
   ]
  },
  {
   "cell_type": "code",
   "execution_count": null,
   "metadata": {},
   "outputs": [],
   "source": []
  },
  {
   "cell_type": "markdown",
   "metadata": {},
   "source": [
    "# Pax6, Pmfbp1, Tacr3------------------------------------------------------------"
   ]
  },
  {
   "cell_type": "code",
   "execution_count": null,
   "metadata": {},
   "outputs": [],
   "source": [
    "cd /Volumes/ryanKast/RKDATA/ConfocalData/SDC/RNAscope/V2/ZI/Sagittal/FINALSET_FIRSTTIER/"
   ]
  },
  {
   "cell_type": "code",
   "execution_count": null,
   "metadata": {},
   "outputs": [],
   "source": [
    "cd Pax6_Tacr3_Pmfbp1/"
   ]
  },
  {
   "cell_type": "code",
   "execution_count": null,
   "metadata": {},
   "outputs": [],
   "source": [
    "PTPdatadir = 'Pax6_Tacr3_Pmfbp1/'\n",
    "normalizedlist = []\n",
    "for item in os.listdir(PTPdatadir):\n",
    "    if item.find('normalized') != -1:\n",
    "        normalizedlist.append(pd.read_csv(PTPdatadir+item))\n",
    "\n",
    "PTPfulldf = pd.concat(normalizedlist)\n",
    "PTPfulldf = PTPfulldf.reset_index()"
   ]
  },
  {
   "cell_type": "code",
   "execution_count": null,
   "metadata": {},
   "outputs": [],
   "source": [
    "PTPfulldf['CellType'].value_counts()"
   ]
  },
  {
   "cell_type": "code",
   "execution_count": null,
   "metadata": {},
   "outputs": [],
   "source": [
    "#Use named, discrete colors to create a custom colormap\n",
    "PTPcm = ['red', 'limegreen', 'darkviolet', 'darkorange', 'grey']\n",
    "\n",
    "#sns.set(font_scale = 2, style= 'white', palette = None)\n",
    "\n",
    "#Designate which Cell Types you want to plot\n",
    "PTPctlist = ['CT_Total_Gad2', 'CT_Pax6_Gad2', 'CT_Kcng2_Gad2', 'CT_Kcng2_Pax6_Gad2', 'DAPI']\n",
    "\n",
    "PTPctcmdict = dict(zip(PTPctlist, PTPcm))"
   ]
  },
  {
   "cell_type": "code",
   "execution_count": null,
   "metadata": {
    "scrolled": true
   },
   "outputs": [],
   "source": [
    "PTPimages = pd.read_csv('all_robustImage.csv')"
   ]
  },
  {
   "cell_type": "code",
   "execution_count": null,
   "metadata": {},
   "outputs": [],
   "source": [
    "imagesdict[imgnum]"
   ]
  },
  {
   "cell_type": "code",
   "execution_count": null,
   "metadata": {},
   "outputs": [],
   "source": [
    "GPKimages = GPKimages[['ImageNumber', 'FileName_RAW']]"
   ]
  },
  {
   "cell_type": "code",
   "execution_count": null,
   "metadata": {},
   "outputs": [],
   "source": [
    "GPKimages['FileName_RAW'] = GPKimages['FileName_RAW'].str[4:16].tolist()\n"
   ]
  },
  {
   "cell_type": "code",
   "execution_count": null,
   "metadata": {},
   "outputs": [],
   "source": [
    "GPKimagesdict = dict(zip(GPKimages['ImageNumber'], GPKimages['FileName_RAW']))"
   ]
  },
  {
   "cell_type": "code",
   "execution_count": null,
   "metadata": {},
   "outputs": [],
   "source": [
    "GPKimagesdict[7]"
   ]
  },
  {
   "cell_type": "code",
   "execution_count": null,
   "metadata": {
    "scrolled": true
   },
   "outputs": [],
   "source": [
    "##Make one with DAPI and one without iteratively, and then overlay in illustrator\n",
    "#fig = plt.figure(figsize=(5,4), dpi =300)\n",
    "#ax1 = fig.add_axes([0,0,1,1])\n",
    "\n",
    "##Assign which image in the dataset you want to plot\n",
    "imgnum = 8\n",
    "\n",
    "celltypes = ['CT_Total_Gad2']\n",
    "\n",
    "\n",
    "cmap = [GPKctcmdict[x] for x in celltypes]\n",
    "\n",
    "g = sns.jointplot(data=GPKfulldf[(GPKfulldf['ImageNumber'] == imgnum) &  \n",
    "                      (GPKfulldf['CellType'].isin(celltypes))],\n",
    "             x='NormalizedX',\n",
    "             y='NormalizedY',\n",
    "             hue = 'CellType',\n",
    "             hue_order= celltypes,\n",
    "             palette = cmap,\n",
    "             xlim = (-0.2,1.2),\n",
    "             ylim = (-0.2,1.2),\n",
    "             s = 80,\n",
    "             legend = False)\n",
    "\n",
    "\n",
    "Aspect = GPKfulldf[GPKfulldf['ImageNumber'] == imgnum].iloc[0]['Aspect (H/W)']\n",
    "g.set_axis_labels('Normalized Anterior-Posterior Postition', 'Normalized Dorsal-Ventral Postition')\n",
    "g.fig.set_figwidth(20)\n",
    "g.fig.set_figheight(20*Aspect)\n",
    "\n",
    "\n",
    "plt.legend(title = 'Cell Type', \n",
    "           labels = celltypes[-1::-1], \n",
    "           bbox_to_anchor = (2.8, 1.1), \n",
    "           edgecolor = 'Black')\n",
    "#plt.title(GPKimagesdict[imgnum])\n",
    "plt.savefig(GPKimagesdict[imgnum] + str(celltypes) + '.png' , bbox_inches = 'tight')"
   ]
  },
  {
   "cell_type": "code",
   "execution_count": null,
   "metadata": {},
   "outputs": [],
   "source": []
  },
  {
   "cell_type": "markdown",
   "metadata": {},
   "source": [
    "# Other Exploratory Options"
   ]
  },
  {
   "cell_type": "code",
   "execution_count": null,
   "metadata": {
    "scrolled": true
   },
   "outputs": [],
   "source": [
    "## Make the jointplot with DAPI in white (DAPI also needs to be first CT in the column) and \n",
    "## and include an edgecolor assignment, \n",
    "## and blow up the height to make the desired KDEs large enough\n",
    "\n",
    "\n",
    "cm = ['red', 'deepskyblue','gold', 'white']\n",
    "\n",
    "celltypes = ['CT_Kcng2_Nos1', 'CT_Kcng2_Spp1', 'CT_Kcng2_Nos1_Spp1','DAPI']\n",
    "\n",
    "sns.jointplot(data=fulldf[(fulldf['ImageNumber'] == 10) &  \n",
    "                      (fulldf['CellType'].isin(celltypes))].reindex(index=fulldf[(fulldf['ImageNumber'] == 10) &  \n",
    "                      (fulldf['CellType'].isin(celltypes))].index[::-1]),\n",
    "             x='NormalizedX',\n",
    "             y='NormalizedY',\n",
    "             hue = 'CellType',\n",
    "             hue_order= celltypes,\n",
    "             palette = cm[:len(celltypes)],\n",
    "             ratio=1,\n",
    "             height = 15,\n",
    "             space = 0.05,\n",
    "             edgecolor='grey')\n",
    "\n",
    "#handles, labels = g.ax_joint.get_legend_handles_labels()\n"
   ]
  },
  {
   "cell_type": "code",
   "execution_count": null,
   "metadata": {},
   "outputs": [],
   "source": [
    "cm = ['red', 'deepskyblue','gold', 'lightgrey' ]\n",
    "\n",
    "celltypes = ['CT_Kcng2_Nos1', 'CT_Kcng2_Spp1', 'CT_Kcng2_Nos1_Spp1',   'DAPI']\n",
    "\n",
    "\n",
    "sns.scatterplot(data=fulldf[(fulldf['ImageNumber'] == 4) &  \n",
    "                      (fulldf['CellType'].isin(celltypes))],\n",
    "             x='NormalizedX',\n",
    "             y='NormalizedY',\n",
    "             hue = 'CellType',\n",
    "             hue_order= celltypes,\n",
    "             palette = cm[:len(celltypes)],\n",
    "             alpha = 0.5)\n"
   ]
  },
  {
   "cell_type": "code",
   "execution_count": null,
   "metadata": {},
   "outputs": [],
   "source": [
    "penguins = sns.load_dataset('penguins')"
   ]
  },
  {
   "cell_type": "code",
   "execution_count": null,
   "metadata": {},
   "outputs": [],
   "source": [
    "fulldf"
   ]
  },
  {
   "cell_type": "code",
   "execution_count": null,
   "metadata": {},
   "outputs": [],
   "source": [
    "sns.FacetGrid()"
   ]
  },
  {
   "cell_type": "code",
   "execution_count": null,
   "metadata": {},
   "outputs": [],
   "source": [
    "cm = ['Red', 'deepskyblue','gold', 'lightgrey' ]\n",
    "\n",
    "celltypes = ['CT_Kcng2_Nos1', 'CT_Kcng2_Spp1', 'CT_Kcng2_Nos1_Spp1',  'DAPI']\n",
    "\n",
    "\n",
    "df2 = fulldf[fulldf['CellType'] == 'DAPI']\n",
    "\n",
    "graph = sns.FacetGrid(data=fulldf[(fulldf['ImageNumber'] == 3) &  \n",
    "                      (fulldf['CellType'].isin(celltypes[:-1]))])\n",
    "                        \n",
    "                        #hue = 'CellType',\n",
    "                        #hue_order= celltypes[:-1])\n",
    "            \n",
    "graph.map(sns.scatterplot(data=fulldf[(fulldf['ImageNumber'] == 3) &  \n",
    "                      (fulldf['CellType'].isin(celltypes[:-1]))],\n",
    "                       palette = cm[:len(celltypes[:-1])],\n",
    "                       #alpha = 0.8,\n",
    "                       hue = 'CellType',\n",
    "                       hue_order = celltypes[:-1],\n",
    "                       x='NormalizedX',\n",
    "                       y='NormalizedY'))\n",
    "          \n",
    "graph.x = df2[df2['ImageNumber'] == 3].NormalizedX\n",
    "graph.y = df2[df2['ImageNumber'] == 3].NormalizedY\n",
    "\n",
    "graph.plot_joint(plt.scatter, c='lightgrey', s=50)"
   ]
  },
  {
   "cell_type": "code",
   "execution_count": null,
   "metadata": {},
   "outputs": [],
   "source": [
    "df2"
   ]
  },
  {
   "cell_type": "code",
   "execution_count": null,
   "metadata": {},
   "outputs": [],
   "source": []
  },
  {
   "cell_type": "code",
   "execution_count": null,
   "metadata": {},
   "outputs": [],
   "source": [
    "\n",
    "pal = ['darkorange', 'darkviolet', 'limegreen', 'red']\n",
    "\n",
    "g = sns.FacetGrid(fulldf[(fulldf['ImageNumber'] == 3) & (fulldf['CellType'].isin(['CT_Kcng2_Pax6_Gad2', \n",
    "                                                    'CT_Kcng2_Gad2', \n",
    "                                                    'CT_Pax6_Gad2',\n",
    "                                                     'CT_Total_Gad2']))], \n",
    "                  row=\"CellType\", \n",
    "                  hue=\"CellType\",\n",
    "                  hue_order= ['CT_Kcng2_Pax6_Gad2', 'CT_Kcng2_Gad2','CT_Pax6_Gad2','CT_Total_Gad2'],\n",
    "                  row_order= ['CT_Kcng2_Pax6_Gad2', 'CT_Kcng2_Gad2','CT_Pax6_Gad2','CT_Total_Gad2'],\n",
    "                  aspect=5, \n",
    "                  height=2,\n",
    "                  palette = pal,\n",
    "                  )\n",
    "\n",
    "# Draw the densities in a few steps\n",
    "g.map(sns.kdeplot, \"NormalizedY\", bw_adjust= 1, clip_on=False, fill=True, alpha=1, linewidth=1)\n",
    "\n",
    "g.map(sns.kdeplot, \"NormalizedY\", clip_on=True, color=\"w\", lw=1, bw_adjust=1)\n",
    "g.map(plt.axhline, y=0, lw=2, clip_on=False)\n",
    "\n",
    "# Define and use a simple function to label the plot in axes coordinates\n",
    "def label(x, color, label):\n",
    "    ax = plt.gca()\n",
    "    ax.text(-0.2, .3, label, fontsize = 14, fontweight=\"bold\", color=color, ha=\"left\", va=\"center\", transform=ax.transAxes)\n",
    "\n",
    "\n",
    "g.map(label, \"NormalizedX\")\n",
    "\n",
    "# Set the subplots to overlap\n",
    "g.fig.subplots_adjust(hspace=1)\n",
    "\n",
    "# Remove axes details that don't play well with overlap\n",
    "g.set_titles(\"\")\n",
    "g.set(yticks=[])\n",
    "g.despine(bottom=True, left=True)\n"
   ]
  },
  {
   "cell_type": "code",
   "execution_count": null,
   "metadata": {},
   "outputs": [],
   "source": []
  },
  {
   "cell_type": "code",
   "execution_count": null,
   "metadata": {},
   "outputs": [],
   "source": []
  },
  {
   "cell_type": "code",
   "execution_count": null,
   "metadata": {},
   "outputs": [],
   "source": [
    "image = pd.read_csv('RNAscope_v1_RB_RB_O3Image.csv')\n",
    "\n",
    "imagepercentDF = pd.DataFrame(columns =[x for x in image.columns.tolist() if \n",
    "                                          (x.find('Count_') != -1) & \n",
    "                                          (x.find('Nuclei') == -1) &\n",
    "                                          (x.find('Mask') == -1)])\n",
    "\n",
    "for col in imagepercentDF.columns.tolist():\n",
    "    imagepercentDF[col] = image[col]\n",
    "\n",
    "for item in CT_columns:\n",
    "    if item.find('Total') == -1:\n",
    "        for value in CT_columns:\n",
    "            \n",
    "            imagepercentDF['Percent: ' + item + ' / ' + value] = image[item] / image[value]\n",
    "\n",
    "imagepercentDF.insert(0, 'FileName_RAW', image['FileName_RAW'])\n",
    "imagepercentDF.insert(0, 'ImageNumber', image['ImageNumber'])\n",
    "imagepercentDF.info()"
   ]
  },
  {
   "cell_type": "code",
   "execution_count": null,
   "metadata": {},
   "outputs": [],
   "source": [
    "mouse = image.sum()\n",
    "\n",
    "\n",
    "mousepercentDF = pd.Series(index =[x for x in mouse.index.tolist() if \n",
    "                                          (x.find('Count_') != -1) & \n",
    "                                          (x.find('Nuclei') == -1) &\n",
    "                                          (x.find('Mask') == -1)],dtype = 'float64')\n",
    "\n",
    "for col in mousepercentDF.index.tolist():\n",
    "    mousepercentDF[col] = mouse[col]\n",
    "\n",
    "for item in CT_columns:\n",
    "    if item.find('Total') == -1:\n",
    "        for value in CT_columns:\n",
    "            mousepercentDF['Percent: ' + item + ' / ' + value] = mouse[item] / mouse[value]\n",
    "\n",
    "\n",
    "mousepercentDF"
   ]
  },
  {
   "cell_type": "code",
   "execution_count": null,
   "metadata": {},
   "outputs": [],
   "source": [
    "#cm = ['darkorange','limegreen', 'darkviolet']\n",
    "sns.(data=fulldf, # &  (fulldf['CellType'].isin())], \n",
    "             x_vars='NormalizedX',\n",
    "             y_vars='NormalizedY',\n",
    "             hue = 'CellType',\n",
    "             #alpha = 0.5,\n",
    "             #palette = cm\n",
    "             )"
   ]
  },
  {
   "cell_type": "code",
   "execution_count": null,
   "metadata": {},
   "outputs": [],
   "source": [
    "mousepercentDF['Gad2+ (SinglePositive)'] = 1 - (mousepercentDF['Percent: Count_Kcng2_Gad2 / Count_Total_Gad2'] +\n",
    "                                            mousepercentDF['Percent: Count_Pax6_Gad2 / Count_Total_Gad2'])\n"
   ]
  },
  {
   "cell_type": "code",
   "execution_count": null,
   "metadata": {},
   "outputs": [],
   "source": [
    "mousepercentDF['Gad2+ (SinglePositive)'] = mousepercentDF['Count_Total_Gad2'] - (mousepercentDF['Count_Kcng2_Gad2'] + mousepercentDF['Count_Pax6_Gad2'])"
   ]
  },
  {
   "cell_type": "code",
   "execution_count": null,
   "metadata": {},
   "outputs": [],
   "source": [
    "plt.figure(figsize = (5,5), dpi =300)\n",
    "cm = ['darkviolet', 'darkorange','limegreen', 'lightgray']\n",
    "labelz = ['Kcng2+Gad2+/Gad2+', 'Kcng2+Pax6+Gad2+/Gad2+', 'Pax6+Gad2+/Gad2+', 'Gad2+ (SinglePositive)']\n",
    "piedata = mousepercentDF.loc[mousepercentDF.index.isin(['Percent: Count_Kcng2_Gad2 / Count_Total_Gad2', \n",
    "                                   'Percent: Count_Pax6_Gad2 / Count_Total_Gad2', \n",
    "                                   'Percent: Count_Kcng2_Pax6_Gad2 / Count_Total_Gad2',\n",
    "                                    'Gad2+ (SinglePositive)'])]\n",
    "#explode = (0.1,0.1,0.1)\n",
    "plt.pie(piedata,\n",
    "         colors = cm,\n",
    "         startangle=90,\n",
    "         autopct = '%1.1f%%')\n",
    "\n",
    "plt.legend(bbox_to_anchor = [1,0.6],labels=labelz)\n",
    "plt.title('Relative Sizes of\\nDistinct Molecular Subtypes\\nof Gad2+ ZI Neurons (MouseID = 7200-2)',)                              \n",
    "plt.show()                             "
   ]
  },
  {
   "cell_type": "code",
   "execution_count": null,
   "metadata": {},
   "outputs": [],
   "source": [
    "plt.figure(figsize = (5,5), dpi =300)\n",
    "cm = ['darkviolet', 'darkorange','limegreen', 'lightgray']\n",
    "labelz = ['Kcng2+Gad2+ / Gad2+', 'Kcng2+Pax6+Gad2+ / Gad2+', 'Pax6+Gad2+ / Gad2+']\n",
    "piedata = mousepercentDF.loc[mousepercentDF.index.isin(['Percent: Count_Kcng2_Gad2 / Count_Total_Gad2', \n",
    "                                   'Percent: Count_Pax6_Gad2 / Count_Total_Gad2', \n",
    "                                   'Percent: Count_Kcng2_Pax6_Gad2 / Count_Total_Gad2',\n",
    "                                    ])]\n",
    "#explode = (0.1,0.1,0.1)\n",
    "plt.pie(piedata,\n",
    "         #labels = labelz,\n",
    "         colors = cm,\n",
    "         startangle=90,\n",
    "         autopct = '%1.1f%%')\n",
    "                                \n",
    "plt.legend(bbox_to_anchor = [1,0.6],labels=labelz)\n",
    "plt.show()                             "
   ]
  },
  {
   "cell_type": "code",
   "execution_count": null,
   "metadata": {},
   "outputs": [],
   "source": [
    "mousepercentDF.index.isin(['Percent: Count_Kcng2_Gad2 / Count_Total_Gad2', 'Percent: Count_Pax6_Gad2 / Count_Total_Gad2', 'Percent: Count_Kcng2_Pax6_Gad2 / Count_Total_Gad2'])"
   ]
  },
  {
   "cell_type": "code",
   "execution_count": null,
   "metadata": {},
   "outputs": [],
   "source": [
    "mousepercentDF.index"
   ]
  },
  {
   "cell_type": "code",
   "execution_count": null,
   "metadata": {},
   "outputs": [],
   "source": [
    "plt.figure(figsize = (5,5), dpi =300)\n",
    "cm = ['darkviolet', 'darkorange','limegreen', 'lightgray']\n",
    "labelz = ['Kcng2+Gad2+/Gad2+', 'Kcng2+Pax6+Gad2+/Gad2+', 'Pax6+Gad2+/Gad2+', 'Gad2+ (SinglePositive)']\n",
    "piedata = mousepercentDF.loc[mousepercentDF.index.isin(['Count_Kcng2_Gad2', \n",
    "                                   'Count_Pax6_Gad2', \n",
    "                                   'Count_Kcng2_Pax6_Gad2',\n",
    "                                    'Gad2+ (SinglePositive)'])]\n",
    "#explode = (0.1,0.1,0.1)\n",
    "plt.pie(piedata,\n",
    "         colors = cm,\n",
    "         startangle=90,\n",
    "         autopct = '%1.1f%%')\n",
    "\n",
    "plt.legend(bbox_to_anchor = [1,0.6],labels=labelz)\n",
    "plt.title('Relative Sizes of\\nDistinct Molecular Subtypes\\nof Gad2+ ZI Neurons (Mouse ID = 7200-2)',)                              \n",
    "plt.show()                             "
   ]
  },
  {
   "cell_type": "code",
   "execution_count": null,
   "metadata": {},
   "outputs": [],
   "source": []
  }
 ],
 "metadata": {
  "celltoolbar": "Raw Cell Format",
  "kernelspec": {
   "display_name": "Python 3",
   "language": "python",
   "name": "python3"
  },
  "language_info": {
   "codemirror_mode": {
    "name": "ipython",
    "version": 3
   },
   "file_extension": ".py",
   "mimetype": "text/x-python",
   "name": "python",
   "nbconvert_exporter": "python",
   "pygments_lexer": "ipython3",
   "version": "3.7.3"
  }
 },
 "nbformat": 4,
 "nbformat_minor": 4
}
