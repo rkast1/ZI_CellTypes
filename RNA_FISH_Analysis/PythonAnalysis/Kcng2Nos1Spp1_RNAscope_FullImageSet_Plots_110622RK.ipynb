{
 "cells": [
  {
   "cell_type": "markdown",
   "metadata": {},
   "source": [
    "# Outline\n",
    "\n",
    "## Make linegraphs to plot numbers and or percentages of various molecularly defined cell types as a function of mediolateral position within the ZI\n"
   ]
  },
  {
   "cell_type": "code",
   "execution_count": 1,
   "metadata": {},
   "outputs": [],
   "source": [
    "import os\n",
    "import numpy as np\n",
    "import pandas as pd\n",
    "\n",
    "import matplotlib.pyplot as plt\n",
    "import seaborn as sns\n",
    "\n",
    "import plotly.express as px\n",
    "import plotly.graph_objects as go\n",
    "import plotly.io as pio"
   ]
  },
  {
   "cell_type": "code",
   "execution_count": null,
   "metadata": {},
   "outputs": [],
   "source": []
  },
  {
   "cell_type": "code",
   "execution_count": null,
   "metadata": {},
   "outputs": [],
   "source": []
  },
  {
   "cell_type": "markdown",
   "metadata": {},
   "source": [
    "# Make DataFrames from: \n",
    "## 1) Cell Profiler Output Image.csv\n",
    "## 2) .csv containing the file names and their associated mediolateral positions"
   ]
  },
  {
   "cell_type": "code",
   "execution_count": 2,
   "metadata": {},
   "outputs": [],
   "source": [
    "cellprofilerDF = pd.read_csv('/Volumes/ryanKast/RKDATA/ConfocalData/SDC/RNAscope/V2/ZI/Sagittal/FINALSET_FIRSTTIER/Spp1_Nos1_Kcng2/CellProfilerOutput/Spp1_ii24_Nos1_ii36/Spp1Nos1Kcng2_CellPoseKcng2_092122Image.csv')\n",
    "filename_MLpositionDF = pd.read_csv(\"/Volumes/ryanKast/RKDATA/ConfocalData/SDC/RNAscope/V2/ZI/Sagittal/FINALSET_FIRSTTIER/RNAscope_Filename_MLposition.csv\")\n"
   ]
  },
  {
   "cell_type": "code",
   "execution_count": null,
   "metadata": {},
   "outputs": [],
   "source": []
  },
  {
   "cell_type": "code",
   "execution_count": 3,
   "metadata": {},
   "outputs": [],
   "source": [
    "whichimages = pd.read_csv('/Volumes/ryanKast/RKDATA/ConfocalData/SDC/RNAscope/V2/ZI/Sagittal/FINALSET_FIRSTTIER/PythonAnalysis/ImageSetLevel/Kcng2Nos1Spp1_ImagesLimited.csv')\n"
   ]
  },
  {
   "cell_type": "code",
   "execution_count": 4,
   "metadata": {},
   "outputs": [],
   "source": [
    "theseimages = [i[:16] + '_4ChannelCropped.tif' for i in whichimages['Filename'].tolist()]"
   ]
  },
  {
   "cell_type": "code",
   "execution_count": 5,
   "metadata": {},
   "outputs": [
    {
     "data": {
      "text/plain": [
       "['MAX_6700-1-1A-S3_4ChannelCropped.tif',\n",
       " 'MAX_6700-1-1A-S4_4ChannelCropped.tif',\n",
       " 'MAX_6700-1-2A-S3_4ChannelCropped.tif',\n",
       " 'MAX_6700-1-2A-S4_4ChannelCropped.tif',\n",
       " 'MAX_6700-1-3A-S1_4ChannelCropped.tif',\n",
       " 'MAX_6700-1-3A-S3_4ChannelCropped.tif',\n",
       " 'MAX_6700-1-4A-S2_4ChannelCropped.tif',\n",
       " 'MAX_6700-1-4A-S3_4ChannelCropped.tif',\n",
       " 'MAX_6700-2-1A-S3_4ChannelCropped.tif',\n",
       " 'MAX_6700-2-1A-S4_4ChannelCropped.tif',\n",
       " 'MAX_6700-2-2A-S2_4ChannelCropped.tif',\n",
       " 'MAX_6700-2-2A-S4_4ChannelCropped.tif',\n",
       " 'MAX_6700-2-3A-S2_4ChannelCropped.tif',\n",
       " 'MAX_6700-2-3A-S4_4ChannelCropped.tif',\n",
       " 'MAX_6700-2-4A-S1_4ChannelCropped.tif',\n",
       " 'MAX_6700-2-4A-S2_4ChannelCropped.tif',\n",
       " 'MAX_7200-1-1D-S2_4ChannelCropped.tif',\n",
       " 'MAX_7200-1-1D-S4_4ChannelCropped.tif',\n",
       " 'MAX_7200-1-2D-S2_4ChannelCropped.tif',\n",
       " 'MAX_7200-1-2D-S3_4ChannelCropped.tif',\n",
       " 'MAX_7200-1-3D-S2_4ChannelCropped.tif',\n",
       " 'MAX_7200-1-3D-S4_4ChannelCropped.tif',\n",
       " 'MAX_7200-1-4D-S1_4ChannelCropped.tif',\n",
       " 'MAX_7200-1-4D-S3_4ChannelCropped.tif']"
      ]
     },
     "execution_count": 5,
     "metadata": {},
     "output_type": "execute_result"
    }
   ],
   "source": [
    "theseimages"
   ]
  },
  {
   "cell_type": "code",
   "execution_count": 6,
   "metadata": {},
   "outputs": [],
   "source": [
    "CTlist = [i for i in cellprofilerDF.columns.tolist() if (i.find('Count_CT_') != -1) & \n",
    "                                               (i.find('DAPI') == -1) &\n",
    "                                               (i.find('neg') == -1)] \n",
    "\n",
    "ParentProbe = [i for i in CTlist if i.find('Neurons') != -1][0]"
   ]
  },
  {
   "cell_type": "code",
   "execution_count": 7,
   "metadata": {},
   "outputs": [
    {
     "data": {
      "text/plain": [
       "['Count_CT_Kcng2Neurons',\n",
       " 'Count_CT_Kcng2only',\n",
       " 'Count_CT_Nos1_Kcng2',\n",
       " 'Count_CT_Nos1_Spp1_Kcng2',\n",
       " 'Count_CT_Spp1_Kcng2']"
      ]
     },
     "execution_count": 7,
     "metadata": {},
     "output_type": "execute_result"
    }
   ],
   "source": [
    "CTlist"
   ]
  },
  {
   "cell_type": "code",
   "execution_count": 8,
   "metadata": {},
   "outputs": [],
   "source": [
    "cellprofilerDF = cellprofilerDF[cellprofilerDF['FileName_RAW'].isin(theseimages)]"
   ]
  },
  {
   "cell_type": "code",
   "execution_count": 9,
   "metadata": {},
   "outputs": [
    {
     "data": {
      "text/html": [
       "<div>\n",
       "<style scoped>\n",
       "    .dataframe tbody tr th:only-of-type {\n",
       "        vertical-align: middle;\n",
       "    }\n",
       "\n",
       "    .dataframe tbody tr th {\n",
       "        vertical-align: top;\n",
       "    }\n",
       "\n",
       "    .dataframe thead th {\n",
       "        text-align: right;\n",
       "    }\n",
       "</style>\n",
       "<table border=\"1\" class=\"dataframe\">\n",
       "  <thead>\n",
       "    <tr style=\"text-align: right;\">\n",
       "      <th></th>\n",
       "      <th>Count_CT_DAPI</th>\n",
       "      <th>Count_CT_Kcng2Neurons</th>\n",
       "      <th>Count_CT_Kcng2_Nos1neg</th>\n",
       "      <th>Count_CT_Kcng2only</th>\n",
       "      <th>Count_CT_Nos1_Kcng2</th>\n",
       "      <th>Count_CT_Nos1_Spp1_Kcng2</th>\n",
       "      <th>Count_CT_Spp1_Kcng2</th>\n",
       "      <th>ExecutionTime_01Images</th>\n",
       "      <th>ExecutionTime_02Metadata</th>\n",
       "      <th>ExecutionTime_03NamesAndTypes</th>\n",
       "      <th>...</th>\n",
       "      <th>Threshold_SumOfEntropies_Spp1Robust</th>\n",
       "      <th>Threshold_WeightedVariance_CT_DAPI</th>\n",
       "      <th>Threshold_WeightedVariance_CT_Kcng2Neurons</th>\n",
       "      <th>Threshold_WeightedVariance_Kcng2Robust</th>\n",
       "      <th>Threshold_WeightedVariance_Nos1Robust</th>\n",
       "      <th>Threshold_WeightedVariance_Spp1Robust</th>\n",
       "      <th>URL_CellPoseMasks</th>\n",
       "      <th>URL_RAW</th>\n",
       "      <th>Width_CellPoseMasks</th>\n",
       "      <th>Width_RAW</th>\n",
       "    </tr>\n",
       "  </thead>\n",
       "  <tbody>\n",
       "    <tr>\n",
       "      <th>0</th>\n",
       "      <td>2739.0</td>\n",
       "      <td>142.0</td>\n",
       "      <td>77.0</td>\n",
       "      <td>69.0</td>\n",
       "      <td>65.0</td>\n",
       "      <td>6.0</td>\n",
       "      <td>14.0</td>\n",
       "      <td>0.0</td>\n",
       "      <td>0.0</td>\n",
       "      <td>1.45</td>\n",
       "      <td>...</td>\n",
       "      <td>-10.305529</td>\n",
       "      <td>8.811956</td>\n",
       "      <td>0.137278</td>\n",
       "      <td>7.260870</td>\n",
       "      <td>2.254774</td>\n",
       "      <td>4.506730</td>\n",
       "      <td>file:/mnt/share/RKDATA/ConfocalData/SDC/RNAsco...</td>\n",
       "      <td>file:/mnt/share/RKDATA/ConfocalData/SDC/RNAsco...</td>\n",
       "      <td>1521</td>\n",
       "      <td>1521</td>\n",
       "    </tr>\n",
       "    <tr>\n",
       "      <th>1</th>\n",
       "      <td>2418.0</td>\n",
       "      <td>113.0</td>\n",
       "      <td>70.0</td>\n",
       "      <td>54.0</td>\n",
       "      <td>43.0</td>\n",
       "      <td>4.0</td>\n",
       "      <td>20.0</td>\n",
       "      <td>0.0</td>\n",
       "      <td>0.0</td>\n",
       "      <td>1.50</td>\n",
       "      <td>...</td>\n",
       "      <td>-11.587136</td>\n",
       "      <td>7.998126</td>\n",
       "      <td>0.117179</td>\n",
       "      <td>7.028352</td>\n",
       "      <td>2.029204</td>\n",
       "      <td>4.086371</td>\n",
       "      <td>file:/mnt/share/RKDATA/ConfocalData/SDC/RNAsco...</td>\n",
       "      <td>file:/mnt/share/RKDATA/ConfocalData/SDC/RNAsco...</td>\n",
       "      <td>1836</td>\n",
       "      <td>1836</td>\n",
       "    </tr>\n",
       "    <tr>\n",
       "      <th>2</th>\n",
       "      <td>2542.0</td>\n",
       "      <td>106.0</td>\n",
       "      <td>43.0</td>\n",
       "      <td>30.0</td>\n",
       "      <td>63.0</td>\n",
       "      <td>2.0</td>\n",
       "      <td>15.0</td>\n",
       "      <td>0.0</td>\n",
       "      <td>0.0</td>\n",
       "      <td>1.53</td>\n",
       "      <td>...</td>\n",
       "      <td>-11.422067</td>\n",
       "      <td>8.033294</td>\n",
       "      <td>0.113737</td>\n",
       "      <td>6.464472</td>\n",
       "      <td>2.089958</td>\n",
       "      <td>3.978368</td>\n",
       "      <td>file:/mnt/share/RKDATA/ConfocalData/SDC/RNAsco...</td>\n",
       "      <td>file:/mnt/share/RKDATA/ConfocalData/SDC/RNAsco...</td>\n",
       "      <td>1640</td>\n",
       "      <td>1640</td>\n",
       "    </tr>\n",
       "    <tr>\n",
       "      <th>3</th>\n",
       "      <td>3001.0</td>\n",
       "      <td>132.0</td>\n",
       "      <td>63.0</td>\n",
       "      <td>47.0</td>\n",
       "      <td>69.0</td>\n",
       "      <td>6.0</td>\n",
       "      <td>22.0</td>\n",
       "      <td>0.0</td>\n",
       "      <td>0.0</td>\n",
       "      <td>1.62</td>\n",
       "      <td>...</td>\n",
       "      <td>-11.967962</td>\n",
       "      <td>6.571112</td>\n",
       "      <td>0.104585</td>\n",
       "      <td>6.840483</td>\n",
       "      <td>1.855045</td>\n",
       "      <td>3.403072</td>\n",
       "      <td>file:/mnt/share/RKDATA/ConfocalData/SDC/RNAsco...</td>\n",
       "      <td>file:/mnt/share/RKDATA/ConfocalData/SDC/RNAsco...</td>\n",
       "      <td>1916</td>\n",
       "      <td>1916</td>\n",
       "    </tr>\n",
       "    <tr>\n",
       "      <th>4</th>\n",
       "      <td>2835.0</td>\n",
       "      <td>149.0</td>\n",
       "      <td>54.0</td>\n",
       "      <td>45.0</td>\n",
       "      <td>95.0</td>\n",
       "      <td>13.0</td>\n",
       "      <td>22.0</td>\n",
       "      <td>0.0</td>\n",
       "      <td>0.0</td>\n",
       "      <td>1.63</td>\n",
       "      <td>...</td>\n",
       "      <td>-12.037119</td>\n",
       "      <td>6.973766</td>\n",
       "      <td>0.107801</td>\n",
       "      <td>6.541238</td>\n",
       "      <td>1.999478</td>\n",
       "      <td>3.722931</td>\n",
       "      <td>file:/mnt/share/RKDATA/ConfocalData/SDC/RNAsco...</td>\n",
       "      <td>file:/mnt/share/RKDATA/ConfocalData/SDC/RNAsco...</td>\n",
       "      <td>1972</td>\n",
       "      <td>1972</td>\n",
       "    </tr>\n",
       "    <tr>\n",
       "      <th>5</th>\n",
       "      <td>2918.0</td>\n",
       "      <td>119.0</td>\n",
       "      <td>107.0</td>\n",
       "      <td>94.0</td>\n",
       "      <td>12.0</td>\n",
       "      <td>0.0</td>\n",
       "      <td>13.0</td>\n",
       "      <td>0.0</td>\n",
       "      <td>0.0</td>\n",
       "      <td>1.47</td>\n",
       "      <td>...</td>\n",
       "      <td>-10.267375</td>\n",
       "      <td>10.522882</td>\n",
       "      <td>0.107062</td>\n",
       "      <td>4.213874</td>\n",
       "      <td>1.300930</td>\n",
       "      <td>2.774641</td>\n",
       "      <td>file:/mnt/share/RKDATA/ConfocalData/SDC/RNAsco...</td>\n",
       "      <td>file:/mnt/share/RKDATA/ConfocalData/SDC/RNAsco...</td>\n",
       "      <td>1653</td>\n",
       "      <td>1968</td>\n",
       "    </tr>\n",
       "    <tr>\n",
       "      <th>6</th>\n",
       "      <td>947.0</td>\n",
       "      <td>58.0</td>\n",
       "      <td>40.0</td>\n",
       "      <td>39.0</td>\n",
       "      <td>18.0</td>\n",
       "      <td>0.0</td>\n",
       "      <td>1.0</td>\n",
       "      <td>0.0</td>\n",
       "      <td>0.0</td>\n",
       "      <td>0.70</td>\n",
       "      <td>...</td>\n",
       "      <td>-10.889648</td>\n",
       "      <td>7.115723</td>\n",
       "      <td>0.120216</td>\n",
       "      <td>7.074494</td>\n",
       "      <td>2.058146</td>\n",
       "      <td>3.676885</td>\n",
       "      <td>file:/mnt/share/RKDATA/ConfocalData/SDC/RNAsco...</td>\n",
       "      <td>file:/mnt/share/RKDATA/ConfocalData/SDC/RNAsco...</td>\n",
       "      <td>1407</td>\n",
       "      <td>1407</td>\n",
       "    </tr>\n",
       "    <tr>\n",
       "      <th>7</th>\n",
       "      <td>599.0</td>\n",
       "      <td>45.0</td>\n",
       "      <td>42.0</td>\n",
       "      <td>36.0</td>\n",
       "      <td>3.0</td>\n",
       "      <td>0.0</td>\n",
       "      <td>6.0</td>\n",
       "      <td>0.0</td>\n",
       "      <td>0.0</td>\n",
       "      <td>0.85</td>\n",
       "      <td>...</td>\n",
       "      <td>-7.521155</td>\n",
       "      <td>9.597162</td>\n",
       "      <td>0.162252</td>\n",
       "      <td>5.969981</td>\n",
       "      <td>1.627235</td>\n",
       "      <td>5.345300</td>\n",
       "      <td>file:/mnt/share/RKDATA/ConfocalData/SDC/RNAsco...</td>\n",
       "      <td>file:/mnt/share/RKDATA/ConfocalData/SDC/RNAsco...</td>\n",
       "      <td>1425</td>\n",
       "      <td>1425</td>\n",
       "    </tr>\n",
       "    <tr>\n",
       "      <th>8</th>\n",
       "      <td>2591.0</td>\n",
       "      <td>121.0</td>\n",
       "      <td>73.0</td>\n",
       "      <td>60.0</td>\n",
       "      <td>48.0</td>\n",
       "      <td>3.0</td>\n",
       "      <td>16.0</td>\n",
       "      <td>0.0</td>\n",
       "      <td>0.0</td>\n",
       "      <td>0.48</td>\n",
       "      <td>...</td>\n",
       "      <td>-11.677204</td>\n",
       "      <td>7.935213</td>\n",
       "      <td>0.103235</td>\n",
       "      <td>7.058188</td>\n",
       "      <td>1.888093</td>\n",
       "      <td>4.204057</td>\n",
       "      <td>file:/mnt/share/RKDATA/ConfocalData/SDC/RNAsco...</td>\n",
       "      <td>file:/mnt/share/RKDATA/ConfocalData/SDC/RNAsco...</td>\n",
       "      <td>1749</td>\n",
       "      <td>1749</td>\n",
       "    </tr>\n",
       "    <tr>\n",
       "      <th>9</th>\n",
       "      <td>2705.0</td>\n",
       "      <td>113.0</td>\n",
       "      <td>52.0</td>\n",
       "      <td>46.0</td>\n",
       "      <td>61.0</td>\n",
       "      <td>2.0</td>\n",
       "      <td>8.0</td>\n",
       "      <td>0.0</td>\n",
       "      <td>0.0</td>\n",
       "      <td>1.24</td>\n",
       "      <td>...</td>\n",
       "      <td>-11.476096</td>\n",
       "      <td>8.033285</td>\n",
       "      <td>0.107081</td>\n",
       "      <td>7.833171</td>\n",
       "      <td>1.838217</td>\n",
       "      <td>3.680717</td>\n",
       "      <td>file:/mnt/share/RKDATA/ConfocalData/SDC/RNAsco...</td>\n",
       "      <td>file:/mnt/share/RKDATA/ConfocalData/SDC/RNAsco...</td>\n",
       "      <td>1743</td>\n",
       "      <td>1743</td>\n",
       "    </tr>\n",
       "    <tr>\n",
       "      <th>10</th>\n",
       "      <td>3026.0</td>\n",
       "      <td>141.0</td>\n",
       "      <td>48.0</td>\n",
       "      <td>32.0</td>\n",
       "      <td>93.0</td>\n",
       "      <td>12.0</td>\n",
       "      <td>28.0</td>\n",
       "      <td>0.0</td>\n",
       "      <td>0.0</td>\n",
       "      <td>1.29</td>\n",
       "      <td>...</td>\n",
       "      <td>-11.579301</td>\n",
       "      <td>4.936897</td>\n",
       "      <td>0.093292</td>\n",
       "      <td>6.326516</td>\n",
       "      <td>1.800418</td>\n",
       "      <td>3.468478</td>\n",
       "      <td>file:/mnt/share/RKDATA/ConfocalData/SDC/RNAsco...</td>\n",
       "      <td>file:/mnt/share/RKDATA/ConfocalData/SDC/RNAsco...</td>\n",
       "      <td>1830</td>\n",
       "      <td>1830</td>\n",
       "    </tr>\n",
       "    <tr>\n",
       "      <th>11</th>\n",
       "      <td>2184.0</td>\n",
       "      <td>130.0</td>\n",
       "      <td>56.0</td>\n",
       "      <td>44.0</td>\n",
       "      <td>74.0</td>\n",
       "      <td>15.0</td>\n",
       "      <td>27.0</td>\n",
       "      <td>0.0</td>\n",
       "      <td>0.0</td>\n",
       "      <td>1.11</td>\n",
       "      <td>...</td>\n",
       "      <td>-10.997786</td>\n",
       "      <td>5.975019</td>\n",
       "      <td>0.114625</td>\n",
       "      <td>7.304202</td>\n",
       "      <td>2.174767</td>\n",
       "      <td>4.148105</td>\n",
       "      <td>file:/mnt/share/RKDATA/ConfocalData/SDC/RNAsco...</td>\n",
       "      <td>file:/mnt/share/RKDATA/ConfocalData/SDC/RNAsco...</td>\n",
       "      <td>1788</td>\n",
       "      <td>1788</td>\n",
       "    </tr>\n",
       "    <tr>\n",
       "      <th>12</th>\n",
       "      <td>2395.0</td>\n",
       "      <td>128.0</td>\n",
       "      <td>82.0</td>\n",
       "      <td>77.0</td>\n",
       "      <td>46.0</td>\n",
       "      <td>5.0</td>\n",
       "      <td>10.0</td>\n",
       "      <td>0.0</td>\n",
       "      <td>0.0</td>\n",
       "      <td>1.46</td>\n",
       "      <td>...</td>\n",
       "      <td>-11.260307</td>\n",
       "      <td>5.412770</td>\n",
       "      <td>0.079189</td>\n",
       "      <td>6.413738</td>\n",
       "      <td>1.833386</td>\n",
       "      <td>4.105193</td>\n",
       "      <td>file:/mnt/share/RKDATA/ConfocalData/SDC/RNAsco...</td>\n",
       "      <td>file:/mnt/share/RKDATA/ConfocalData/SDC/RNAsco...</td>\n",
       "      <td>1724</td>\n",
       "      <td>1724</td>\n",
       "    </tr>\n",
       "    <tr>\n",
       "      <th>13</th>\n",
       "      <td>1189.0</td>\n",
       "      <td>56.0</td>\n",
       "      <td>35.0</td>\n",
       "      <td>27.0</td>\n",
       "      <td>21.0</td>\n",
       "      <td>1.0</td>\n",
       "      <td>9.0</td>\n",
       "      <td>0.0</td>\n",
       "      <td>0.0</td>\n",
       "      <td>0.82</td>\n",
       "      <td>...</td>\n",
       "      <td>-8.471102</td>\n",
       "      <td>7.479310</td>\n",
       "      <td>0.093241</td>\n",
       "      <td>5.583330</td>\n",
       "      <td>1.617312</td>\n",
       "      <td>3.192279</td>\n",
       "      <td>file:/mnt/share/RKDATA/ConfocalData/SDC/RNAsco...</td>\n",
       "      <td>file:/mnt/share/RKDATA/ConfocalData/SDC/RNAsco...</td>\n",
       "      <td>1576</td>\n",
       "      <td>1576</td>\n",
       "    </tr>\n",
       "    <tr>\n",
       "      <th>14</th>\n",
       "      <td>802.0</td>\n",
       "      <td>38.0</td>\n",
       "      <td>27.0</td>\n",
       "      <td>21.0</td>\n",
       "      <td>11.0</td>\n",
       "      <td>4.0</td>\n",
       "      <td>10.0</td>\n",
       "      <td>0.0</td>\n",
       "      <td>0.0</td>\n",
       "      <td>0.77</td>\n",
       "      <td>...</td>\n",
       "      <td>-11.453952</td>\n",
       "      <td>7.862620</td>\n",
       "      <td>0.104106</td>\n",
       "      <td>5.460125</td>\n",
       "      <td>1.825357</td>\n",
       "      <td>3.742061</td>\n",
       "      <td>file:/mnt/share/RKDATA/ConfocalData/SDC/RNAsco...</td>\n",
       "      <td>file:/mnt/share/RKDATA/ConfocalData/SDC/RNAsco...</td>\n",
       "      <td>1300</td>\n",
       "      <td>1300</td>\n",
       "    </tr>\n",
       "    <tr>\n",
       "      <th>15</th>\n",
       "      <td>1435.0</td>\n",
       "      <td>128.0</td>\n",
       "      <td>81.0</td>\n",
       "      <td>70.0</td>\n",
       "      <td>47.0</td>\n",
       "      <td>3.0</td>\n",
       "      <td>14.0</td>\n",
       "      <td>0.0</td>\n",
       "      <td>0.0</td>\n",
       "      <td>1.21</td>\n",
       "      <td>...</td>\n",
       "      <td>-11.559422</td>\n",
       "      <td>2.844144</td>\n",
       "      <td>0.127372</td>\n",
       "      <td>2.134211</td>\n",
       "      <td>0.989614</td>\n",
       "      <td>1.288039</td>\n",
       "      <td>file:/mnt/share/RKDATA/ConfocalData/SDC/RNAsco...</td>\n",
       "      <td>file:/mnt/share/RKDATA/ConfocalData/SDC/RNAsco...</td>\n",
       "      <td>1522</td>\n",
       "      <td>1522</td>\n",
       "    </tr>\n",
       "    <tr>\n",
       "      <th>17</th>\n",
       "      <td>1257.0</td>\n",
       "      <td>114.0</td>\n",
       "      <td>62.0</td>\n",
       "      <td>52.0</td>\n",
       "      <td>52.0</td>\n",
       "      <td>2.0</td>\n",
       "      <td>12.0</td>\n",
       "      <td>0.0</td>\n",
       "      <td>0.0</td>\n",
       "      <td>1.07</td>\n",
       "      <td>...</td>\n",
       "      <td>-11.938358</td>\n",
       "      <td>2.441789</td>\n",
       "      <td>0.104147</td>\n",
       "      <td>1.705063</td>\n",
       "      <td>1.064244</td>\n",
       "      <td>1.105502</td>\n",
       "      <td>file:/mnt/share/RKDATA/ConfocalData/SDC/RNAsco...</td>\n",
       "      <td>file:/mnt/share/RKDATA/ConfocalData/SDC/RNAsco...</td>\n",
       "      <td>1794</td>\n",
       "      <td>1794</td>\n",
       "    </tr>\n",
       "    <tr>\n",
       "      <th>18</th>\n",
       "      <td>2830.0</td>\n",
       "      <td>121.0</td>\n",
       "      <td>60.0</td>\n",
       "      <td>52.0</td>\n",
       "      <td>61.0</td>\n",
       "      <td>2.0</td>\n",
       "      <td>10.0</td>\n",
       "      <td>0.0</td>\n",
       "      <td>0.0</td>\n",
       "      <td>0.63</td>\n",
       "      <td>...</td>\n",
       "      <td>-11.742372</td>\n",
       "      <td>4.340247</td>\n",
       "      <td>0.098867</td>\n",
       "      <td>1.831724</td>\n",
       "      <td>0.985159</td>\n",
       "      <td>1.248917</td>\n",
       "      <td>file:/mnt/share/RKDATA/ConfocalData/SDC/RNAsco...</td>\n",
       "      <td>file:/mnt/share/RKDATA/ConfocalData/SDC/RNAsco...</td>\n",
       "      <td>1962</td>\n",
       "      <td>1962</td>\n",
       "    </tr>\n",
       "    <tr>\n",
       "      <th>19</th>\n",
       "      <td>1039.0</td>\n",
       "      <td>103.0</td>\n",
       "      <td>40.0</td>\n",
       "      <td>29.0</td>\n",
       "      <td>63.0</td>\n",
       "      <td>8.0</td>\n",
       "      <td>19.0</td>\n",
       "      <td>0.0</td>\n",
       "      <td>0.0</td>\n",
       "      <td>1.17</td>\n",
       "      <td>...</td>\n",
       "      <td>-11.992460</td>\n",
       "      <td>2.657875</td>\n",
       "      <td>0.094875</td>\n",
       "      <td>1.715228</td>\n",
       "      <td>0.948393</td>\n",
       "      <td>1.012725</td>\n",
       "      <td>file:/mnt/share/RKDATA/ConfocalData/SDC/RNAsco...</td>\n",
       "      <td>file:/mnt/share/RKDATA/ConfocalData/SDC/RNAsco...</td>\n",
       "      <td>1800</td>\n",
       "      <td>1800</td>\n",
       "    </tr>\n",
       "    <tr>\n",
       "      <th>21</th>\n",
       "      <td>3377.0</td>\n",
       "      <td>123.0</td>\n",
       "      <td>50.0</td>\n",
       "      <td>40.0</td>\n",
       "      <td>73.0</td>\n",
       "      <td>26.0</td>\n",
       "      <td>36.0</td>\n",
       "      <td>0.0</td>\n",
       "      <td>0.0</td>\n",
       "      <td>0.58</td>\n",
       "      <td>...</td>\n",
       "      <td>-11.383050</td>\n",
       "      <td>3.718678</td>\n",
       "      <td>0.066063</td>\n",
       "      <td>4.007207</td>\n",
       "      <td>0.832486</td>\n",
       "      <td>1.495074</td>\n",
       "      <td>file:/mnt/share/RKDATA/ConfocalData/SDC/RNAsco...</td>\n",
       "      <td>file:/mnt/share/RKDATA/ConfocalData/SDC/RNAsco...</td>\n",
       "      <td>2164</td>\n",
       "      <td>2164</td>\n",
       "    </tr>\n",
       "    <tr>\n",
       "      <th>23</th>\n",
       "      <td>3040.0</td>\n",
       "      <td>195.0</td>\n",
       "      <td>65.0</td>\n",
       "      <td>63.0</td>\n",
       "      <td>130.0</td>\n",
       "      <td>36.0</td>\n",
       "      <td>38.0</td>\n",
       "      <td>0.0</td>\n",
       "      <td>0.0</td>\n",
       "      <td>1.32</td>\n",
       "      <td>...</td>\n",
       "      <td>-11.354369</td>\n",
       "      <td>3.549944</td>\n",
       "      <td>0.104331</td>\n",
       "      <td>1.760955</td>\n",
       "      <td>2.271627</td>\n",
       "      <td>1.439428</td>\n",
       "      <td>file:/mnt/share/RKDATA/ConfocalData/SDC/RNAsco...</td>\n",
       "      <td>file:/mnt/share/RKDATA/ConfocalData/SDC/RNAsco...</td>\n",
       "      <td>2368</td>\n",
       "      <td>2368</td>\n",
       "    </tr>\n",
       "    <tr>\n",
       "      <th>24</th>\n",
       "      <td>3636.0</td>\n",
       "      <td>111.0</td>\n",
       "      <td>72.0</td>\n",
       "      <td>65.0</td>\n",
       "      <td>39.0</td>\n",
       "      <td>7.0</td>\n",
       "      <td>14.0</td>\n",
       "      <td>0.0</td>\n",
       "      <td>0.0</td>\n",
       "      <td>0.71</td>\n",
       "      <td>...</td>\n",
       "      <td>-11.736800</td>\n",
       "      <td>4.171671</td>\n",
       "      <td>0.052117</td>\n",
       "      <td>4.220805</td>\n",
       "      <td>0.886810</td>\n",
       "      <td>1.466345</td>\n",
       "      <td>file:/mnt/share/RKDATA/ConfocalData/SDC/RNAsco...</td>\n",
       "      <td>file:/mnt/share/RKDATA/ConfocalData/SDC/RNAsco...</td>\n",
       "      <td>2404</td>\n",
       "      <td>2404</td>\n",
       "    </tr>\n",
       "    <tr>\n",
       "      <th>26</th>\n",
       "      <td>891.0</td>\n",
       "      <td>100.0</td>\n",
       "      <td>82.0</td>\n",
       "      <td>27.0</td>\n",
       "      <td>18.0</td>\n",
       "      <td>15.0</td>\n",
       "      <td>70.0</td>\n",
       "      <td>0.0</td>\n",
       "      <td>0.0</td>\n",
       "      <td>0.44</td>\n",
       "      <td>...</td>\n",
       "      <td>-10.885290</td>\n",
       "      <td>2.810354</td>\n",
       "      <td>0.113421</td>\n",
       "      <td>1.955961</td>\n",
       "      <td>1.091974</td>\n",
       "      <td>3.978634</td>\n",
       "      <td>file:/mnt/share/RKDATA/ConfocalData/SDC/RNAsco...</td>\n",
       "      <td>file:/mnt/share/RKDATA/ConfocalData/SDC/RNAsco...</td>\n",
       "      <td>1656</td>\n",
       "      <td>1656</td>\n",
       "    </tr>\n",
       "  </tbody>\n",
       "</table>\n",
       "<p>23 rows × 165 columns</p>\n",
       "</div>"
      ],
      "text/plain": [
       "    Count_CT_DAPI  Count_CT_Kcng2Neurons  Count_CT_Kcng2_Nos1neg  \\\n",
       "0          2739.0                  142.0                    77.0   \n",
       "1          2418.0                  113.0                    70.0   \n",
       "2          2542.0                  106.0                    43.0   \n",
       "3          3001.0                  132.0                    63.0   \n",
       "4          2835.0                  149.0                    54.0   \n",
       "5          2918.0                  119.0                   107.0   \n",
       "6           947.0                   58.0                    40.0   \n",
       "7           599.0                   45.0                    42.0   \n",
       "8          2591.0                  121.0                    73.0   \n",
       "9          2705.0                  113.0                    52.0   \n",
       "10         3026.0                  141.0                    48.0   \n",
       "11         2184.0                  130.0                    56.0   \n",
       "12         2395.0                  128.0                    82.0   \n",
       "13         1189.0                   56.0                    35.0   \n",
       "14          802.0                   38.0                    27.0   \n",
       "15         1435.0                  128.0                    81.0   \n",
       "17         1257.0                  114.0                    62.0   \n",
       "18         2830.0                  121.0                    60.0   \n",
       "19         1039.0                  103.0                    40.0   \n",
       "21         3377.0                  123.0                    50.0   \n",
       "23         3040.0                  195.0                    65.0   \n",
       "24         3636.0                  111.0                    72.0   \n",
       "26          891.0                  100.0                    82.0   \n",
       "\n",
       "    Count_CT_Kcng2only  Count_CT_Nos1_Kcng2  Count_CT_Nos1_Spp1_Kcng2  \\\n",
       "0                 69.0                 65.0                       6.0   \n",
       "1                 54.0                 43.0                       4.0   \n",
       "2                 30.0                 63.0                       2.0   \n",
       "3                 47.0                 69.0                       6.0   \n",
       "4                 45.0                 95.0                      13.0   \n",
       "5                 94.0                 12.0                       0.0   \n",
       "6                 39.0                 18.0                       0.0   \n",
       "7                 36.0                  3.0                       0.0   \n",
       "8                 60.0                 48.0                       3.0   \n",
       "9                 46.0                 61.0                       2.0   \n",
       "10                32.0                 93.0                      12.0   \n",
       "11                44.0                 74.0                      15.0   \n",
       "12                77.0                 46.0                       5.0   \n",
       "13                27.0                 21.0                       1.0   \n",
       "14                21.0                 11.0                       4.0   \n",
       "15                70.0                 47.0                       3.0   \n",
       "17                52.0                 52.0                       2.0   \n",
       "18                52.0                 61.0                       2.0   \n",
       "19                29.0                 63.0                       8.0   \n",
       "21                40.0                 73.0                      26.0   \n",
       "23                63.0                130.0                      36.0   \n",
       "24                65.0                 39.0                       7.0   \n",
       "26                27.0                 18.0                      15.0   \n",
       "\n",
       "    Count_CT_Spp1_Kcng2  ExecutionTime_01Images  ExecutionTime_02Metadata  \\\n",
       "0                  14.0                     0.0                       0.0   \n",
       "1                  20.0                     0.0                       0.0   \n",
       "2                  15.0                     0.0                       0.0   \n",
       "3                  22.0                     0.0                       0.0   \n",
       "4                  22.0                     0.0                       0.0   \n",
       "5                  13.0                     0.0                       0.0   \n",
       "6                   1.0                     0.0                       0.0   \n",
       "7                   6.0                     0.0                       0.0   \n",
       "8                  16.0                     0.0                       0.0   \n",
       "9                   8.0                     0.0                       0.0   \n",
       "10                 28.0                     0.0                       0.0   \n",
       "11                 27.0                     0.0                       0.0   \n",
       "12                 10.0                     0.0                       0.0   \n",
       "13                  9.0                     0.0                       0.0   \n",
       "14                 10.0                     0.0                       0.0   \n",
       "15                 14.0                     0.0                       0.0   \n",
       "17                 12.0                     0.0                       0.0   \n",
       "18                 10.0                     0.0                       0.0   \n",
       "19                 19.0                     0.0                       0.0   \n",
       "21                 36.0                     0.0                       0.0   \n",
       "23                 38.0                     0.0                       0.0   \n",
       "24                 14.0                     0.0                       0.0   \n",
       "26                 70.0                     0.0                       0.0   \n",
       "\n",
       "    ExecutionTime_03NamesAndTypes  ...  Threshold_SumOfEntropies_Spp1Robust  \\\n",
       "0                            1.45  ...                           -10.305529   \n",
       "1                            1.50  ...                           -11.587136   \n",
       "2                            1.53  ...                           -11.422067   \n",
       "3                            1.62  ...                           -11.967962   \n",
       "4                            1.63  ...                           -12.037119   \n",
       "5                            1.47  ...                           -10.267375   \n",
       "6                            0.70  ...                           -10.889648   \n",
       "7                            0.85  ...                            -7.521155   \n",
       "8                            0.48  ...                           -11.677204   \n",
       "9                            1.24  ...                           -11.476096   \n",
       "10                           1.29  ...                           -11.579301   \n",
       "11                           1.11  ...                           -10.997786   \n",
       "12                           1.46  ...                           -11.260307   \n",
       "13                           0.82  ...                            -8.471102   \n",
       "14                           0.77  ...                           -11.453952   \n",
       "15                           1.21  ...                           -11.559422   \n",
       "17                           1.07  ...                           -11.938358   \n",
       "18                           0.63  ...                           -11.742372   \n",
       "19                           1.17  ...                           -11.992460   \n",
       "21                           0.58  ...                           -11.383050   \n",
       "23                           1.32  ...                           -11.354369   \n",
       "24                           0.71  ...                           -11.736800   \n",
       "26                           0.44  ...                           -10.885290   \n",
       "\n",
       "    Threshold_WeightedVariance_CT_DAPI  \\\n",
       "0                             8.811956   \n",
       "1                             7.998126   \n",
       "2                             8.033294   \n",
       "3                             6.571112   \n",
       "4                             6.973766   \n",
       "5                            10.522882   \n",
       "6                             7.115723   \n",
       "7                             9.597162   \n",
       "8                             7.935213   \n",
       "9                             8.033285   \n",
       "10                            4.936897   \n",
       "11                            5.975019   \n",
       "12                            5.412770   \n",
       "13                            7.479310   \n",
       "14                            7.862620   \n",
       "15                            2.844144   \n",
       "17                            2.441789   \n",
       "18                            4.340247   \n",
       "19                            2.657875   \n",
       "21                            3.718678   \n",
       "23                            3.549944   \n",
       "24                            4.171671   \n",
       "26                            2.810354   \n",
       "\n",
       "    Threshold_WeightedVariance_CT_Kcng2Neurons  \\\n",
       "0                                     0.137278   \n",
       "1                                     0.117179   \n",
       "2                                     0.113737   \n",
       "3                                     0.104585   \n",
       "4                                     0.107801   \n",
       "5                                     0.107062   \n",
       "6                                     0.120216   \n",
       "7                                     0.162252   \n",
       "8                                     0.103235   \n",
       "9                                     0.107081   \n",
       "10                                    0.093292   \n",
       "11                                    0.114625   \n",
       "12                                    0.079189   \n",
       "13                                    0.093241   \n",
       "14                                    0.104106   \n",
       "15                                    0.127372   \n",
       "17                                    0.104147   \n",
       "18                                    0.098867   \n",
       "19                                    0.094875   \n",
       "21                                    0.066063   \n",
       "23                                    0.104331   \n",
       "24                                    0.052117   \n",
       "26                                    0.113421   \n",
       "\n",
       "    Threshold_WeightedVariance_Kcng2Robust  \\\n",
       "0                                 7.260870   \n",
       "1                                 7.028352   \n",
       "2                                 6.464472   \n",
       "3                                 6.840483   \n",
       "4                                 6.541238   \n",
       "5                                 4.213874   \n",
       "6                                 7.074494   \n",
       "7                                 5.969981   \n",
       "8                                 7.058188   \n",
       "9                                 7.833171   \n",
       "10                                6.326516   \n",
       "11                                7.304202   \n",
       "12                                6.413738   \n",
       "13                                5.583330   \n",
       "14                                5.460125   \n",
       "15                                2.134211   \n",
       "17                                1.705063   \n",
       "18                                1.831724   \n",
       "19                                1.715228   \n",
       "21                                4.007207   \n",
       "23                                1.760955   \n",
       "24                                4.220805   \n",
       "26                                1.955961   \n",
       "\n",
       "    Threshold_WeightedVariance_Nos1Robust  \\\n",
       "0                                2.254774   \n",
       "1                                2.029204   \n",
       "2                                2.089958   \n",
       "3                                1.855045   \n",
       "4                                1.999478   \n",
       "5                                1.300930   \n",
       "6                                2.058146   \n",
       "7                                1.627235   \n",
       "8                                1.888093   \n",
       "9                                1.838217   \n",
       "10                               1.800418   \n",
       "11                               2.174767   \n",
       "12                               1.833386   \n",
       "13                               1.617312   \n",
       "14                               1.825357   \n",
       "15                               0.989614   \n",
       "17                               1.064244   \n",
       "18                               0.985159   \n",
       "19                               0.948393   \n",
       "21                               0.832486   \n",
       "23                               2.271627   \n",
       "24                               0.886810   \n",
       "26                               1.091974   \n",
       "\n",
       "    Threshold_WeightedVariance_Spp1Robust  \\\n",
       "0                                4.506730   \n",
       "1                                4.086371   \n",
       "2                                3.978368   \n",
       "3                                3.403072   \n",
       "4                                3.722931   \n",
       "5                                2.774641   \n",
       "6                                3.676885   \n",
       "7                                5.345300   \n",
       "8                                4.204057   \n",
       "9                                3.680717   \n",
       "10                               3.468478   \n",
       "11                               4.148105   \n",
       "12                               4.105193   \n",
       "13                               3.192279   \n",
       "14                               3.742061   \n",
       "15                               1.288039   \n",
       "17                               1.105502   \n",
       "18                               1.248917   \n",
       "19                               1.012725   \n",
       "21                               1.495074   \n",
       "23                               1.439428   \n",
       "24                               1.466345   \n",
       "26                               3.978634   \n",
       "\n",
       "                                    URL_CellPoseMasks  \\\n",
       "0   file:/mnt/share/RKDATA/ConfocalData/SDC/RNAsco...   \n",
       "1   file:/mnt/share/RKDATA/ConfocalData/SDC/RNAsco...   \n",
       "2   file:/mnt/share/RKDATA/ConfocalData/SDC/RNAsco...   \n",
       "3   file:/mnt/share/RKDATA/ConfocalData/SDC/RNAsco...   \n",
       "4   file:/mnt/share/RKDATA/ConfocalData/SDC/RNAsco...   \n",
       "5   file:/mnt/share/RKDATA/ConfocalData/SDC/RNAsco...   \n",
       "6   file:/mnt/share/RKDATA/ConfocalData/SDC/RNAsco...   \n",
       "7   file:/mnt/share/RKDATA/ConfocalData/SDC/RNAsco...   \n",
       "8   file:/mnt/share/RKDATA/ConfocalData/SDC/RNAsco...   \n",
       "9   file:/mnt/share/RKDATA/ConfocalData/SDC/RNAsco...   \n",
       "10  file:/mnt/share/RKDATA/ConfocalData/SDC/RNAsco...   \n",
       "11  file:/mnt/share/RKDATA/ConfocalData/SDC/RNAsco...   \n",
       "12  file:/mnt/share/RKDATA/ConfocalData/SDC/RNAsco...   \n",
       "13  file:/mnt/share/RKDATA/ConfocalData/SDC/RNAsco...   \n",
       "14  file:/mnt/share/RKDATA/ConfocalData/SDC/RNAsco...   \n",
       "15  file:/mnt/share/RKDATA/ConfocalData/SDC/RNAsco...   \n",
       "17  file:/mnt/share/RKDATA/ConfocalData/SDC/RNAsco...   \n",
       "18  file:/mnt/share/RKDATA/ConfocalData/SDC/RNAsco...   \n",
       "19  file:/mnt/share/RKDATA/ConfocalData/SDC/RNAsco...   \n",
       "21  file:/mnt/share/RKDATA/ConfocalData/SDC/RNAsco...   \n",
       "23  file:/mnt/share/RKDATA/ConfocalData/SDC/RNAsco...   \n",
       "24  file:/mnt/share/RKDATA/ConfocalData/SDC/RNAsco...   \n",
       "26  file:/mnt/share/RKDATA/ConfocalData/SDC/RNAsco...   \n",
       "\n",
       "                                              URL_RAW  Width_CellPoseMasks  \\\n",
       "0   file:/mnt/share/RKDATA/ConfocalData/SDC/RNAsco...                 1521   \n",
       "1   file:/mnt/share/RKDATA/ConfocalData/SDC/RNAsco...                 1836   \n",
       "2   file:/mnt/share/RKDATA/ConfocalData/SDC/RNAsco...                 1640   \n",
       "3   file:/mnt/share/RKDATA/ConfocalData/SDC/RNAsco...                 1916   \n",
       "4   file:/mnt/share/RKDATA/ConfocalData/SDC/RNAsco...                 1972   \n",
       "5   file:/mnt/share/RKDATA/ConfocalData/SDC/RNAsco...                 1653   \n",
       "6   file:/mnt/share/RKDATA/ConfocalData/SDC/RNAsco...                 1407   \n",
       "7   file:/mnt/share/RKDATA/ConfocalData/SDC/RNAsco...                 1425   \n",
       "8   file:/mnt/share/RKDATA/ConfocalData/SDC/RNAsco...                 1749   \n",
       "9   file:/mnt/share/RKDATA/ConfocalData/SDC/RNAsco...                 1743   \n",
       "10  file:/mnt/share/RKDATA/ConfocalData/SDC/RNAsco...                 1830   \n",
       "11  file:/mnt/share/RKDATA/ConfocalData/SDC/RNAsco...                 1788   \n",
       "12  file:/mnt/share/RKDATA/ConfocalData/SDC/RNAsco...                 1724   \n",
       "13  file:/mnt/share/RKDATA/ConfocalData/SDC/RNAsco...                 1576   \n",
       "14  file:/mnt/share/RKDATA/ConfocalData/SDC/RNAsco...                 1300   \n",
       "15  file:/mnt/share/RKDATA/ConfocalData/SDC/RNAsco...                 1522   \n",
       "17  file:/mnt/share/RKDATA/ConfocalData/SDC/RNAsco...                 1794   \n",
       "18  file:/mnt/share/RKDATA/ConfocalData/SDC/RNAsco...                 1962   \n",
       "19  file:/mnt/share/RKDATA/ConfocalData/SDC/RNAsco...                 1800   \n",
       "21  file:/mnt/share/RKDATA/ConfocalData/SDC/RNAsco...                 2164   \n",
       "23  file:/mnt/share/RKDATA/ConfocalData/SDC/RNAsco...                 2368   \n",
       "24  file:/mnt/share/RKDATA/ConfocalData/SDC/RNAsco...                 2404   \n",
       "26  file:/mnt/share/RKDATA/ConfocalData/SDC/RNAsco...                 1656   \n",
       "\n",
       "    Width_RAW  \n",
       "0        1521  \n",
       "1        1836  \n",
       "2        1640  \n",
       "3        1916  \n",
       "4        1972  \n",
       "5        1968  \n",
       "6        1407  \n",
       "7        1425  \n",
       "8        1749  \n",
       "9        1743  \n",
       "10       1830  \n",
       "11       1788  \n",
       "12       1724  \n",
       "13       1576  \n",
       "14       1300  \n",
       "15       1522  \n",
       "17       1794  \n",
       "18       1962  \n",
       "19       1800  \n",
       "21       2164  \n",
       "23       2368  \n",
       "24       2404  \n",
       "26       1656  \n",
       "\n",
       "[23 rows x 165 columns]"
      ]
     },
     "execution_count": 9,
     "metadata": {},
     "output_type": "execute_result"
    }
   ],
   "source": [
    "cellprofilerDF"
   ]
  },
  {
   "cell_type": "markdown",
   "metadata": {},
   "source": [
    "# Calculate the counts for any cell types that weren't explicitly measured by CellProfiler, but that can calculated by adding and subtracting other celltypes\n",
    "\n",
    "### \"Pure\" Cell Types: \n",
    "Reflect double positive cells that are not triple positive (e.g. Pure Kcng2_Gad2 cells do not express Pax6)\n",
    "\n",
    "### \"Only\" Cell Types:\n",
    "Reflect the counts of singly positive cells (e.g. Count_Gad2_only cells express Gad2, but not other genes)"
   ]
  },
  {
   "cell_type": "code",
   "execution_count": 10,
   "metadata": {},
   "outputs": [],
   "source": [
    "cellprofilerDF['Count_CT_Pure_Nos1_Kcng2'] = cellprofilerDF['Count_CT_Nos1_Kcng2'] - cellprofilerDF['Count_CT_Nos1_Spp1_Kcng2']\n"
   ]
  },
  {
   "cell_type": "code",
   "execution_count": 11,
   "metadata": {},
   "outputs": [],
   "source": [
    "cellprofilerDF['Count_CT_Pure_Spp1_Kcng2'] = cellprofilerDF['Count_CT_Spp1_Kcng2'] - cellprofilerDF['Count_CT_Nos1_Spp1_Kcng2']\n"
   ]
  },
  {
   "cell_type": "code",
   "execution_count": 12,
   "metadata": {},
   "outputs": [],
   "source": [
    "makedictlist = [i[:16] for i in cellprofilerDF['FileName_RAW'].unique().tolist()]"
   ]
  },
  {
   "cell_type": "code",
   "execution_count": 13,
   "metadata": {},
   "outputs": [
    {
     "data": {
      "text/plain": [
       "0     MAX_6700-1-1A-S3_4ChannelCropped.tif\n",
       "1     MAX_6700-1-1A-S4_4ChannelCropped.tif\n",
       "2     MAX_6700-1-2A-S3_4ChannelCropped.tif\n",
       "3     MAX_6700-1-2A-S4_4ChannelCropped.tif\n",
       "4     MAX_6700-1-3A-S1_4ChannelCropped.tif\n",
       "5     MAX_6700-1-3A-S3_4ChannelCropped.tif\n",
       "6     MAX_6700-1-4A-S2_4ChannelCropped.tif\n",
       "7     MAX_6700-1-4A-S3_4ChannelCropped.tif\n",
       "8     MAX_6700-2-1A-S3_4ChannelCropped.tif\n",
       "9     MAX_6700-2-1A-S4_4ChannelCropped.tif\n",
       "10    MAX_6700-2-2A-S2_4ChannelCropped.tif\n",
       "11    MAX_6700-2-2A-S4_4ChannelCropped.tif\n",
       "12    MAX_6700-2-3A-S2_4ChannelCropped.tif\n",
       "13    MAX_6700-2-3A-S4_4ChannelCropped.tif\n",
       "14    MAX_6700-2-4A-S1_4ChannelCropped.tif\n",
       "15    MAX_7200-1-1D-S2_4ChannelCropped.tif\n",
       "17    MAX_7200-1-1D-S4_4ChannelCropped.tif\n",
       "18    MAX_7200-1-2D-S2_4ChannelCropped.tif\n",
       "19    MAX_7200-1-2D-S3_4ChannelCropped.tif\n",
       "21    MAX_7200-1-3D-S2_4ChannelCropped.tif\n",
       "23    MAX_7200-1-3D-S4_4ChannelCropped.tif\n",
       "24    MAX_7200-1-4D-S1_4ChannelCropped.tif\n",
       "26    MAX_7200-1-4D-S3_4ChannelCropped.tif\n",
       "Name: FileName_RAW, dtype: object"
      ]
     },
     "execution_count": 13,
     "metadata": {},
     "output_type": "execute_result"
    }
   ],
   "source": [
    "cellprofilerDF['FileName_RAW']"
   ]
  },
  {
   "cell_type": "code",
   "execution_count": 14,
   "metadata": {},
   "outputs": [],
   "source": [
    "ImageNumDict = {}"
   ]
  },
  {
   "cell_type": "code",
   "execution_count": 15,
   "metadata": {},
   "outputs": [],
   "source": [
    "mouse = '6700-1'\n",
    "makedictlistmouse = [i for i in makedictlist if i.find(mouse) != -1]\n",
    "makedictlistmouse\n",
    "\n",
    "leng = len(makedictlistmouse)\n",
    "\n",
    "ImageNumDict2 = dict(zip(makedictlistmouse,list(range(1,leng+1))))\n",
    "\n",
    "ImageNumDict.update(ImageNumDict2)"
   ]
  },
  {
   "cell_type": "code",
   "execution_count": 16,
   "metadata": {},
   "outputs": [],
   "source": [
    "mouse = '6700-2'\n",
    "makedictlistmouse = [i for i in makedictlist if i.find(mouse) != -1]\n",
    "makedictlistmouse\n",
    "\n",
    "leng = len(makedictlistmouse)\n",
    "\n",
    "ImageNumDict2 = dict(zip(makedictlistmouse,list(range(1,leng+1))))\n",
    "\n",
    "ImageNumDict.update(ImageNumDict2)"
   ]
  },
  {
   "cell_type": "code",
   "execution_count": 17,
   "metadata": {},
   "outputs": [],
   "source": [
    "mouse = '7200-1'\n",
    "makedictlistmouse = [i for i in makedictlist if i.find(mouse) != -1]\n",
    "makedictlistmouse\n",
    "\n",
    "leng = len(makedictlistmouse)\n",
    "\n",
    "ImageNumDict2 = dict(zip(makedictlistmouse,list(range(1,leng+1))))\n",
    "\n",
    "ImageNumDict.update(ImageNumDict2)"
   ]
  },
  {
   "cell_type": "code",
   "execution_count": 18,
   "metadata": {},
   "outputs": [
    {
     "data": {
      "text/plain": [
       "{'MAX_6700-1-1A-S3': 1,\n",
       " 'MAX_6700-1-1A-S4': 2,\n",
       " 'MAX_6700-1-2A-S3': 3,\n",
       " 'MAX_6700-1-2A-S4': 4,\n",
       " 'MAX_6700-1-3A-S1': 5,\n",
       " 'MAX_6700-1-3A-S3': 6,\n",
       " 'MAX_6700-1-4A-S2': 7,\n",
       " 'MAX_6700-1-4A-S3': 8,\n",
       " 'MAX_6700-2-1A-S3': 1,\n",
       " 'MAX_6700-2-1A-S4': 2,\n",
       " 'MAX_6700-2-2A-S2': 3,\n",
       " 'MAX_6700-2-2A-S4': 4,\n",
       " 'MAX_6700-2-3A-S2': 5,\n",
       " 'MAX_6700-2-3A-S4': 6,\n",
       " 'MAX_6700-2-4A-S1': 7,\n",
       " 'MAX_7200-1-1D-S2': 1,\n",
       " 'MAX_7200-1-1D-S4': 2,\n",
       " 'MAX_7200-1-2D-S2': 3,\n",
       " 'MAX_7200-1-2D-S3': 4,\n",
       " 'MAX_7200-1-3D-S2': 5,\n",
       " 'MAX_7200-1-3D-S4': 6,\n",
       " 'MAX_7200-1-4D-S1': 7,\n",
       " 'MAX_7200-1-4D-S3': 8}"
      ]
     },
     "execution_count": 18,
     "metadata": {},
     "output_type": "execute_result"
    }
   ],
   "source": [
    "ImageNumDict"
   ]
  },
  {
   "cell_type": "markdown",
   "metadata": {},
   "source": []
  },
  {
   "cell_type": "code",
   "execution_count": 19,
   "metadata": {},
   "outputs": [],
   "source": [
    "def make_ML_dictionary(mediolateralDF): \n",
    "    \n",
    "    \n",
    "    \"\"\"\n",
    "        This function creates a dictionary from a dataframe, wherein one column containing the Filenames becomes\n",
    "        the keys of the dictionary, and the other column containing the ML positions of those images, becomes the\n",
    "        values of the dictionary\n",
    "    \"\"\"\n",
    "    \n",
    "    mediolateralDF = mediolateralDF[['Filename','ML Position']]\n",
    "\n",
    "    #Create a dictionary wherein Keys = Filenames and Values = Mediolateral positions\n",
    "    dict_image_MLposition = {}\n",
    "\n",
    "    for i in range(len(mediolateralDF)):\n",
    "        #The part of the filename we want is 16 characters long, so slices the string to the 16th character \n",
    "        #When creating the filename\n",
    "        dict_image_MLposition[mediolateralDF.iloc[i,0][:16]] = mediolateralDF.iloc[i,1]\n",
    "    \n",
    "    return dict_image_MLposition"
   ]
  },
  {
   "cell_type": "code",
   "execution_count": 20,
   "metadata": {
    "scrolled": true
   },
   "outputs": [],
   "source": [
    "def modify_cp_dataframe(DF, med_lat_dict, bins = False): \n",
    "    \n",
    "    \"\"\"\n",
    "        This function modifies the subject dataframe by adding the following columns:\n",
    "        (1) MouseID column \n",
    "        (2) ML Position Column\n",
    "        (3) (Optional) a Binned ML Position column if bins = True\n",
    "        \n",
    "        The function requires the following arguments:\n",
    "            1. DF - the dataframe to be processed (typically an Image Level DataFrame output from CellProfiler)\n",
    "            2. med_lat_dict - a dictionary containing the FileName_RAW strings as keys and the ML positions as values\n",
    "            3. bins (optional) - a list (can be generated with np.arange()) of the bin delimiters.\n",
    "        \n",
    "        The function returns the following output:\n",
    "            1. DF - dataframe with the added columns\n",
    "    \"\"\"\n",
    "    \n",
    "    #Make a list of the Mouse IDs from the image filenames in your CellProfiler Dataframe \n",
    "    #and assign them to a new column (Mouse ID) in the DF\n",
    "    MouseIDlist = []\n",
    "\n",
    "    for i in range(0, len(DF)):\n",
    "        IDstart = DF.iloc[i].FileName_RAW.find('_')\n",
    "        IDmid = DF.iloc[i].FileName_RAW.find('-',IDstart)\n",
    "        IDend = DF.iloc[i].FileName_RAW.find('-',IDmid)\n",
    "        MouseIDlist.append(DF.iloc[i].FileName_RAW[IDstart+1:IDend+2])\n",
    "\n",
    "    DF['Mouse ID'] = MouseIDlist\n",
    "\n",
    "    \n",
    "    #Create a list of the mediolateral positions of each image and then assign this \n",
    "    #list as a new column to our primary dataframe\n",
    "\n",
    "    listMLposition = []\n",
    "\n",
    "    #Use the length of the dataframe as a range to iterate\n",
    "    #Each round of the for loop will call the 'Filename' column of the current row by using the .iloc[] indexing method\n",
    "    #The retrieved 'Filename' will then be used to call the appropriate ML position from the dictionary\n",
    "    for i in range(len(DF)):\n",
    "        listMLposition.append(med_lat_dict[DF.iloc[i]['FileName_RAW'][0:16]])\n",
    "\n",
    "    DF['ML Position'] = listMLposition\n",
    "    \n",
    "    #convert the object type ML positions to numeric (float) variables\n",
    "    DF['ML Position'] = pd.to_numeric(DF['ML Position'])\n",
    "    \n",
    "    \n",
    "    \n",
    "    #Can modify the boundaries of the anatomical bins here\n",
    "    if bins == True:\n",
    "        DF['Binned ML Position'] = pd.cut(DF['ML Position'],\n",
    "                                             bins=np.arange(0.8, 2.4, 0.2).tolist(),\n",
    "                                             labels=np.arange(0.8, 2.2, 0.2).tolist())\n",
    "\n",
    "    \n",
    "    return DF"
   ]
  },
  {
   "cell_type": "code",
   "execution_count": 21,
   "metadata": {},
   "outputs": [],
   "source": [
    "def make_percent_cells_DF(DF, probelist, parentprobe):\n",
    "    \n",
    "    \"\"\"\n",
    "        This function calculates the fraction of the total \"parentprobe\" (most inclusive, widely expressed transcript) \n",
    "        expressing population that is positive for each combination of transcripts probed in the image set. These \n",
    "        percentage/fractional values are appended to the dataframe as new columns\n",
    "        \n",
    "        The function requires 3 input arguments:\n",
    "            1. DF - the dataframe to be processed (typically an Image Level DataFrame output from CellProfiler)\n",
    "            2. probelist - a list of the probes included in the image set\n",
    "            3. parentprobe - the most broadly stratifying (highest tier) marker to be further subdivided by other probes\n",
    "          \n",
    "        The function returns the following output:\n",
    "            1. percentplotDF - the dataframe with the added percentage columns\n",
    "    \"\"\"\n",
    "    \n",
    "    percentlist = []\n",
    "    markerpercentlist = []\n",
    "    imagelist = []\n",
    "    MLlist = []\n",
    "    MouseIDlist = []\n",
    "    \n",
    "    cols = DF.columns.tolist()\n",
    "    cols = [i for i in cols if i.find('Count_') != -1]\n",
    "    \n",
    "    for column in cols:\n",
    "        \n",
    "        for i in range(len(DF)):\n",
    "\n",
    "            percentage = DF[column].iloc[i] / DF['Count_' + parentprobe].iloc[i]\n",
    "            percentlist.append(percentage)\n",
    "            percenttype = column + ' / ' + 'Count_' + parentprobe\n",
    "            markerpercentlist.append(percenttype)\n",
    "            image = DF.iloc[i]['FileName_RAW'][0:16]\n",
    "            imagelist.append(image)\n",
    "            MLlist.append(DF['ML Position'].iloc[i])\n",
    "            MouseIDlist.append(DF['Mouse ID'].iloc[i])\n",
    "                        \n",
    "\n",
    "    percentplotDF = pd.DataFrame()\n",
    "    percentplotDF['ML Position'] = MLlist    \n",
    "    percentplotDF['Image']  = imagelist\n",
    "    percentplotDF['Percent'] = percentlist\n",
    "    percentplotDF['MarkerCombo'] = markerpercentlist\n",
    "    percentplotDF['Mouse ID'] = MouseIDlist\n",
    "    \n",
    "    return percentplotDF"
   ]
  },
  {
   "cell_type": "code",
   "execution_count": 22,
   "metadata": {},
   "outputs": [],
   "source": [
    "def modify_percent_DF(DF, probelist, triple, parentprobe):\n",
    "    \n",
    "    cols = DF.columns.tolist()\n",
    "    marks = DF['MarkerCombo'].unique().tolist()\n",
    "    \n",
    "    for item in DF['Image'].unique().tolist():\n",
    "        \n",
    "        temp = DF[DF['Image'] == item]\n",
    "        \n",
    "        for combo in marks:\n",
    "            \n",
    "            for probe in probelist:\n",
    "                \n",
    "                if (combo.find(probe) != -1) & (combo.find(parentprobe) != -1) & (combo.find(' / ' + mastercombo) == -1):\n",
    "                    adj = temp[temp['MarkerCombo'] == combo]['Percent'] - temp[temp['MarkerCombo'] == triple]['Percent']\n",
    "                    \n",
    "                    new = pd.DataFrame(data = {cols[0] : temp.iloc[0]['ML Position'],\n",
    "                                               cols[1] : temp.iloc[0]['Image'],\n",
    "                                               cols[2] : adj,\n",
    "                                               cols[3] : 'Adjusted ' + combo,\n",
    "                                               cols[4] : temp.iloc[0]['Mouse ID'],\n",
    "                                               cols[5] : temp.iloc[0]['Binned ML Position']})\n",
    "                                    \n",
    "                    DF = pd.concat([DF, new])\n",
    "                    \n",
    "   \n",
    "    return DF"
   ]
  },
  {
   "cell_type": "code",
   "execution_count": 23,
   "metadata": {},
   "outputs": [],
   "source": [
    "def make_percent_sum_DF(DF, probelist):\n",
    "    \n",
    "    \"\"\"\n",
    "        This function calculates the percentage of probe+ cells in the entire image set that are positive for\n",
    "        other probes and probe combinations.\n",
    "        \n",
    "        The function requires 2 input arguments:\n",
    "            1. DF - the image level dataframe containing the counts for the entire image set\n",
    "            2. probelist - a list of the transcripts probed in the image set \n",
    "        \n",
    "        The function returns the following output:\n",
    "            1. sumDF - a dataframe with the cross-image sums and image set-wide calculated percentages \n",
    "                       for colocalization\n",
    "    \"\"\"\n",
    "    \n",
    "    cpsumDF = DF.sum()\n",
    "    percentlist = []\n",
    "    markerpercentlist = []\n",
    "\n",
    "    \n",
    "    cols = DF.columns.tolist()\n",
    "    cols = [i for i in cols if i.find('Count_') != -1]\n",
    "    \n",
    "    for column1 in cols:\n",
    "        for column2 in cols:\n",
    "            percentage = cpsumDF[column1]/cpsumDF.loc[column2]\n",
    "            percentlist.append(percentage)\n",
    "            percenttype = column1 + ' / ' + column2\n",
    "            markerpercentlist.append(percenttype)\n",
    "\n",
    "    sumDF = pd.DataFrame()\n",
    "    sumDF['MarkerCombo'] = markerpercentlist\n",
    "    sumDF['Percent'] = percentlist\n",
    "    \n",
    "    \n",
    "    return sumDF"
   ]
  },
  {
   "cell_type": "markdown",
   "metadata": {},
   "source": [
    "# Run Functions"
   ]
  },
  {
   "cell_type": "code",
   "execution_count": 24,
   "metadata": {},
   "outputs": [],
   "source": [
    "med_lat_dict = make_ML_dictionary(filename_MLpositionDF)\n",
    "cellprofilerDF = modify_cp_dataframe(cellprofilerDF,med_lat_dict, bins = True)\n",
    "\n",
    "\n"
   ]
  },
  {
   "cell_type": "code",
   "execution_count": 25,
   "metadata": {},
   "outputs": [],
   "source": [
    "percentplotDF = make_percent_cells_DF(DF=cellprofilerDF, \n",
    "                                      probelist = ['Nos1','Spp1'],\n",
    "                                      parentprobe = 'CT_Kcng2Neurons')\n",
    "\n",
    "\n"
   ]
  },
  {
   "cell_type": "code",
   "execution_count": 26,
   "metadata": {},
   "outputs": [],
   "source": [
    "percentplotDF['Binned ML Position'] = pd.cut(percentplotDF['ML Position'],\n",
    "                                             bins=np.arange(0.8, 2.4, 0.2).tolist(),\n",
    "                                             labels=np.arange(0.8, 2.2, 0.2).tolist())"
   ]
  },
  {
   "cell_type": "code",
   "execution_count": null,
   "metadata": {},
   "outputs": [],
   "source": []
  },
  {
   "cell_type": "code",
   "execution_count": 27,
   "metadata": {},
   "outputs": [],
   "source": [
    "ImagePosition = []\n",
    "\n",
    "for i in range(len(percentplotDF)):\n",
    "    ImagePosition.append(ImageNumDict[percentplotDF.iloc[i]['Image']])\n",
    "\n",
    "percentplotDF['Image Position'] = ImagePosition"
   ]
  },
  {
   "cell_type": "code",
   "execution_count": 28,
   "metadata": {},
   "outputs": [],
   "source": [
    "ImagePosition = []\n",
    "\n",
    "for i in range(len(cellprofilerDF)):\n",
    "    ImagePosition.append(ImageNumDict[cellprofilerDF.iloc[i]['FileName_RAW'][:16]])\n",
    "\n",
    "cellprofilerDF['Image Position'] = ImagePosition"
   ]
  },
  {
   "cell_type": "code",
   "execution_count": 29,
   "metadata": {},
   "outputs": [
    {
     "data": {
      "text/plain": [
       "0     1\n",
       "1     2\n",
       "2     3\n",
       "3     4\n",
       "4     5\n",
       "5     6\n",
       "6     7\n",
       "7     8\n",
       "8     1\n",
       "9     2\n",
       "10    3\n",
       "11    4\n",
       "12    5\n",
       "13    6\n",
       "14    7\n",
       "15    1\n",
       "17    2\n",
       "18    3\n",
       "19    4\n",
       "21    5\n",
       "23    6\n",
       "24    7\n",
       "26    8\n",
       "Name: Image Position, dtype: int64"
      ]
     },
     "execution_count": 29,
     "metadata": {},
     "output_type": "execute_result"
    }
   ],
   "source": [
    "cellprofilerDF['Image Position']"
   ]
  },
  {
   "cell_type": "code",
   "execution_count": 30,
   "metadata": {},
   "outputs": [
    {
     "data": {
      "text/html": [
       "<div>\n",
       "<style scoped>\n",
       "    .dataframe tbody tr th:only-of-type {\n",
       "        vertical-align: middle;\n",
       "    }\n",
       "\n",
       "    .dataframe tbody tr th {\n",
       "        vertical-align: top;\n",
       "    }\n",
       "\n",
       "    .dataframe thead th {\n",
       "        text-align: right;\n",
       "    }\n",
       "</style>\n",
       "<table border=\"1\" class=\"dataframe\">\n",
       "  <thead>\n",
       "    <tr style=\"text-align: right;\">\n",
       "      <th></th>\n",
       "      <th>ML Position</th>\n",
       "      <th>Image</th>\n",
       "      <th>Percent</th>\n",
       "      <th>MarkerCombo</th>\n",
       "      <th>Mouse ID</th>\n",
       "      <th>Binned ML Position</th>\n",
       "      <th>Image Position</th>\n",
       "    </tr>\n",
       "  </thead>\n",
       "  <tbody>\n",
       "    <tr>\n",
       "      <th>0</th>\n",
       "      <td>2.22</td>\n",
       "      <td>MAX_6700-1-1A-S3</td>\n",
       "      <td>19.288732</td>\n",
       "      <td>Count_CT_DAPI / Count_CT_Kcng2Neurons</td>\n",
       "      <td>6700-1</td>\n",
       "      <td>NaN</td>\n",
       "      <td>1</td>\n",
       "    </tr>\n",
       "    <tr>\n",
       "      <th>1</th>\n",
       "      <td>2.10</td>\n",
       "      <td>MAX_6700-1-1A-S4</td>\n",
       "      <td>21.398230</td>\n",
       "      <td>Count_CT_DAPI / Count_CT_Kcng2Neurons</td>\n",
       "      <td>6700-1</td>\n",
       "      <td>2.0</td>\n",
       "      <td>2</td>\n",
       "    </tr>\n",
       "    <tr>\n",
       "      <th>2</th>\n",
       "      <td>1.80</td>\n",
       "      <td>MAX_6700-1-2A-S3</td>\n",
       "      <td>23.981132</td>\n",
       "      <td>Count_CT_DAPI / Count_CT_Kcng2Neurons</td>\n",
       "      <td>6700-1</td>\n",
       "      <td>1.8</td>\n",
       "      <td>3</td>\n",
       "    </tr>\n",
       "    <tr>\n",
       "      <th>3</th>\n",
       "      <td>1.68</td>\n",
       "      <td>MAX_6700-1-2A-S4</td>\n",
       "      <td>22.734848</td>\n",
       "      <td>Count_CT_DAPI / Count_CT_Kcng2Neurons</td>\n",
       "      <td>6700-1</td>\n",
       "      <td>1.6</td>\n",
       "      <td>4</td>\n",
       "    </tr>\n",
       "    <tr>\n",
       "      <th>4</th>\n",
       "      <td>1.44</td>\n",
       "      <td>MAX_6700-1-3A-S1</td>\n",
       "      <td>19.026846</td>\n",
       "      <td>Count_CT_DAPI / Count_CT_Kcng2Neurons</td>\n",
       "      <td>6700-1</td>\n",
       "      <td>1.4</td>\n",
       "      <td>5</td>\n",
       "    </tr>\n",
       "    <tr>\n",
       "      <th>...</th>\n",
       "      <td>...</td>\n",
       "      <td>...</td>\n",
       "      <td>...</td>\n",
       "      <td>...</td>\n",
       "      <td>...</td>\n",
       "      <td>...</td>\n",
       "      <td>...</td>\n",
       "    </tr>\n",
       "    <tr>\n",
       "      <th>202</th>\n",
       "      <td>1.86</td>\n",
       "      <td>MAX_7200-1-2D-S3</td>\n",
       "      <td>0.106796</td>\n",
       "      <td>Count_CT_Pure_Spp1_Kcng2 / Count_CT_Kcng2Neurons</td>\n",
       "      <td>7200-1</td>\n",
       "      <td>1.8</td>\n",
       "      <td>4</td>\n",
       "    </tr>\n",
       "    <tr>\n",
       "      <th>203</th>\n",
       "      <td>1.68</td>\n",
       "      <td>MAX_7200-1-3D-S2</td>\n",
       "      <td>0.081301</td>\n",
       "      <td>Count_CT_Pure_Spp1_Kcng2 / Count_CT_Kcng2Neurons</td>\n",
       "      <td>7200-1</td>\n",
       "      <td>1.6</td>\n",
       "      <td>5</td>\n",
       "    </tr>\n",
       "    <tr>\n",
       "      <th>204</th>\n",
       "      <td>1.32</td>\n",
       "      <td>MAX_7200-1-3D-S4</td>\n",
       "      <td>0.010256</td>\n",
       "      <td>Count_CT_Pure_Spp1_Kcng2 / Count_CT_Kcng2Neurons</td>\n",
       "      <td>7200-1</td>\n",
       "      <td>1.2</td>\n",
       "      <td>6</td>\n",
       "    </tr>\n",
       "    <tr>\n",
       "      <th>205</th>\n",
       "      <td>1.20</td>\n",
       "      <td>MAX_7200-1-4D-S1</td>\n",
       "      <td>0.063063</td>\n",
       "      <td>Count_CT_Pure_Spp1_Kcng2 / Count_CT_Kcng2Neurons</td>\n",
       "      <td>7200-1</td>\n",
       "      <td>1.0</td>\n",
       "      <td>7</td>\n",
       "    </tr>\n",
       "    <tr>\n",
       "      <th>206</th>\n",
       "      <td>0.96</td>\n",
       "      <td>MAX_7200-1-4D-S3</td>\n",
       "      <td>0.550000</td>\n",
       "      <td>Count_CT_Pure_Spp1_Kcng2 / Count_CT_Kcng2Neurons</td>\n",
       "      <td>7200-1</td>\n",
       "      <td>0.8</td>\n",
       "      <td>8</td>\n",
       "    </tr>\n",
       "  </tbody>\n",
       "</table>\n",
       "<p>207 rows × 7 columns</p>\n",
       "</div>"
      ],
      "text/plain": [
       "     ML Position             Image    Percent  \\\n",
       "0           2.22  MAX_6700-1-1A-S3  19.288732   \n",
       "1           2.10  MAX_6700-1-1A-S4  21.398230   \n",
       "2           1.80  MAX_6700-1-2A-S3  23.981132   \n",
       "3           1.68  MAX_6700-1-2A-S4  22.734848   \n",
       "4           1.44  MAX_6700-1-3A-S1  19.026846   \n",
       "..           ...               ...        ...   \n",
       "202         1.86  MAX_7200-1-2D-S3   0.106796   \n",
       "203         1.68  MAX_7200-1-3D-S2   0.081301   \n",
       "204         1.32  MAX_7200-1-3D-S4   0.010256   \n",
       "205         1.20  MAX_7200-1-4D-S1   0.063063   \n",
       "206         0.96  MAX_7200-1-4D-S3   0.550000   \n",
       "\n",
       "                                          MarkerCombo Mouse ID  \\\n",
       "0               Count_CT_DAPI / Count_CT_Kcng2Neurons   6700-1   \n",
       "1               Count_CT_DAPI / Count_CT_Kcng2Neurons   6700-1   \n",
       "2               Count_CT_DAPI / Count_CT_Kcng2Neurons   6700-1   \n",
       "3               Count_CT_DAPI / Count_CT_Kcng2Neurons   6700-1   \n",
       "4               Count_CT_DAPI / Count_CT_Kcng2Neurons   6700-1   \n",
       "..                                                ...      ...   \n",
       "202  Count_CT_Pure_Spp1_Kcng2 / Count_CT_Kcng2Neurons   7200-1   \n",
       "203  Count_CT_Pure_Spp1_Kcng2 / Count_CT_Kcng2Neurons   7200-1   \n",
       "204  Count_CT_Pure_Spp1_Kcng2 / Count_CT_Kcng2Neurons   7200-1   \n",
       "205  Count_CT_Pure_Spp1_Kcng2 / Count_CT_Kcng2Neurons   7200-1   \n",
       "206  Count_CT_Pure_Spp1_Kcng2 / Count_CT_Kcng2Neurons   7200-1   \n",
       "\n",
       "    Binned ML Position  Image Position  \n",
       "0                  NaN               1  \n",
       "1                  2.0               2  \n",
       "2                  1.8               3  \n",
       "3                  1.6               4  \n",
       "4                  1.4               5  \n",
       "..                 ...             ...  \n",
       "202                1.8               4  \n",
       "203                1.6               5  \n",
       "204                1.2               6  \n",
       "205                1.0               7  \n",
       "206                0.8               8  \n",
       "\n",
       "[207 rows x 7 columns]"
      ]
     },
     "execution_count": 30,
     "metadata": {},
     "output_type": "execute_result"
    }
   ],
   "source": [
    "percentplotDF"
   ]
  },
  {
   "cell_type": "code",
   "execution_count": 31,
   "metadata": {
    "scrolled": true
   },
   "outputs": [
    {
     "data": {
      "text/html": [
       "<div>\n",
       "<style scoped>\n",
       "    .dataframe tbody tr th:only-of-type {\n",
       "        vertical-align: middle;\n",
       "    }\n",
       "\n",
       "    .dataframe tbody tr th {\n",
       "        vertical-align: top;\n",
       "    }\n",
       "\n",
       "    .dataframe thead th {\n",
       "        text-align: right;\n",
       "    }\n",
       "</style>\n",
       "<table border=\"1\" class=\"dataframe\">\n",
       "  <thead>\n",
       "    <tr style=\"text-align: right;\">\n",
       "      <th></th>\n",
       "      <th>ML Position</th>\n",
       "      <th>Image</th>\n",
       "      <th>Percent</th>\n",
       "      <th>MarkerCombo</th>\n",
       "      <th>Mouse ID</th>\n",
       "      <th>Binned ML Position</th>\n",
       "      <th>Image Position</th>\n",
       "    </tr>\n",
       "  </thead>\n",
       "  <tbody>\n",
       "    <tr>\n",
       "      <th>115</th>\n",
       "      <td>2.22</td>\n",
       "      <td>MAX_6700-1-1A-S3</td>\n",
       "      <td>0.042254</td>\n",
       "      <td>Count_CT_Nos1_Spp1_Kcng2 / Count_CT_Kcng2Neurons</td>\n",
       "      <td>6700-1</td>\n",
       "      <td>NaN</td>\n",
       "      <td>1</td>\n",
       "    </tr>\n",
       "    <tr>\n",
       "      <th>116</th>\n",
       "      <td>2.10</td>\n",
       "      <td>MAX_6700-1-1A-S4</td>\n",
       "      <td>0.035398</td>\n",
       "      <td>Count_CT_Nos1_Spp1_Kcng2 / Count_CT_Kcng2Neurons</td>\n",
       "      <td>6700-1</td>\n",
       "      <td>2.0</td>\n",
       "      <td>2</td>\n",
       "    </tr>\n",
       "    <tr>\n",
       "      <th>117</th>\n",
       "      <td>1.80</td>\n",
       "      <td>MAX_6700-1-2A-S3</td>\n",
       "      <td>0.018868</td>\n",
       "      <td>Count_CT_Nos1_Spp1_Kcng2 / Count_CT_Kcng2Neurons</td>\n",
       "      <td>6700-1</td>\n",
       "      <td>1.8</td>\n",
       "      <td>3</td>\n",
       "    </tr>\n",
       "    <tr>\n",
       "      <th>118</th>\n",
       "      <td>1.68</td>\n",
       "      <td>MAX_6700-1-2A-S4</td>\n",
       "      <td>0.045455</td>\n",
       "      <td>Count_CT_Nos1_Spp1_Kcng2 / Count_CT_Kcng2Neurons</td>\n",
       "      <td>6700-1</td>\n",
       "      <td>1.6</td>\n",
       "      <td>4</td>\n",
       "    </tr>\n",
       "    <tr>\n",
       "      <th>119</th>\n",
       "      <td>1.44</td>\n",
       "      <td>MAX_6700-1-3A-S1</td>\n",
       "      <td>0.087248</td>\n",
       "      <td>Count_CT_Nos1_Spp1_Kcng2 / Count_CT_Kcng2Neurons</td>\n",
       "      <td>6700-1</td>\n",
       "      <td>1.4</td>\n",
       "      <td>5</td>\n",
       "    </tr>\n",
       "    <tr>\n",
       "      <th>120</th>\n",
       "      <td>1.32</td>\n",
       "      <td>MAX_6700-1-3A-S3</td>\n",
       "      <td>0.000000</td>\n",
       "      <td>Count_CT_Nos1_Spp1_Kcng2 / Count_CT_Kcng2Neurons</td>\n",
       "      <td>6700-1</td>\n",
       "      <td>1.2</td>\n",
       "      <td>6</td>\n",
       "    </tr>\n",
       "    <tr>\n",
       "      <th>121</th>\n",
       "      <td>0.72</td>\n",
       "      <td>MAX_6700-1-4A-S2</td>\n",
       "      <td>0.000000</td>\n",
       "      <td>Count_CT_Nos1_Spp1_Kcng2 / Count_CT_Kcng2Neurons</td>\n",
       "      <td>6700-1</td>\n",
       "      <td>NaN</td>\n",
       "      <td>7</td>\n",
       "    </tr>\n",
       "    <tr>\n",
       "      <th>122</th>\n",
       "      <td>0.48</td>\n",
       "      <td>MAX_6700-1-4A-S3</td>\n",
       "      <td>0.000000</td>\n",
       "      <td>Count_CT_Nos1_Spp1_Kcng2 / Count_CT_Kcng2Neurons</td>\n",
       "      <td>6700-1</td>\n",
       "      <td>NaN</td>\n",
       "      <td>8</td>\n",
       "    </tr>\n",
       "    <tr>\n",
       "      <th>123</th>\n",
       "      <td>1.98</td>\n",
       "      <td>MAX_6700-2-1A-S3</td>\n",
       "      <td>0.024793</td>\n",
       "      <td>Count_CT_Nos1_Spp1_Kcng2 / Count_CT_Kcng2Neurons</td>\n",
       "      <td>6700-2</td>\n",
       "      <td>1.8</td>\n",
       "      <td>1</td>\n",
       "    </tr>\n",
       "    <tr>\n",
       "      <th>124</th>\n",
       "      <td>1.92</td>\n",
       "      <td>MAX_6700-2-1A-S4</td>\n",
       "      <td>0.017699</td>\n",
       "      <td>Count_CT_Nos1_Spp1_Kcng2 / Count_CT_Kcng2Neurons</td>\n",
       "      <td>6700-2</td>\n",
       "      <td>1.8</td>\n",
       "      <td>2</td>\n",
       "    </tr>\n",
       "    <tr>\n",
       "      <th>125</th>\n",
       "      <td>1.74</td>\n",
       "      <td>MAX_6700-2-2A-S2</td>\n",
       "      <td>0.085106</td>\n",
       "      <td>Count_CT_Nos1_Spp1_Kcng2 / Count_CT_Kcng2Neurons</td>\n",
       "      <td>6700-2</td>\n",
       "      <td>1.6</td>\n",
       "      <td>3</td>\n",
       "    </tr>\n",
       "    <tr>\n",
       "      <th>126</th>\n",
       "      <td>1.50</td>\n",
       "      <td>MAX_6700-2-2A-S4</td>\n",
       "      <td>0.115385</td>\n",
       "      <td>Count_CT_Nos1_Spp1_Kcng2 / Count_CT_Kcng2Neurons</td>\n",
       "      <td>6700-2</td>\n",
       "      <td>1.4</td>\n",
       "      <td>4</td>\n",
       "    </tr>\n",
       "    <tr>\n",
       "      <th>127</th>\n",
       "      <td>1.20</td>\n",
       "      <td>MAX_6700-2-3A-S2</td>\n",
       "      <td>0.039062</td>\n",
       "      <td>Count_CT_Nos1_Spp1_Kcng2 / Count_CT_Kcng2Neurons</td>\n",
       "      <td>6700-2</td>\n",
       "      <td>1.0</td>\n",
       "      <td>5</td>\n",
       "    </tr>\n",
       "    <tr>\n",
       "      <th>128</th>\n",
       "      <td>0.66</td>\n",
       "      <td>MAX_6700-2-3A-S4</td>\n",
       "      <td>0.017857</td>\n",
       "      <td>Count_CT_Nos1_Spp1_Kcng2 / Count_CT_Kcng2Neurons</td>\n",
       "      <td>6700-2</td>\n",
       "      <td>NaN</td>\n",
       "      <td>6</td>\n",
       "    </tr>\n",
       "    <tr>\n",
       "      <th>129</th>\n",
       "      <td>0.54</td>\n",
       "      <td>MAX_6700-2-4A-S1</td>\n",
       "      <td>0.105263</td>\n",
       "      <td>Count_CT_Nos1_Spp1_Kcng2 / Count_CT_Kcng2Neurons</td>\n",
       "      <td>6700-2</td>\n",
       "      <td>NaN</td>\n",
       "      <td>7</td>\n",
       "    </tr>\n",
       "    <tr>\n",
       "      <th>130</th>\n",
       "      <td>2.16</td>\n",
       "      <td>MAX_7200-1-1D-S2</td>\n",
       "      <td>0.023438</td>\n",
       "      <td>Count_CT_Nos1_Spp1_Kcng2 / Count_CT_Kcng2Neurons</td>\n",
       "      <td>7200-1</td>\n",
       "      <td>2.0</td>\n",
       "      <td>1</td>\n",
       "    </tr>\n",
       "    <tr>\n",
       "      <th>131</th>\n",
       "      <td>2.04</td>\n",
       "      <td>MAX_7200-1-1D-S4</td>\n",
       "      <td>0.017544</td>\n",
       "      <td>Count_CT_Nos1_Spp1_Kcng2 / Count_CT_Kcng2Neurons</td>\n",
       "      <td>7200-1</td>\n",
       "      <td>2.0</td>\n",
       "      <td>2</td>\n",
       "    </tr>\n",
       "    <tr>\n",
       "      <th>132</th>\n",
       "      <td>1.92</td>\n",
       "      <td>MAX_7200-1-2D-S2</td>\n",
       "      <td>0.016529</td>\n",
       "      <td>Count_CT_Nos1_Spp1_Kcng2 / Count_CT_Kcng2Neurons</td>\n",
       "      <td>7200-1</td>\n",
       "      <td>1.8</td>\n",
       "      <td>3</td>\n",
       "    </tr>\n",
       "    <tr>\n",
       "      <th>133</th>\n",
       "      <td>1.86</td>\n",
       "      <td>MAX_7200-1-2D-S3</td>\n",
       "      <td>0.077670</td>\n",
       "      <td>Count_CT_Nos1_Spp1_Kcng2 / Count_CT_Kcng2Neurons</td>\n",
       "      <td>7200-1</td>\n",
       "      <td>1.8</td>\n",
       "      <td>4</td>\n",
       "    </tr>\n",
       "    <tr>\n",
       "      <th>134</th>\n",
       "      <td>1.68</td>\n",
       "      <td>MAX_7200-1-3D-S2</td>\n",
       "      <td>0.211382</td>\n",
       "      <td>Count_CT_Nos1_Spp1_Kcng2 / Count_CT_Kcng2Neurons</td>\n",
       "      <td>7200-1</td>\n",
       "      <td>1.6</td>\n",
       "      <td>5</td>\n",
       "    </tr>\n",
       "    <tr>\n",
       "      <th>135</th>\n",
       "      <td>1.32</td>\n",
       "      <td>MAX_7200-1-3D-S4</td>\n",
       "      <td>0.184615</td>\n",
       "      <td>Count_CT_Nos1_Spp1_Kcng2 / Count_CT_Kcng2Neurons</td>\n",
       "      <td>7200-1</td>\n",
       "      <td>1.2</td>\n",
       "      <td>6</td>\n",
       "    </tr>\n",
       "    <tr>\n",
       "      <th>136</th>\n",
       "      <td>1.20</td>\n",
       "      <td>MAX_7200-1-4D-S1</td>\n",
       "      <td>0.063063</td>\n",
       "      <td>Count_CT_Nos1_Spp1_Kcng2 / Count_CT_Kcng2Neurons</td>\n",
       "      <td>7200-1</td>\n",
       "      <td>1.0</td>\n",
       "      <td>7</td>\n",
       "    </tr>\n",
       "    <tr>\n",
       "      <th>137</th>\n",
       "      <td>0.96</td>\n",
       "      <td>MAX_7200-1-4D-S3</td>\n",
       "      <td>0.150000</td>\n",
       "      <td>Count_CT_Nos1_Spp1_Kcng2 / Count_CT_Kcng2Neurons</td>\n",
       "      <td>7200-1</td>\n",
       "      <td>0.8</td>\n",
       "      <td>8</td>\n",
       "    </tr>\n",
       "  </tbody>\n",
       "</table>\n",
       "</div>"
      ],
      "text/plain": [
       "     ML Position             Image   Percent  \\\n",
       "115         2.22  MAX_6700-1-1A-S3  0.042254   \n",
       "116         2.10  MAX_6700-1-1A-S4  0.035398   \n",
       "117         1.80  MAX_6700-1-2A-S3  0.018868   \n",
       "118         1.68  MAX_6700-1-2A-S4  0.045455   \n",
       "119         1.44  MAX_6700-1-3A-S1  0.087248   \n",
       "120         1.32  MAX_6700-1-3A-S3  0.000000   \n",
       "121         0.72  MAX_6700-1-4A-S2  0.000000   \n",
       "122         0.48  MAX_6700-1-4A-S3  0.000000   \n",
       "123         1.98  MAX_6700-2-1A-S3  0.024793   \n",
       "124         1.92  MAX_6700-2-1A-S4  0.017699   \n",
       "125         1.74  MAX_6700-2-2A-S2  0.085106   \n",
       "126         1.50  MAX_6700-2-2A-S4  0.115385   \n",
       "127         1.20  MAX_6700-2-3A-S2  0.039062   \n",
       "128         0.66  MAX_6700-2-3A-S4  0.017857   \n",
       "129         0.54  MAX_6700-2-4A-S1  0.105263   \n",
       "130         2.16  MAX_7200-1-1D-S2  0.023438   \n",
       "131         2.04  MAX_7200-1-1D-S4  0.017544   \n",
       "132         1.92  MAX_7200-1-2D-S2  0.016529   \n",
       "133         1.86  MAX_7200-1-2D-S3  0.077670   \n",
       "134         1.68  MAX_7200-1-3D-S2  0.211382   \n",
       "135         1.32  MAX_7200-1-3D-S4  0.184615   \n",
       "136         1.20  MAX_7200-1-4D-S1  0.063063   \n",
       "137         0.96  MAX_7200-1-4D-S3  0.150000   \n",
       "\n",
       "                                          MarkerCombo Mouse ID  \\\n",
       "115  Count_CT_Nos1_Spp1_Kcng2 / Count_CT_Kcng2Neurons   6700-1   \n",
       "116  Count_CT_Nos1_Spp1_Kcng2 / Count_CT_Kcng2Neurons   6700-1   \n",
       "117  Count_CT_Nos1_Spp1_Kcng2 / Count_CT_Kcng2Neurons   6700-1   \n",
       "118  Count_CT_Nos1_Spp1_Kcng2 / Count_CT_Kcng2Neurons   6700-1   \n",
       "119  Count_CT_Nos1_Spp1_Kcng2 / Count_CT_Kcng2Neurons   6700-1   \n",
       "120  Count_CT_Nos1_Spp1_Kcng2 / Count_CT_Kcng2Neurons   6700-1   \n",
       "121  Count_CT_Nos1_Spp1_Kcng2 / Count_CT_Kcng2Neurons   6700-1   \n",
       "122  Count_CT_Nos1_Spp1_Kcng2 / Count_CT_Kcng2Neurons   6700-1   \n",
       "123  Count_CT_Nos1_Spp1_Kcng2 / Count_CT_Kcng2Neurons   6700-2   \n",
       "124  Count_CT_Nos1_Spp1_Kcng2 / Count_CT_Kcng2Neurons   6700-2   \n",
       "125  Count_CT_Nos1_Spp1_Kcng2 / Count_CT_Kcng2Neurons   6700-2   \n",
       "126  Count_CT_Nos1_Spp1_Kcng2 / Count_CT_Kcng2Neurons   6700-2   \n",
       "127  Count_CT_Nos1_Spp1_Kcng2 / Count_CT_Kcng2Neurons   6700-2   \n",
       "128  Count_CT_Nos1_Spp1_Kcng2 / Count_CT_Kcng2Neurons   6700-2   \n",
       "129  Count_CT_Nos1_Spp1_Kcng2 / Count_CT_Kcng2Neurons   6700-2   \n",
       "130  Count_CT_Nos1_Spp1_Kcng2 / Count_CT_Kcng2Neurons   7200-1   \n",
       "131  Count_CT_Nos1_Spp1_Kcng2 / Count_CT_Kcng2Neurons   7200-1   \n",
       "132  Count_CT_Nos1_Spp1_Kcng2 / Count_CT_Kcng2Neurons   7200-1   \n",
       "133  Count_CT_Nos1_Spp1_Kcng2 / Count_CT_Kcng2Neurons   7200-1   \n",
       "134  Count_CT_Nos1_Spp1_Kcng2 / Count_CT_Kcng2Neurons   7200-1   \n",
       "135  Count_CT_Nos1_Spp1_Kcng2 / Count_CT_Kcng2Neurons   7200-1   \n",
       "136  Count_CT_Nos1_Spp1_Kcng2 / Count_CT_Kcng2Neurons   7200-1   \n",
       "137  Count_CT_Nos1_Spp1_Kcng2 / Count_CT_Kcng2Neurons   7200-1   \n",
       "\n",
       "    Binned ML Position  Image Position  \n",
       "115                NaN               1  \n",
       "116                2.0               2  \n",
       "117                1.8               3  \n",
       "118                1.6               4  \n",
       "119                1.4               5  \n",
       "120                1.2               6  \n",
       "121                NaN               7  \n",
       "122                NaN               8  \n",
       "123                1.8               1  \n",
       "124                1.8               2  \n",
       "125                1.6               3  \n",
       "126                1.4               4  \n",
       "127                1.0               5  \n",
       "128                NaN               6  \n",
       "129                NaN               7  \n",
       "130                2.0               1  \n",
       "131                2.0               2  \n",
       "132                1.8               3  \n",
       "133                1.8               4  \n",
       "134                1.6               5  \n",
       "135                1.2               6  \n",
       "136                1.0               7  \n",
       "137                0.8               8  "
      ]
     },
     "execution_count": 31,
     "metadata": {},
     "output_type": "execute_result"
    }
   ],
   "source": [
    "percentplotDF[percentplotDF['MarkerCombo'] ==  'Count_CT_Nos1_Spp1_Kcng2 / Count_CT_Kcng2Neurons']"
   ]
  },
  {
   "cell_type": "code",
   "execution_count": 32,
   "metadata": {},
   "outputs": [
    {
     "data": {
      "text/plain": [
       "['Count_CT_DAPI',\n",
       " 'Count_CT_Kcng2Neurons',\n",
       " 'Count_CT_Kcng2_Nos1neg',\n",
       " 'Count_CT_Kcng2only',\n",
       " 'Count_CT_Nos1_Kcng2',\n",
       " 'Count_CT_Nos1_Spp1_Kcng2',\n",
       " 'Count_CT_Spp1_Kcng2',\n",
       " 'ExecutionTime_01Images',\n",
       " 'ExecutionTime_02Metadata',\n",
       " 'ExecutionTime_03NamesAndTypes',\n",
       " 'ExecutionTime_04Groups',\n",
       " 'ExecutionTime_05ColorToGray',\n",
       " 'ExecutionTime_06IdentifyPrimaryObjects',\n",
       " 'ExecutionTime_07Smooth',\n",
       " 'ExecutionTime_08MeasureImageIntensity',\n",
       " 'ExecutionTime_09IdentifyPrimaryObjects',\n",
       " 'ExecutionTime_10Smooth',\n",
       " 'ExecutionTime_11Smooth',\n",
       " 'ExecutionTime_12Smooth',\n",
       " 'ExecutionTime_13MeasureImageIntensity',\n",
       " 'ExecutionTime_14RescaleIntensity',\n",
       " 'ExecutionTime_15RescaleIntensity',\n",
       " 'ExecutionTime_16RescaleIntensity',\n",
       " 'ExecutionTime_17Threshold',\n",
       " 'ExecutionTime_18Threshold',\n",
       " 'ExecutionTime_19Threshold',\n",
       " 'ExecutionTime_20MeasureObjectIntensity',\n",
       " 'ExecutionTime_22FilterObjects',\n",
       " 'ExecutionTime_23FilterObjects',\n",
       " 'ExecutionTime_27MaskObjects',\n",
       " 'ExecutionTime_28MaskObjects',\n",
       " 'ExecutionTime_29MaskObjects',\n",
       " 'ExecutionTime_30OverlayOutlines',\n",
       " 'ExecutionTime_31OverlayOutlines',\n",
       " 'ExecutionTime_32MeasureObjectSizeShape',\n",
       " 'FileName_CellPoseMasks',\n",
       " 'FileName_RAW',\n",
       " 'Frame_CellPoseMasks',\n",
       " 'Frame_RAW',\n",
       " 'Group_Index',\n",
       " 'Group_Number',\n",
       " 'Height_CellPoseMasks',\n",
       " 'Height_RAW',\n",
       " 'ImageNumber',\n",
       " 'Intensity_LowerQuartileIntensity_MedianFilteredDAPI',\n",
       " 'Intensity_LowerQuartileIntensity_MedianFilteredKcng2',\n",
       " 'Intensity_LowerQuartileIntensity_MedianFilteredNos1',\n",
       " 'Intensity_LowerQuartileIntensity_MedianFilteredSpp1',\n",
       " 'Intensity_MADIntensity_MedianFilteredDAPI',\n",
       " 'Intensity_MADIntensity_MedianFilteredKcng2',\n",
       " 'Intensity_MADIntensity_MedianFilteredNos1',\n",
       " 'Intensity_MADIntensity_MedianFilteredSpp1',\n",
       " 'Intensity_MaxIntensity_MedianFilteredDAPI',\n",
       " 'Intensity_MaxIntensity_MedianFilteredKcng2',\n",
       " 'Intensity_MaxIntensity_MedianFilteredNos1',\n",
       " 'Intensity_MaxIntensity_MedianFilteredSpp1',\n",
       " 'Intensity_MeanIntensity_MedianFilteredDAPI',\n",
       " 'Intensity_MeanIntensity_MedianFilteredKcng2',\n",
       " 'Intensity_MeanIntensity_MedianFilteredNos1',\n",
       " 'Intensity_MeanIntensity_MedianFilteredSpp1',\n",
       " 'Intensity_MedianIntensity_MedianFilteredDAPI',\n",
       " 'Intensity_MedianIntensity_MedianFilteredKcng2',\n",
       " 'Intensity_MedianIntensity_MedianFilteredNos1',\n",
       " 'Intensity_MedianIntensity_MedianFilteredSpp1',\n",
       " 'Intensity_MinIntensity_MedianFilteredDAPI',\n",
       " 'Intensity_MinIntensity_MedianFilteredKcng2',\n",
       " 'Intensity_MinIntensity_MedianFilteredNos1',\n",
       " 'Intensity_MinIntensity_MedianFilteredSpp1',\n",
       " 'Intensity_PercentMaximal_MedianFilteredDAPI',\n",
       " 'Intensity_PercentMaximal_MedianFilteredKcng2',\n",
       " 'Intensity_PercentMaximal_MedianFilteredNos1',\n",
       " 'Intensity_PercentMaximal_MedianFilteredSpp1',\n",
       " 'Intensity_StdIntensity_MedianFilteredDAPI',\n",
       " 'Intensity_StdIntensity_MedianFilteredKcng2',\n",
       " 'Intensity_StdIntensity_MedianFilteredNos1',\n",
       " 'Intensity_StdIntensity_MedianFilteredSpp1',\n",
       " 'Intensity_TotalArea_MedianFilteredDAPI',\n",
       " 'Intensity_TotalArea_MedianFilteredKcng2',\n",
       " 'Intensity_TotalArea_MedianFilteredNos1',\n",
       " 'Intensity_TotalArea_MedianFilteredSpp1',\n",
       " 'Intensity_TotalIntensity_MedianFilteredDAPI',\n",
       " 'Intensity_TotalIntensity_MedianFilteredKcng2',\n",
       " 'Intensity_TotalIntensity_MedianFilteredNos1',\n",
       " 'Intensity_TotalIntensity_MedianFilteredSpp1',\n",
       " 'Intensity_UpperQuartileIntensity_MedianFilteredDAPI',\n",
       " 'Intensity_UpperQuartileIntensity_MedianFilteredKcng2',\n",
       " 'Intensity_UpperQuartileIntensity_MedianFilteredNos1',\n",
       " 'Intensity_UpperQuartileIntensity_MedianFilteredSpp1',\n",
       " 'MD5Digest_CellPoseMasks',\n",
       " 'MD5Digest_RAW',\n",
       " 'Metadata_C',\n",
       " 'Metadata_ChannelName',\n",
       " 'Metadata_ColorFormat',\n",
       " 'Metadata_FileLocation',\n",
       " 'Metadata_Frame',\n",
       " 'Metadata_Plate',\n",
       " 'Metadata_Series',\n",
       " 'Metadata_Site',\n",
       " 'Metadata_SizeC',\n",
       " 'Metadata_SizeT',\n",
       " 'Metadata_SizeX',\n",
       " 'Metadata_SizeY',\n",
       " 'Metadata_SizeZ',\n",
       " 'Metadata_T',\n",
       " 'Metadata_Well',\n",
       " 'Metadata_Z',\n",
       " 'ModuleError_01Images',\n",
       " 'ModuleError_02Metadata',\n",
       " 'ModuleError_03NamesAndTypes',\n",
       " 'ModuleError_04Groups',\n",
       " 'ModuleError_05ColorToGray',\n",
       " 'ModuleError_06IdentifyPrimaryObjects',\n",
       " 'ModuleError_07Smooth',\n",
       " 'ModuleError_08MeasureImageIntensity',\n",
       " 'ModuleError_09IdentifyPrimaryObjects',\n",
       " 'ModuleError_10Smooth',\n",
       " 'ModuleError_11Smooth',\n",
       " 'ModuleError_12Smooth',\n",
       " 'ModuleError_13MeasureImageIntensity',\n",
       " 'ModuleError_14RescaleIntensity',\n",
       " 'ModuleError_15RescaleIntensity',\n",
       " 'ModuleError_16RescaleIntensity',\n",
       " 'ModuleError_17Threshold',\n",
       " 'ModuleError_18Threshold',\n",
       " 'ModuleError_19Threshold',\n",
       " 'ModuleError_20MeasureObjectIntensity',\n",
       " 'ModuleError_22FilterObjects',\n",
       " 'ModuleError_23FilterObjects',\n",
       " 'ModuleError_27MaskObjects',\n",
       " 'ModuleError_28MaskObjects',\n",
       " 'ModuleError_29MaskObjects',\n",
       " 'ModuleError_30OverlayOutlines',\n",
       " 'ModuleError_31OverlayOutlines',\n",
       " 'ModuleError_32MeasureObjectSizeShape',\n",
       " 'PathName_CellPoseMasks',\n",
       " 'PathName_RAW',\n",
       " 'Scaling_CellPoseMasks',\n",
       " 'Scaling_RAW',\n",
       " 'Series_CellPoseMasks',\n",
       " 'Series_RAW',\n",
       " 'Threshold_FinalThreshold_CT_DAPI',\n",
       " 'Threshold_FinalThreshold_CT_Kcng2Neurons',\n",
       " 'Threshold_FinalThreshold_Kcng2Robust',\n",
       " 'Threshold_FinalThreshold_Nos1Robust',\n",
       " 'Threshold_FinalThreshold_Spp1Robust',\n",
       " 'Threshold_GuideThreshold_CT_DAPI',\n",
       " 'Threshold_OrigThreshold_CT_DAPI',\n",
       " 'Threshold_OrigThreshold_CT_Kcng2Neurons',\n",
       " 'Threshold_OrigThreshold_Kcng2Robust',\n",
       " 'Threshold_OrigThreshold_Nos1Robust',\n",
       " 'Threshold_OrigThreshold_Spp1Robust',\n",
       " 'Threshold_SumOfEntropies_CT_DAPI',\n",
       " 'Threshold_SumOfEntropies_CT_Kcng2Neurons',\n",
       " 'Threshold_SumOfEntropies_Kcng2Robust',\n",
       " 'Threshold_SumOfEntropies_Nos1Robust',\n",
       " 'Threshold_SumOfEntropies_Spp1Robust',\n",
       " 'Threshold_WeightedVariance_CT_DAPI',\n",
       " 'Threshold_WeightedVariance_CT_Kcng2Neurons',\n",
       " 'Threshold_WeightedVariance_Kcng2Robust',\n",
       " 'Threshold_WeightedVariance_Nos1Robust',\n",
       " 'Threshold_WeightedVariance_Spp1Robust',\n",
       " 'URL_CellPoseMasks',\n",
       " 'URL_RAW',\n",
       " 'Width_CellPoseMasks',\n",
       " 'Width_RAW',\n",
       " 'Count_CT_Pure_Nos1_Kcng2',\n",
       " 'Count_CT_Pure_Spp1_Kcng2',\n",
       " 'Mouse ID',\n",
       " 'ML Position',\n",
       " 'Binned ML Position',\n",
       " 'Image Position']"
      ]
     },
     "execution_count": 32,
     "metadata": {},
     "output_type": "execute_result"
    }
   ],
   "source": [
    "cellprofilerDF.columns.tolist()"
   ]
  },
  {
   "cell_type": "code",
   "execution_count": 33,
   "metadata": {},
   "outputs": [],
   "source": [
    "cols = [i for i in cellprofilerDF.columns.tolist() if i.find('Count') >= 0]\n"
   ]
  },
  {
   "cell_type": "code",
   "execution_count": 34,
   "metadata": {},
   "outputs": [],
   "source": [
    "parentcols = [i for i in cols if i.find(ParentProbe) >= 0]\n"
   ]
  },
  {
   "cell_type": "code",
   "execution_count": 35,
   "metadata": {},
   "outputs": [],
   "source": [
    "for a in cols:\n",
    "    \n",
    "    for b in parentcols:\n",
    "        \n",
    "        new_col = a + \" / \" + b\n",
    "        cellprofilerDF[new_col] = cellprofilerDF[a] / cellprofilerDF[b]\n",
    "            "
   ]
  },
  {
   "cell_type": "code",
   "execution_count": 36,
   "metadata": {},
   "outputs": [
    {
     "data": {
      "text/html": [
       "<div>\n",
       "<style scoped>\n",
       "    .dataframe tbody tr th:only-of-type {\n",
       "        vertical-align: middle;\n",
       "    }\n",
       "\n",
       "    .dataframe tbody tr th {\n",
       "        vertical-align: top;\n",
       "    }\n",
       "\n",
       "    .dataframe thead th {\n",
       "        text-align: right;\n",
       "    }\n",
       "</style>\n",
       "<table border=\"1\" class=\"dataframe\">\n",
       "  <thead>\n",
       "    <tr style=\"text-align: right;\">\n",
       "      <th></th>\n",
       "      <th>Count_CT_DAPI / Count_CT_Kcng2Neurons</th>\n",
       "      <th>Count_CT_Kcng2Neurons / Count_CT_Kcng2Neurons</th>\n",
       "      <th>Count_CT_Kcng2_Nos1neg / Count_CT_Kcng2Neurons</th>\n",
       "      <th>Count_CT_Kcng2only / Count_CT_Kcng2Neurons</th>\n",
       "      <th>Count_CT_Nos1_Kcng2 / Count_CT_Kcng2Neurons</th>\n",
       "      <th>Count_CT_Nos1_Spp1_Kcng2 / Count_CT_Kcng2Neurons</th>\n",
       "      <th>Count_CT_Spp1_Kcng2 / Count_CT_Kcng2Neurons</th>\n",
       "      <th>Count_CT_Pure_Nos1_Kcng2 / Count_CT_Kcng2Neurons</th>\n",
       "      <th>Count_CT_Pure_Spp1_Kcng2 / Count_CT_Kcng2Neurons</th>\n",
       "    </tr>\n",
       "  </thead>\n",
       "  <tbody>\n",
       "    <tr>\n",
       "      <th>0</th>\n",
       "      <td>19.288732</td>\n",
       "      <td>1.0</td>\n",
       "      <td>0.542254</td>\n",
       "      <td>0.485915</td>\n",
       "      <td>0.457746</td>\n",
       "      <td>0.042254</td>\n",
       "      <td>0.098592</td>\n",
       "      <td>0.415493</td>\n",
       "      <td>0.056338</td>\n",
       "    </tr>\n",
       "    <tr>\n",
       "      <th>1</th>\n",
       "      <td>21.398230</td>\n",
       "      <td>1.0</td>\n",
       "      <td>0.619469</td>\n",
       "      <td>0.477876</td>\n",
       "      <td>0.380531</td>\n",
       "      <td>0.035398</td>\n",
       "      <td>0.176991</td>\n",
       "      <td>0.345133</td>\n",
       "      <td>0.141593</td>\n",
       "    </tr>\n",
       "    <tr>\n",
       "      <th>2</th>\n",
       "      <td>23.981132</td>\n",
       "      <td>1.0</td>\n",
       "      <td>0.405660</td>\n",
       "      <td>0.283019</td>\n",
       "      <td>0.594340</td>\n",
       "      <td>0.018868</td>\n",
       "      <td>0.141509</td>\n",
       "      <td>0.575472</td>\n",
       "      <td>0.122642</td>\n",
       "    </tr>\n",
       "    <tr>\n",
       "      <th>3</th>\n",
       "      <td>22.734848</td>\n",
       "      <td>1.0</td>\n",
       "      <td>0.477273</td>\n",
       "      <td>0.356061</td>\n",
       "      <td>0.522727</td>\n",
       "      <td>0.045455</td>\n",
       "      <td>0.166667</td>\n",
       "      <td>0.477273</td>\n",
       "      <td>0.121212</td>\n",
       "    </tr>\n",
       "    <tr>\n",
       "      <th>4</th>\n",
       "      <td>19.026846</td>\n",
       "      <td>1.0</td>\n",
       "      <td>0.362416</td>\n",
       "      <td>0.302013</td>\n",
       "      <td>0.637584</td>\n",
       "      <td>0.087248</td>\n",
       "      <td>0.147651</td>\n",
       "      <td>0.550336</td>\n",
       "      <td>0.060403</td>\n",
       "    </tr>\n",
       "    <tr>\n",
       "      <th>5</th>\n",
       "      <td>24.521008</td>\n",
       "      <td>1.0</td>\n",
       "      <td>0.899160</td>\n",
       "      <td>0.789916</td>\n",
       "      <td>0.100840</td>\n",
       "      <td>0.000000</td>\n",
       "      <td>0.109244</td>\n",
       "      <td>0.100840</td>\n",
       "      <td>0.109244</td>\n",
       "    </tr>\n",
       "    <tr>\n",
       "      <th>6</th>\n",
       "      <td>16.327586</td>\n",
       "      <td>1.0</td>\n",
       "      <td>0.689655</td>\n",
       "      <td>0.672414</td>\n",
       "      <td>0.310345</td>\n",
       "      <td>0.000000</td>\n",
       "      <td>0.017241</td>\n",
       "      <td>0.310345</td>\n",
       "      <td>0.017241</td>\n",
       "    </tr>\n",
       "    <tr>\n",
       "      <th>7</th>\n",
       "      <td>13.311111</td>\n",
       "      <td>1.0</td>\n",
       "      <td>0.933333</td>\n",
       "      <td>0.800000</td>\n",
       "      <td>0.066667</td>\n",
       "      <td>0.000000</td>\n",
       "      <td>0.133333</td>\n",
       "      <td>0.066667</td>\n",
       "      <td>0.133333</td>\n",
       "    </tr>\n",
       "    <tr>\n",
       "      <th>8</th>\n",
       "      <td>21.413223</td>\n",
       "      <td>1.0</td>\n",
       "      <td>0.603306</td>\n",
       "      <td>0.495868</td>\n",
       "      <td>0.396694</td>\n",
       "      <td>0.024793</td>\n",
       "      <td>0.132231</td>\n",
       "      <td>0.371901</td>\n",
       "      <td>0.107438</td>\n",
       "    </tr>\n",
       "    <tr>\n",
       "      <th>9</th>\n",
       "      <td>23.938053</td>\n",
       "      <td>1.0</td>\n",
       "      <td>0.460177</td>\n",
       "      <td>0.407080</td>\n",
       "      <td>0.539823</td>\n",
       "      <td>0.017699</td>\n",
       "      <td>0.070796</td>\n",
       "      <td>0.522124</td>\n",
       "      <td>0.053097</td>\n",
       "    </tr>\n",
       "    <tr>\n",
       "      <th>10</th>\n",
       "      <td>21.460993</td>\n",
       "      <td>1.0</td>\n",
       "      <td>0.340426</td>\n",
       "      <td>0.226950</td>\n",
       "      <td>0.659574</td>\n",
       "      <td>0.085106</td>\n",
       "      <td>0.198582</td>\n",
       "      <td>0.574468</td>\n",
       "      <td>0.113475</td>\n",
       "    </tr>\n",
       "    <tr>\n",
       "      <th>11</th>\n",
       "      <td>16.800000</td>\n",
       "      <td>1.0</td>\n",
       "      <td>0.430769</td>\n",
       "      <td>0.338462</td>\n",
       "      <td>0.569231</td>\n",
       "      <td>0.115385</td>\n",
       "      <td>0.207692</td>\n",
       "      <td>0.453846</td>\n",
       "      <td>0.092308</td>\n",
       "    </tr>\n",
       "    <tr>\n",
       "      <th>12</th>\n",
       "      <td>18.710938</td>\n",
       "      <td>1.0</td>\n",
       "      <td>0.640625</td>\n",
       "      <td>0.601562</td>\n",
       "      <td>0.359375</td>\n",
       "      <td>0.039062</td>\n",
       "      <td>0.078125</td>\n",
       "      <td>0.320312</td>\n",
       "      <td>0.039062</td>\n",
       "    </tr>\n",
       "    <tr>\n",
       "      <th>13</th>\n",
       "      <td>21.232143</td>\n",
       "      <td>1.0</td>\n",
       "      <td>0.625000</td>\n",
       "      <td>0.482143</td>\n",
       "      <td>0.375000</td>\n",
       "      <td>0.017857</td>\n",
       "      <td>0.160714</td>\n",
       "      <td>0.357143</td>\n",
       "      <td>0.142857</td>\n",
       "    </tr>\n",
       "    <tr>\n",
       "      <th>14</th>\n",
       "      <td>21.105263</td>\n",
       "      <td>1.0</td>\n",
       "      <td>0.710526</td>\n",
       "      <td>0.552632</td>\n",
       "      <td>0.289474</td>\n",
       "      <td>0.105263</td>\n",
       "      <td>0.263158</td>\n",
       "      <td>0.184211</td>\n",
       "      <td>0.157895</td>\n",
       "    </tr>\n",
       "    <tr>\n",
       "      <th>15</th>\n",
       "      <td>11.210938</td>\n",
       "      <td>1.0</td>\n",
       "      <td>0.632812</td>\n",
       "      <td>0.546875</td>\n",
       "      <td>0.367188</td>\n",
       "      <td>0.023438</td>\n",
       "      <td>0.109375</td>\n",
       "      <td>0.343750</td>\n",
       "      <td>0.085938</td>\n",
       "    </tr>\n",
       "    <tr>\n",
       "      <th>17</th>\n",
       "      <td>11.026316</td>\n",
       "      <td>1.0</td>\n",
       "      <td>0.543860</td>\n",
       "      <td>0.456140</td>\n",
       "      <td>0.456140</td>\n",
       "      <td>0.017544</td>\n",
       "      <td>0.105263</td>\n",
       "      <td>0.438596</td>\n",
       "      <td>0.087719</td>\n",
       "    </tr>\n",
       "    <tr>\n",
       "      <th>18</th>\n",
       "      <td>23.388430</td>\n",
       "      <td>1.0</td>\n",
       "      <td>0.495868</td>\n",
       "      <td>0.429752</td>\n",
       "      <td>0.504132</td>\n",
       "      <td>0.016529</td>\n",
       "      <td>0.082645</td>\n",
       "      <td>0.487603</td>\n",
       "      <td>0.066116</td>\n",
       "    </tr>\n",
       "    <tr>\n",
       "      <th>19</th>\n",
       "      <td>10.087379</td>\n",
       "      <td>1.0</td>\n",
       "      <td>0.388350</td>\n",
       "      <td>0.281553</td>\n",
       "      <td>0.611650</td>\n",
       "      <td>0.077670</td>\n",
       "      <td>0.184466</td>\n",
       "      <td>0.533981</td>\n",
       "      <td>0.106796</td>\n",
       "    </tr>\n",
       "    <tr>\n",
       "      <th>21</th>\n",
       "      <td>27.455285</td>\n",
       "      <td>1.0</td>\n",
       "      <td>0.406504</td>\n",
       "      <td>0.325203</td>\n",
       "      <td>0.593496</td>\n",
       "      <td>0.211382</td>\n",
       "      <td>0.292683</td>\n",
       "      <td>0.382114</td>\n",
       "      <td>0.081301</td>\n",
       "    </tr>\n",
       "    <tr>\n",
       "      <th>23</th>\n",
       "      <td>15.589744</td>\n",
       "      <td>1.0</td>\n",
       "      <td>0.333333</td>\n",
       "      <td>0.323077</td>\n",
       "      <td>0.666667</td>\n",
       "      <td>0.184615</td>\n",
       "      <td>0.194872</td>\n",
       "      <td>0.482051</td>\n",
       "      <td>0.010256</td>\n",
       "    </tr>\n",
       "    <tr>\n",
       "      <th>24</th>\n",
       "      <td>32.756757</td>\n",
       "      <td>1.0</td>\n",
       "      <td>0.648649</td>\n",
       "      <td>0.585586</td>\n",
       "      <td>0.351351</td>\n",
       "      <td>0.063063</td>\n",
       "      <td>0.126126</td>\n",
       "      <td>0.288288</td>\n",
       "      <td>0.063063</td>\n",
       "    </tr>\n",
       "    <tr>\n",
       "      <th>26</th>\n",
       "      <td>8.910000</td>\n",
       "      <td>1.0</td>\n",
       "      <td>0.820000</td>\n",
       "      <td>0.270000</td>\n",
       "      <td>0.180000</td>\n",
       "      <td>0.150000</td>\n",
       "      <td>0.700000</td>\n",
       "      <td>0.030000</td>\n",
       "      <td>0.550000</td>\n",
       "    </tr>\n",
       "  </tbody>\n",
       "</table>\n",
       "</div>"
      ],
      "text/plain": [
       "    Count_CT_DAPI / Count_CT_Kcng2Neurons  \\\n",
       "0                               19.288732   \n",
       "1                               21.398230   \n",
       "2                               23.981132   \n",
       "3                               22.734848   \n",
       "4                               19.026846   \n",
       "5                               24.521008   \n",
       "6                               16.327586   \n",
       "7                               13.311111   \n",
       "8                               21.413223   \n",
       "9                               23.938053   \n",
       "10                              21.460993   \n",
       "11                              16.800000   \n",
       "12                              18.710938   \n",
       "13                              21.232143   \n",
       "14                              21.105263   \n",
       "15                              11.210938   \n",
       "17                              11.026316   \n",
       "18                              23.388430   \n",
       "19                              10.087379   \n",
       "21                              27.455285   \n",
       "23                              15.589744   \n",
       "24                              32.756757   \n",
       "26                               8.910000   \n",
       "\n",
       "    Count_CT_Kcng2Neurons / Count_CT_Kcng2Neurons  \\\n",
       "0                                             1.0   \n",
       "1                                             1.0   \n",
       "2                                             1.0   \n",
       "3                                             1.0   \n",
       "4                                             1.0   \n",
       "5                                             1.0   \n",
       "6                                             1.0   \n",
       "7                                             1.0   \n",
       "8                                             1.0   \n",
       "9                                             1.0   \n",
       "10                                            1.0   \n",
       "11                                            1.0   \n",
       "12                                            1.0   \n",
       "13                                            1.0   \n",
       "14                                            1.0   \n",
       "15                                            1.0   \n",
       "17                                            1.0   \n",
       "18                                            1.0   \n",
       "19                                            1.0   \n",
       "21                                            1.0   \n",
       "23                                            1.0   \n",
       "24                                            1.0   \n",
       "26                                            1.0   \n",
       "\n",
       "    Count_CT_Kcng2_Nos1neg / Count_CT_Kcng2Neurons  \\\n",
       "0                                         0.542254   \n",
       "1                                         0.619469   \n",
       "2                                         0.405660   \n",
       "3                                         0.477273   \n",
       "4                                         0.362416   \n",
       "5                                         0.899160   \n",
       "6                                         0.689655   \n",
       "7                                         0.933333   \n",
       "8                                         0.603306   \n",
       "9                                         0.460177   \n",
       "10                                        0.340426   \n",
       "11                                        0.430769   \n",
       "12                                        0.640625   \n",
       "13                                        0.625000   \n",
       "14                                        0.710526   \n",
       "15                                        0.632812   \n",
       "17                                        0.543860   \n",
       "18                                        0.495868   \n",
       "19                                        0.388350   \n",
       "21                                        0.406504   \n",
       "23                                        0.333333   \n",
       "24                                        0.648649   \n",
       "26                                        0.820000   \n",
       "\n",
       "    Count_CT_Kcng2only / Count_CT_Kcng2Neurons  \\\n",
       "0                                     0.485915   \n",
       "1                                     0.477876   \n",
       "2                                     0.283019   \n",
       "3                                     0.356061   \n",
       "4                                     0.302013   \n",
       "5                                     0.789916   \n",
       "6                                     0.672414   \n",
       "7                                     0.800000   \n",
       "8                                     0.495868   \n",
       "9                                     0.407080   \n",
       "10                                    0.226950   \n",
       "11                                    0.338462   \n",
       "12                                    0.601562   \n",
       "13                                    0.482143   \n",
       "14                                    0.552632   \n",
       "15                                    0.546875   \n",
       "17                                    0.456140   \n",
       "18                                    0.429752   \n",
       "19                                    0.281553   \n",
       "21                                    0.325203   \n",
       "23                                    0.323077   \n",
       "24                                    0.585586   \n",
       "26                                    0.270000   \n",
       "\n",
       "    Count_CT_Nos1_Kcng2 / Count_CT_Kcng2Neurons  \\\n",
       "0                                      0.457746   \n",
       "1                                      0.380531   \n",
       "2                                      0.594340   \n",
       "3                                      0.522727   \n",
       "4                                      0.637584   \n",
       "5                                      0.100840   \n",
       "6                                      0.310345   \n",
       "7                                      0.066667   \n",
       "8                                      0.396694   \n",
       "9                                      0.539823   \n",
       "10                                     0.659574   \n",
       "11                                     0.569231   \n",
       "12                                     0.359375   \n",
       "13                                     0.375000   \n",
       "14                                     0.289474   \n",
       "15                                     0.367188   \n",
       "17                                     0.456140   \n",
       "18                                     0.504132   \n",
       "19                                     0.611650   \n",
       "21                                     0.593496   \n",
       "23                                     0.666667   \n",
       "24                                     0.351351   \n",
       "26                                     0.180000   \n",
       "\n",
       "    Count_CT_Nos1_Spp1_Kcng2 / Count_CT_Kcng2Neurons  \\\n",
       "0                                           0.042254   \n",
       "1                                           0.035398   \n",
       "2                                           0.018868   \n",
       "3                                           0.045455   \n",
       "4                                           0.087248   \n",
       "5                                           0.000000   \n",
       "6                                           0.000000   \n",
       "7                                           0.000000   \n",
       "8                                           0.024793   \n",
       "9                                           0.017699   \n",
       "10                                          0.085106   \n",
       "11                                          0.115385   \n",
       "12                                          0.039062   \n",
       "13                                          0.017857   \n",
       "14                                          0.105263   \n",
       "15                                          0.023438   \n",
       "17                                          0.017544   \n",
       "18                                          0.016529   \n",
       "19                                          0.077670   \n",
       "21                                          0.211382   \n",
       "23                                          0.184615   \n",
       "24                                          0.063063   \n",
       "26                                          0.150000   \n",
       "\n",
       "    Count_CT_Spp1_Kcng2 / Count_CT_Kcng2Neurons  \\\n",
       "0                                      0.098592   \n",
       "1                                      0.176991   \n",
       "2                                      0.141509   \n",
       "3                                      0.166667   \n",
       "4                                      0.147651   \n",
       "5                                      0.109244   \n",
       "6                                      0.017241   \n",
       "7                                      0.133333   \n",
       "8                                      0.132231   \n",
       "9                                      0.070796   \n",
       "10                                     0.198582   \n",
       "11                                     0.207692   \n",
       "12                                     0.078125   \n",
       "13                                     0.160714   \n",
       "14                                     0.263158   \n",
       "15                                     0.109375   \n",
       "17                                     0.105263   \n",
       "18                                     0.082645   \n",
       "19                                     0.184466   \n",
       "21                                     0.292683   \n",
       "23                                     0.194872   \n",
       "24                                     0.126126   \n",
       "26                                     0.700000   \n",
       "\n",
       "    Count_CT_Pure_Nos1_Kcng2 / Count_CT_Kcng2Neurons  \\\n",
       "0                                           0.415493   \n",
       "1                                           0.345133   \n",
       "2                                           0.575472   \n",
       "3                                           0.477273   \n",
       "4                                           0.550336   \n",
       "5                                           0.100840   \n",
       "6                                           0.310345   \n",
       "7                                           0.066667   \n",
       "8                                           0.371901   \n",
       "9                                           0.522124   \n",
       "10                                          0.574468   \n",
       "11                                          0.453846   \n",
       "12                                          0.320312   \n",
       "13                                          0.357143   \n",
       "14                                          0.184211   \n",
       "15                                          0.343750   \n",
       "17                                          0.438596   \n",
       "18                                          0.487603   \n",
       "19                                          0.533981   \n",
       "21                                          0.382114   \n",
       "23                                          0.482051   \n",
       "24                                          0.288288   \n",
       "26                                          0.030000   \n",
       "\n",
       "    Count_CT_Pure_Spp1_Kcng2 / Count_CT_Kcng2Neurons  \n",
       "0                                           0.056338  \n",
       "1                                           0.141593  \n",
       "2                                           0.122642  \n",
       "3                                           0.121212  \n",
       "4                                           0.060403  \n",
       "5                                           0.109244  \n",
       "6                                           0.017241  \n",
       "7                                           0.133333  \n",
       "8                                           0.107438  \n",
       "9                                           0.053097  \n",
       "10                                          0.113475  \n",
       "11                                          0.092308  \n",
       "12                                          0.039062  \n",
       "13                                          0.142857  \n",
       "14                                          0.157895  \n",
       "15                                          0.085938  \n",
       "17                                          0.087719  \n",
       "18                                          0.066116  \n",
       "19                                          0.106796  \n",
       "21                                          0.081301  \n",
       "23                                          0.010256  \n",
       "24                                          0.063063  \n",
       "26                                          0.550000  "
      ]
     },
     "execution_count": 36,
     "metadata": {},
     "output_type": "execute_result"
    }
   ],
   "source": [
    "percentcols = [i for i in cellprofilerDF.columns.tolist() if i.find('/ ' + ParentProbe) >= 0]\n",
    "\n",
    "cellprofilerDF[percentcols]"
   ]
  },
  {
   "cell_type": "code",
   "execution_count": 37,
   "metadata": {},
   "outputs": [
    {
     "data": {
      "text/plain": [
       "0     2.22\n",
       "1     2.10\n",
       "2     1.80\n",
       "3     1.68\n",
       "4     1.44\n",
       "5     1.32\n",
       "6     0.72\n",
       "7     0.48\n",
       "8     1.98\n",
       "9     1.92\n",
       "10    1.74\n",
       "11    1.50\n",
       "12    1.20\n",
       "13    0.66\n",
       "14    0.54\n",
       "15    2.16\n",
       "17    2.04\n",
       "18    1.92\n",
       "19    1.86\n",
       "21    1.68\n",
       "23    1.32\n",
       "24    1.20\n",
       "26    0.96\n",
       "Name: ML Position, dtype: float64"
      ]
     },
     "execution_count": 37,
     "metadata": {},
     "output_type": "execute_result"
    }
   ],
   "source": [
    "cellprofilerDF['ML Position']"
   ]
  },
  {
   "cell_type": "markdown",
   "metadata": {},
   "source": [
    "# Plots"
   ]
  },
  {
   "cell_type": "code",
   "execution_count": 38,
   "metadata": {},
   "outputs": [],
   "source": [
    "savedir = '/Volumes/ryanKast/RKDATA/ConfocalData/SDC/RNAscope/V2/ZI/Sagittal/FINALSET_FIRSTTIER/PythonAnalysis/Plots/Kcng2Nos1Spp1/'\n",
    "sns.set_theme(style = 'white', \n",
    "              font = 'arial',\n",
    "              font_scale = 1)"
   ]
  },
  {
   "cell_type": "code",
   "execution_count": 39,
   "metadata": {},
   "outputs": [
    {
     "data": {
      "text/plain": [
       "['Count_CT_Kcng2only / Count_CT_Kcng2Neurons',\n",
       " 'Count_CT_Nos1_Kcng2 / Count_CT_Kcng2Neurons',\n",
       " 'Count_CT_Nos1_Spp1_Kcng2 / Count_CT_Kcng2Neurons',\n",
       " 'Count_CT_Spp1_Kcng2 / Count_CT_Kcng2Neurons',\n",
       " 'Count_CT_Pure_Nos1_Kcng2 / Count_CT_Kcng2Neurons',\n",
       " 'Count_CT_Pure_Spp1_Kcng2 / Count_CT_Kcng2Neurons']"
      ]
     },
     "execution_count": 39,
     "metadata": {},
     "output_type": "execute_result"
    }
   ],
   "source": [
    "[i for i in percentcols if (i.find('DAPI') == -1) &\n",
    "                           (i.find('neg') == -1) &\n",
    "                           (i.find('Neurons /') == -1)] \n"
   ]
  },
  {
   "cell_type": "code",
   "execution_count": null,
   "metadata": {},
   "outputs": [],
   "source": []
  },
  {
   "cell_type": "code",
   "execution_count": 83,
   "metadata": {},
   "outputs": [
    {
     "data": {
      "text/plain": [
       "<matplotlib.legend.Legend at 0x7f81d7b03b50>"
      ]
     },
     "execution_count": 83,
     "metadata": {},
     "output_type": "execute_result"
    },
    {
     "data": {
      "image/png": "[encoded data removed]",
      "text/plain": [
       "<Figure size 1200x800 with 2 Axes>"
      ]
     },
     "metadata": {},
     "output_type": "display_data"
    }
   ],
   "source": [
    "\n",
    "fig = plt.figure(figsize = (6,4), dpi = 200)\n",
    "\n",
    "ax1 = fig.add_axes([0,0,1,1])\n",
    "ax1.set_ylim(0,.5)\n",
    "ax1.set_ylabel('Percentage of Kcng2+ ZI cells')\n",
    "ax1.set_xlabel('ML Position Relative to Bregma (mm)')\n",
    "\n",
    "ax2 = plt.twinx()\n",
    "ax2.set_ylabel('Number of Cells Per Image')\n",
    "ax2.tick_params(axis='y', colors='red')\n",
    "ax2.yaxis.label.set_color('red')\n",
    "#cm = ['Purple', 'Green', 'Orangered']\n",
    "cm = ['darkblue', 'magenta','limegreen', ]\n",
    "plt.title('Percentage of Kcng2+ Zona Incerta Neurons\\nAs Function of Mediolateral Position',)\n",
    "\n",
    "sns.lineplot(data=cellprofilerDF,\n",
    "            x='ML Position', \n",
    "            y= ParentProbe,\n",
    "            marker = \"s\",\n",
    "            color = 'red',\n",
    "            markersize = 8,\n",
    "            #hue = 'Mouse ID',\n",
    "            ax = ax2,\n",
    "            alpha =0.25,\n",
    "            label = 'Kcng2+ Cells'\n",
    "            ).set_ylim(0,1000)\n",
    "\n",
    "sns.lineplot(data=percentplotDF[percentplotDF['MarkerCombo'].isin([\n",
    "                          'Count_CT_Pure_Kcng2_Gad2 / Count_CT_Gad2Neurons',\n",
    "                          'Count_CT_Pure_Pax6_Gad2 / Count_CT_Gad2Neurons',\n",
    "                          'Count_CT_Kcng2_Pax6_Gad2 / Count_CT_Gad2Neurons',])], \n",
    "             x='ML Position', \n",
    "             y='Percent', \n",
    "             hue = 'MarkerCombo',\n",
    "             hue_order = ['Count_CT_Kcng2_Pax6_Gad2 / Count_CT_Gad2Neurons',\n",
    "                          'Count_CT_Pure_Kcng2_Gad2 / Count_CT_Gad2Neurons',\n",
    "                          'Count_CT_Pure_Pax6_Gad2 / Count_CT_Gad2Neurons'],\n",
    "             marker = \"o\",\n",
    "             markersize = 10,\n",
    "             palette = cm,\n",
    "             ax = ax1,\n",
    "             alpha = 0.7\n",
    "             ).set_ylim(0,1.0)\n",
    "\n",
    "ax1.legend(bbox_to_anchor = (-0.6,1), \n",
    "           loc=2, \n",
    "           borderaxespad = 0, \n",
    "           labels = ['Pax6+Gad2+ ', 'Kcng2+Gad2+ ', 'Pax6+Kcng2+Gad2+'],\n",
    "           title = 'Percentage of Gad2+ Cells Per Image',\n",
    "           edgecolor = 'Black'\n",
    "           )\n",
    "\n",
    "ax2.legend(bbox_to_anchor = (1.15,1), \n",
    "           loc=2, \n",
    "           borderaxespad=0, \n",
    "           title = 'Number of Cells Per Image',\n",
    "           edgecolor = 'Gray'\n",
    "           )\n",
    "\n",
    "#plt.savefig(savedir + 'LinePlot_Gad2Pax6Kcng2_ML_Percent_wGAD2counts.png',  bbox_inches='tight')"
   ]
  },
  {
   "cell_type": "code",
   "execution_count": 84,
   "metadata": {},
   "outputs": [
    {
     "data": {
      "text/plain": [
       "0     6700-1\n",
       "1     6700-1\n",
       "2     6700-1\n",
       "3     6700-1\n",
       "4     6700-1\n",
       "5     6700-1\n",
       "6     6700-1\n",
       "7     6700-1\n",
       "8     6700-2\n",
       "9     6700-2\n",
       "10    6700-2\n",
       "11    6700-2\n",
       "12    6700-2\n",
       "13    6700-2\n",
       "14    6700-2\n",
       "Name: Mouse ID, dtype: object"
      ]
     },
     "execution_count": 84,
     "metadata": {},
     "output_type": "execute_result"
    }
   ],
   "source": [
    "cellprofilerDF[cellprofilerDF['Mouse ID'] != '7200-1']['Mouse ID']"
   ]
  },
  {
   "cell_type": "code",
   "execution_count": 155,
   "metadata": {},
   "outputs": [
    {
     "data": {
      "text/plain": [
       "Index(['ML Position', 'Image', 'Percent', 'MarkerCombo', 'Mouse ID',\n",
       "       'Binned ML Position', 'Image Position'],\n",
       "      dtype='object')"
      ]
     },
     "execution_count": 155,
     "metadata": {},
     "output_type": "execute_result"
    }
   ],
   "source": []
  },
  {
   "cell_type": "code",
   "execution_count": 154,
   "metadata": {},
   "outputs": [
    {
     "name": "stdout",
     "output_type": "stream",
     "text": [
      "8\n",
      "7\n",
      "12\n"
     ]
    }
   ],
   "source": [
    "for mouse in cellprofilerDF['Mouse ID'].unique().tolist():\n",
    "    x = cellprofilerDF[cellprofilerDF['Mouse ID'] == mouse]\n",
    "    y = x['Image Position'].max()\n",
    "    print(y)"
   ]
  },
  {
   "cell_type": "code",
   "execution_count": 41,
   "metadata": {},
   "outputs": [
    {
     "data": {
      "image/png": "[encoded data removed]",
      "text/plain": [
       "<Figure size 1200x800 with 1 Axes>"
      ]
     },
     "metadata": {},
     "output_type": "display_data"
    }
   ],
   "source": [
    "#plotsubsetDF = percentplotDF[percentplotDF['Mouse ID'] != '7200-1']\n",
    "\n",
    "fig = plt.figure(figsize = (6,4), dpi = 200)\n",
    "\n",
    "ax1 = fig.add_axes([0,0,1,1])\n",
    "ax1.set_ylim(0,1)\n",
    "ax1.set_ylabel('Percentage of Kcng2+ ZI cells')\n",
    "ax1.set_xlabel('Approximate Mediolateral Position (mm) Relative to Bregma')\n",
    "ax1.set_xticks(ticks = [1,4,8], labels = ['2.2', '1.5', '0.8'])\n",
    "\n",
    "#cm = ['Purple', 'Green', 'Orangered']\n",
    "\n",
    "cm = ['lightgrey', 'darkblue','red', 'darkturquoise']\n",
    "\n",
    "plt.title('Percentage of Kcng2+ Zona Incerta Neurons\\nAs Function of Mediolateral Position',)\n",
    "\n",
    "\n",
    "sns.lineplot(data=percentplotDF[percentplotDF['MarkerCombo'].isin([\n",
    "                         'Count_CT_Kcng2only / Count_CT_Kcng2Neurons',\n",
    "                         'Count_CT_Nos1_Spp1_Kcng2 / Count_CT_Kcng2Neurons',\n",
    "                         'Count_CT_Pure_Nos1_Kcng2 / Count_CT_Kcng2Neurons',\n",
    "                         'Count_CT_Pure_Spp1_Kcng2 / Count_CT_Kcng2Neurons'])], \n",
    "             x='Image Position', \n",
    "             y='Percent', \n",
    "             hue = 'MarkerCombo',\n",
    "             hue_order = ['Count_CT_Kcng2only / Count_CT_Kcng2Neurons',\n",
    "                         'Count_CT_Nos1_Spp1_Kcng2 / Count_CT_Kcng2Neurons',\n",
    "                         'Count_CT_Pure_Nos1_Kcng2 / Count_CT_Kcng2Neurons',\n",
    "                         'Count_CT_Pure_Spp1_Kcng2 / Count_CT_Kcng2Neurons'],\n",
    "                         \n",
    "             marker = \"o\",\n",
    "             markersize = 10,\n",
    "             palette = cm,\n",
    "             ax = ax1,\n",
    "             alpha = 0.7\n",
    "             )\n",
    "\n",
    "h, l = ax1.get_legend_handles_labels()\n",
    "\n",
    "\n",
    "ax1.legend(bbox_to_anchor = (-0.6,1), \n",
    "           loc=2, \n",
    "           borderaxespad = 0, \n",
    "           handles = h,\n",
    "           labels = ['Kcng2+only', 'Nos1+Spp1+Kcng2+', 'Nos1+Kcng2+', 'Spp1+Kcng2+'],\n",
    "           title = 'Percentage of Gad2+ Cells Per Image',\n",
    "           edgecolor = 'Black'\n",
    "           )\n",
    "\n",
    "\n",
    "\n",
    "plt.savefig(savedir + 'LinePlot_Kcng2Nos1Spp1_ML_Percent.svg',  bbox_inches='tight')"
   ]
  },
  {
   "cell_type": "code",
   "execution_count": 42,
   "metadata": {},
   "outputs": [
    {
     "name": "stderr",
     "output_type": "stream",
     "text": [
      "/var/folders/m1/69xtflwj783f2sqshj3hmjtr0000gn/T/ipykernel_7972/2359587043.py:16: FutureWarning: Dropping of nuisance columns in DataFrame reductions (with 'numeric_only=None') is deprecated; in a future version this will raise TypeError.  Select only valid columns before calling the reduction.\n",
      "  cpsumDF = DF.sum()\n"
     ]
    }
   ],
   "source": [
    "percentsumDF = make_percent_sum_DF(cellprofilerDF, ['Nos1','Spp1'])"
   ]
  },
  {
   "cell_type": "code",
   "execution_count": 43,
   "metadata": {},
   "outputs": [
    {
     "data": {
      "text/html": [
       "<div>\n",
       "<style scoped>\n",
       "    .dataframe tbody tr th:only-of-type {\n",
       "        vertical-align: middle;\n",
       "    }\n",
       "\n",
       "    .dataframe tbody tr th {\n",
       "        vertical-align: top;\n",
       "    }\n",
       "\n",
       "    .dataframe thead th {\n",
       "        text-align: right;\n",
       "    }\n",
       "</style>\n",
       "<table border=\"1\" class=\"dataframe\">\n",
       "  <thead>\n",
       "    <tr style=\"text-align: right;\">\n",
       "      <th></th>\n",
       "      <th>MarkerCombo</th>\n",
       "      <th>Percent</th>\n",
       "    </tr>\n",
       "  </thead>\n",
       "  <tbody>\n",
       "    <tr>\n",
       "      <th>0</th>\n",
       "      <td>Count_CT_DAPI / Count_CT_DAPI</td>\n",
       "      <td>1.000000</td>\n",
       "    </tr>\n",
       "    <tr>\n",
       "      <th>18</th>\n",
       "      <td>Count_CT_Kcng2Neurons / Count_CT_DAPI</td>\n",
       "      <td>0.051314</td>\n",
       "    </tr>\n",
       "    <tr>\n",
       "      <th>19</th>\n",
       "      <td>Count_CT_Kcng2Neurons / Count_CT_Kcng2Neurons</td>\n",
       "      <td>1.000000</td>\n",
       "    </tr>\n",
       "    <tr>\n",
       "      <th>36</th>\n",
       "      <td>Count_CT_Kcng2_Nos1neg / Count_CT_DAPI</td>\n",
       "      <td>0.027403</td>\n",
       "    </tr>\n",
       "    <tr>\n",
       "      <th>37</th>\n",
       "      <td>Count_CT_Kcng2_Nos1neg / Count_CT_Kcng2Neurons</td>\n",
       "      <td>0.534029</td>\n",
       "    </tr>\n",
       "    <tr>\n",
       "      <th>...</th>\n",
       "      <td>...</td>\n",
       "      <td>...</td>\n",
       "    </tr>\n",
       "    <tr>\n",
       "      <th>318</th>\n",
       "      <td>Count_CT_Pure_Spp1_Kcng2 / Count_CT_Kcng2Neuro...</td>\n",
       "      <td>0.240162</td>\n",
       "    </tr>\n",
       "    <tr>\n",
       "      <th>319</th>\n",
       "      <td>Count_CT_Pure_Spp1_Kcng2 / Count_CT_Kcng2Neuro...</td>\n",
       "      <td>0.252170</td>\n",
       "    </tr>\n",
       "    <tr>\n",
       "      <th>321</th>\n",
       "      <td>Count_CT_Pure_Spp1_Kcng2 / Count_CT_Kcng2Neuro...</td>\n",
       "      <td>0.646320</td>\n",
       "    </tr>\n",
       "    <tr>\n",
       "      <th>322</th>\n",
       "      <td>Count_CT_Pure_Spp1_Kcng2 / Count_CT_Kcng2Neuro...</td>\n",
       "      <td>0.292539</td>\n",
       "    </tr>\n",
       "    <tr>\n",
       "      <th>323</th>\n",
       "      <td>Count_CT_Pure_Spp1_Kcng2 / Count_CT_Kcng2Neuro...</td>\n",
       "      <td>1.000000</td>\n",
       "    </tr>\n",
       "  </tbody>\n",
       "</table>\n",
       "<p>171 rows × 2 columns</p>\n",
       "</div>"
      ],
      "text/plain": [
       "                                           MarkerCombo   Percent\n",
       "0                        Count_CT_DAPI / Count_CT_DAPI  1.000000\n",
       "18               Count_CT_Kcng2Neurons / Count_CT_DAPI  0.051314\n",
       "19       Count_CT_Kcng2Neurons / Count_CT_Kcng2Neurons  1.000000\n",
       "36              Count_CT_Kcng2_Nos1neg / Count_CT_DAPI  0.027403\n",
       "37      Count_CT_Kcng2_Nos1neg / Count_CT_Kcng2Neurons  0.534029\n",
       "..                                                 ...       ...\n",
       "318  Count_CT_Pure_Spp1_Kcng2 / Count_CT_Kcng2Neuro...  0.240162\n",
       "319  Count_CT_Pure_Spp1_Kcng2 / Count_CT_Kcng2Neuro...  0.252170\n",
       "321  Count_CT_Pure_Spp1_Kcng2 / Count_CT_Kcng2Neuro...  0.646320\n",
       "322  Count_CT_Pure_Spp1_Kcng2 / Count_CT_Kcng2Neuro...  0.292539\n",
       "323  Count_CT_Pure_Spp1_Kcng2 / Count_CT_Kcng2Neuro...  1.000000\n",
       "\n",
       "[171 rows x 2 columns]"
      ]
     },
     "execution_count": 43,
     "metadata": {},
     "output_type": "execute_result"
    }
   ],
   "source": [
    "percentsumDF[percentsumDF['Percent'] < 1.01]"
   ]
  },
  {
   "cell_type": "code",
   "execution_count": 44,
   "metadata": {},
   "outputs": [],
   "source": [
    "cols = [x for x in percentplotDF['MarkerCombo'].unique() if \n",
    "          (x.find('/ Count_CT_Kcng2Neurons') != -1) \n",
    "        & (x.find('Count_Kcng2Neurons ') == -1) \n",
    "        & (x.find('Pure') == -1)]\n",
    "\n"
   ]
  },
  {
   "cell_type": "code",
   "execution_count": 45,
   "metadata": {},
   "outputs": [
    {
     "data": {
      "text/plain": [
       "23"
      ]
     },
     "execution_count": 45,
     "metadata": {},
     "output_type": "execute_result"
    }
   ],
   "source": [
    "len(cellprofilerDF)"
   ]
  },
  {
   "cell_type": "code",
   "execution_count": 46,
   "metadata": {},
   "outputs": [],
   "source": [
    "percentsumDF = percentsumDF.drop_duplicates('MarkerCombo')"
   ]
  },
  {
   "cell_type": "code",
   "execution_count": 47,
   "metadata": {},
   "outputs": [
    {
     "data": {
      "text/plain": [
       "31.0"
      ]
     },
     "execution_count": 47,
     "metadata": {},
     "output_type": "execute_result"
    }
   ],
   "source": [
    "cellprofilerDF[cellprofilerDF['Mouse ID'] == '6700-1']['Count_CT_Nos1_Spp1_Kcng2'].sum()"
   ]
  },
  {
   "cell_type": "code",
   "execution_count": 48,
   "metadata": {},
   "outputs": [
    {
     "data": {
      "text/plain": [
       "0                 CT_DAPI / Count_CT_Kcng2Neurons\n",
       "1                 CT_DAPI / Count_CT_Kcng2Neurons\n",
       "2                 CT_DAPI / Count_CT_Kcng2Neurons\n",
       "3                 CT_DAPI / Count_CT_Kcng2Neurons\n",
       "4                 CT_DAPI / Count_CT_Kcng2Neurons\n",
       "                          ...                    \n",
       "202    CT_Pure_Spp1_Kcng2 / Count_CT_Kcng2Neurons\n",
       "203    CT_Pure_Spp1_Kcng2 / Count_CT_Kcng2Neurons\n",
       "204    CT_Pure_Spp1_Kcng2 / Count_CT_Kcng2Neurons\n",
       "205    CT_Pure_Spp1_Kcng2 / Count_CT_Kcng2Neurons\n",
       "206    CT_Pure_Spp1_Kcng2 / Count_CT_Kcng2Neurons\n",
       "Name: MarkerCombo, Length: 207, dtype: object"
      ]
     },
     "execution_count": 48,
     "metadata": {},
     "output_type": "execute_result"
    }
   ],
   "source": [
    "percentplotDF['MarkerCombo'].str[6:]"
   ]
  },
  {
   "cell_type": "code",
   "execution_count": 66,
   "metadata": {},
   "outputs": [
    {
     "name": "stderr",
     "output_type": "stream",
     "text": [
      "/var/folders/m1/69xtflwj783f2sqshj3hmjtr0000gn/T/ipykernel_7972/311787093.py:10: FutureWarning:\n",
      "\n",
      "Dropping of nuisance columns in DataFrame reductions (with 'numeric_only=None') is deprecated; in a future version this will raise TypeError.  Select only valid columns before calling the reduction.\n",
      "\n",
      "/var/folders/m1/69xtflwj783f2sqshj3hmjtr0000gn/T/ipykernel_7972/311787093.py:11: FutureWarning:\n",
      "\n",
      "Dropping of nuisance columns in DataFrame reductions (with 'numeric_only=None') is deprecated; in a future version this will raise TypeError.  Select only valid columns before calling the reduction.\n",
      "\n",
      "/var/folders/m1/69xtflwj783f2sqshj3hmjtr0000gn/T/ipykernel_7972/311787093.py:12: FutureWarning:\n",
      "\n",
      "Dropping of nuisance columns in DataFrame reductions (with 'numeric_only=None') is deprecated; in a future version this will raise TypeError.  Select only valid columns before calling the reduction.\n",
      "\n"
     ]
    },
    {
     "data": {
      "application/vnd.plotly.v1+json": {
       "config": {
        "plotlyServerURL": "https://plot.ly",
        "toImageButtonOptions": {
         "filename": "custom_image",
         "format": "png",
         "height": 500,
         "scale": 6,
         "width": 700
        }
       },
       "data": [
        {
         "domain": {
          "x": [
           0,
           1
          ],
          "y": [
           0,
           1
          ]
         },
         "hovertemplate": "label=%{label}<br>value=%{value}<extra></extra>",
         "labels": [
          "Count_CT_Kcng2only",
          "Count_CT_Nos1_Spp1_Kcng2",
          "Count_CT_Pure_Nos1_Kcng2",
          "Count_CT_Pure_Spp1_Kcng2"
         ],
         "legendgroup": "",
         "name": "",
         "showlegend": true,
         "type": "pie",
         "values": [
          398,
          99,
          384,
          114
         ]
        }
       ],
       "layout": {
        "legend": {
         "tracegroupgap": 0
        },
        "margin": {
         "t": 60
        },
        "piecolorway": [
         "lightgrey",
         "red",
         "darkturquoise",
         "darkblue"
        ],
        "template": {
         "data": {
          "bar": [
           {
            "error_x": {
             "color": "#2a3f5f"
            },
            "error_y": {
             "color": "#2a3f5f"
            },
            "marker": {
             "line": {
              "color": "#E5ECF6",
              "width": 0.5
             },
             "pattern": {
              "fillmode": "overlay",
              "size": 10,
              "solidity": 0.2
             }
            },
            "type": "bar"
           }
          ],
          "barpolar": [
           {
            "marker": {
             "line": {
              "color": "#E5ECF6",
              "width": 0.5
             },
             "pattern": {
              "fillmode": "overlay",
              "size": 10,
              "solidity": 0.2
             }
            },
            "type": "barpolar"
           }
          ],
          "carpet": [
           {
            "aaxis": {
             "endlinecolor": "#2a3f5f",
             "gridcolor": "white",
             "linecolor": "white",
             "minorgridcolor": "white",
             "startlinecolor": "#2a3f5f"
            },
            "baxis": {
             "endlinecolor": "#2a3f5f",
             "gridcolor": "white",
             "linecolor": "white",
             "minorgridcolor": "white",
             "startlinecolor": "#2a3f5f"
            },
            "type": "carpet"
           }
          ],
          "choropleth": [
           {
            "colorbar": {
             "outlinewidth": 0,
             "ticks": ""
            },
            "type": "choropleth"
           }
          ],
          "contour": [
           {
            "colorbar": {
             "outlinewidth": 0,
             "ticks": ""
            },
            "colorscale": [
             [
              0,
              "#0d0887"
             ],
             [
              0.1111111111111111,
              "#46039f"
             ],
             [
              0.2222222222222222,
              "#7201a8"
             ],
             [
              0.3333333333333333,
              "#9c179e"
             ],
             [
              0.4444444444444444,
              "#bd3786"
             ],
             [
              0.5555555555555556,
              "#d8576b"
             ],
             [
              0.6666666666666666,
              "#ed7953"
             ],
             [
              0.7777777777777778,
              "#fb9f3a"
             ],
             [
              0.8888888888888888,
              "#fdca26"
             ],
             [
              1,
              "#f0f921"
             ]
            ],
            "type": "contour"
           }
          ],
          "contourcarpet": [
           {
            "colorbar": {
             "outlinewidth": 0,
             "ticks": ""
            },
            "type": "contourcarpet"
           }
          ],
          "heatmap": [
           {
            "colorbar": {
             "outlinewidth": 0,
             "ticks": ""
            },
            "colorscale": [
             [
              0,
              "#0d0887"
             ],
             [
              0.1111111111111111,
              "#46039f"
             ],
             [
              0.2222222222222222,
              "#7201a8"
             ],
             [
              0.3333333333333333,
              "#9c179e"
             ],
             [
              0.4444444444444444,
              "#bd3786"
             ],
             [
              0.5555555555555556,
              "#d8576b"
             ],
             [
              0.6666666666666666,
              "#ed7953"
             ],
             [
              0.7777777777777778,
              "#fb9f3a"
             ],
             [
              0.8888888888888888,
              "#fdca26"
             ],
             [
              1,
              "#f0f921"
             ]
            ],
            "type": "heatmap"
           }
          ],
          "heatmapgl": [
           {
            "colorbar": {
             "outlinewidth": 0,
             "ticks": ""
            },
            "colorscale": [
             [
              0,
              "#0d0887"
             ],
             [
              0.1111111111111111,
              "#46039f"
             ],
             [
              0.2222222222222222,
              "#7201a8"
             ],
             [
              0.3333333333333333,
              "#9c179e"
             ],
             [
              0.4444444444444444,
              "#bd3786"
             ],
             [
              0.5555555555555556,
              "#d8576b"
             ],
             [
              0.6666666666666666,
              "#ed7953"
             ],
             [
              0.7777777777777778,
              "#fb9f3a"
             ],
             [
              0.8888888888888888,
              "#fdca26"
             ],
             [
              1,
              "#f0f921"
             ]
            ],
            "type": "heatmapgl"
           }
          ],
          "histogram": [
           {
            "marker": {
             "pattern": {
              "fillmode": "overlay",
              "size": 10,
              "solidity": 0.2
             }
            },
            "type": "histogram"
           }
          ],
          "histogram2d": [
           {
            "colorbar": {
             "outlinewidth": 0,
             "ticks": ""
            },
            "colorscale": [
             [
              0,
              "#0d0887"
             ],
             [
              0.1111111111111111,
              "#46039f"
             ],
             [
              0.2222222222222222,
              "#7201a8"
             ],
             [
              0.3333333333333333,
              "#9c179e"
             ],
             [
              0.4444444444444444,
              "#bd3786"
             ],
             [
              0.5555555555555556,
              "#d8576b"
             ],
             [
              0.6666666666666666,
              "#ed7953"
             ],
             [
              0.7777777777777778,
              "#fb9f3a"
             ],
             [
              0.8888888888888888,
              "#fdca26"
             ],
             [
              1,
              "#f0f921"
             ]
            ],
            "type": "histogram2d"
           }
          ],
          "histogram2dcontour": [
           {
            "colorbar": {
             "outlinewidth": 0,
             "ticks": ""
            },
            "colorscale": [
             [
              0,
              "#0d0887"
             ],
             [
              0.1111111111111111,
              "#46039f"
             ],
             [
              0.2222222222222222,
              "#7201a8"
             ],
             [
              0.3333333333333333,
              "#9c179e"
             ],
             [
              0.4444444444444444,
              "#bd3786"
             ],
             [
              0.5555555555555556,
              "#d8576b"
             ],
             [
              0.6666666666666666,
              "#ed7953"
             ],
             [
              0.7777777777777778,
              "#fb9f3a"
             ],
             [
              0.8888888888888888,
              "#fdca26"
             ],
             [
              1,
              "#f0f921"
             ]
            ],
            "type": "histogram2dcontour"
           }
          ],
          "mesh3d": [
           {
            "colorbar": {
             "outlinewidth": 0,
             "ticks": ""
            },
            "type": "mesh3d"
           }
          ],
          "parcoords": [
           {
            "line": {
             "colorbar": {
              "outlinewidth": 0,
              "ticks": ""
             }
            },
            "type": "parcoords"
           }
          ],
          "pie": [
           {
            "automargin": true,
            "type": "pie"
           }
          ],
          "scatter": [
           {
            "marker": {
             "colorbar": {
              "outlinewidth": 0,
              "ticks": ""
             }
            },
            "type": "scatter"
           }
          ],
          "scatter3d": [
           {
            "line": {
             "colorbar": {
              "outlinewidth": 0,
              "ticks": ""
             }
            },
            "marker": {
             "colorbar": {
              "outlinewidth": 0,
              "ticks": ""
             }
            },
            "type": "scatter3d"
           }
          ],
          "scattercarpet": [
           {
            "marker": {
             "colorbar": {
              "outlinewidth": 0,
              "ticks": ""
             }
            },
            "type": "scattercarpet"
           }
          ],
          "scattergeo": [
           {
            "marker": {
             "colorbar": {
              "outlinewidth": 0,
              "ticks": ""
             }
            },
            "type": "scattergeo"
           }
          ],
          "scattergl": [
           {
            "marker": {
             "colorbar": {
              "outlinewidth": 0,
              "ticks": ""
             }
            },
            "type": "scattergl"
           }
          ],
          "scattermapbox": [
           {
            "marker": {
             "colorbar": {
              "outlinewidth": 0,
              "ticks": ""
             }
            },
            "type": "scattermapbox"
           }
          ],
          "scatterpolar": [
           {
            "marker": {
             "colorbar": {
              "outlinewidth": 0,
              "ticks": ""
             }
            },
            "type": "scatterpolar"
           }
          ],
          "scatterpolargl": [
           {
            "marker": {
             "colorbar": {
              "outlinewidth": 0,
              "ticks": ""
             }
            },
            "type": "scatterpolargl"
           }
          ],
          "scatterternary": [
           {
            "marker": {
             "colorbar": {
              "outlinewidth": 0,
              "ticks": ""
             }
            },
            "type": "scatterternary"
           }
          ],
          "surface": [
           {
            "colorbar": {
             "outlinewidth": 0,
             "ticks": ""
            },
            "colorscale": [
             [
              0,
              "#0d0887"
             ],
             [
              0.1111111111111111,
              "#46039f"
             ],
             [
              0.2222222222222222,
              "#7201a8"
             ],
             [
              0.3333333333333333,
              "#9c179e"
             ],
             [
              0.4444444444444444,
              "#bd3786"
             ],
             [
              0.5555555555555556,
              "#d8576b"
             ],
             [
              0.6666666666666666,
              "#ed7953"
             ],
             [
              0.7777777777777778,
              "#fb9f3a"
             ],
             [
              0.8888888888888888,
              "#fdca26"
             ],
             [
              1,
              "#f0f921"
             ]
            ],
            "type": "surface"
           }
          ],
          "table": [
           {
            "cells": {
             "fill": {
              "color": "#EBF0F8"
             },
             "line": {
              "color": "white"
             }
            },
            "header": {
             "fill": {
              "color": "#C8D4E3"
             },
             "line": {
              "color": "white"
             }
            },
            "type": "table"
           }
          ]
         },
         "layout": {
          "annotationdefaults": {
           "arrowcolor": "#2a3f5f",
           "arrowhead": 0,
           "arrowwidth": 1
          },
          "autotypenumbers": "strict",
          "coloraxis": {
           "colorbar": {
            "outlinewidth": 0,
            "ticks": ""
           }
          },
          "colorscale": {
           "diverging": [
            [
             0,
             "#8e0152"
            ],
            [
             0.1,
             "#c51b7d"
            ],
            [
             0.2,
             "#de77ae"
            ],
            [
             0.3,
             "#f1b6da"
            ],
            [
             0.4,
             "#fde0ef"
            ],
            [
             0.5,
             "#f7f7f7"
            ],
            [
             0.6,
             "#e6f5d0"
            ],
            [
             0.7,
             "#b8e186"
            ],
            [
             0.8,
             "#7fbc41"
            ],
            [
             0.9,
             "#4d9221"
            ],
            [
             1,
             "#276419"
            ]
           ],
           "sequential": [
            [
             0,
             "#0d0887"
            ],
            [
             0.1111111111111111,
             "#46039f"
            ],
            [
             0.2222222222222222,
             "#7201a8"
            ],
            [
             0.3333333333333333,
             "#9c179e"
            ],
            [
             0.4444444444444444,
             "#bd3786"
            ],
            [
             0.5555555555555556,
             "#d8576b"
            ],
            [
             0.6666666666666666,
             "#ed7953"
            ],
            [
             0.7777777777777778,
             "#fb9f3a"
            ],
            [
             0.8888888888888888,
             "#fdca26"
            ],
            [
             1,
             "#f0f921"
            ]
           ],
           "sequentialminus": [
            [
             0,
             "#0d0887"
            ],
            [
             0.1111111111111111,
             "#46039f"
            ],
            [
             0.2222222222222222,
             "#7201a8"
            ],
            [
             0.3333333333333333,
             "#9c179e"
            ],
            [
             0.4444444444444444,
             "#bd3786"
            ],
            [
             0.5555555555555556,
             "#d8576b"
            ],
            [
             0.6666666666666666,
             "#ed7953"
            ],
            [
             0.7777777777777778,
             "#fb9f3a"
            ],
            [
             0.8888888888888888,
             "#fdca26"
            ],
            [
             1,
             "#f0f921"
            ]
           ]
          },
          "colorway": [
           "#636efa",
           "#EF553B",
           "#00cc96",
           "#ab63fa",
           "#FFA15A",
           "#19d3f3",
           "#FF6692",
           "#B6E880",
           "#FF97FF",
           "#FECB52"
          ],
          "font": {
           "color": "#2a3f5f"
          },
          "geo": {
           "bgcolor": "white",
           "lakecolor": "white",
           "landcolor": "#E5ECF6",
           "showlakes": true,
           "showland": true,
           "subunitcolor": "white"
          },
          "hoverlabel": {
           "align": "left"
          },
          "hovermode": "closest",
          "mapbox": {
           "style": "light"
          },
          "paper_bgcolor": "white",
          "plot_bgcolor": "#E5ECF6",
          "polar": {
           "angularaxis": {
            "gridcolor": "white",
            "linecolor": "white",
            "ticks": ""
           },
           "bgcolor": "#E5ECF6",
           "radialaxis": {
            "gridcolor": "white",
            "linecolor": "white",
            "ticks": ""
           }
          },
          "scene": {
           "xaxis": {
            "backgroundcolor": "#E5ECF6",
            "gridcolor": "white",
            "gridwidth": 2,
            "linecolor": "white",
            "showbackground": true,
            "ticks": "",
            "zerolinecolor": "white"
           },
           "yaxis": {
            "backgroundcolor": "#E5ECF6",
            "gridcolor": "white",
            "gridwidth": 2,
            "linecolor": "white",
            "showbackground": true,
            "ticks": "",
            "zerolinecolor": "white"
           },
           "zaxis": {
            "backgroundcolor": "#E5ECF6",
            "gridcolor": "white",
            "gridwidth": 2,
            "linecolor": "white",
            "showbackground": true,
            "ticks": "",
            "zerolinecolor": "white"
           }
          },
          "shapedefaults": {
           "line": {
            "color": "#2a3f5f"
           }
          },
          "ternary": {
           "aaxis": {
            "gridcolor": "white",
            "linecolor": "white",
            "ticks": ""
           },
           "baxis": {
            "gridcolor": "white",
            "linecolor": "white",
            "ticks": ""
           },
           "bgcolor": "#E5ECF6",
           "caxis": {
            "gridcolor": "white",
            "linecolor": "white",
            "ticks": ""
           }
          },
          "title": {
           "x": 0.05
          },
          "xaxis": {
           "automargin": true,
           "gridcolor": "white",
           "linecolor": "white",
           "ticks": "",
           "title": {
            "standoff": 15
           },
           "zerolinecolor": "white",
           "zerolinewidth": 2
          },
          "yaxis": {
           "automargin": true,
           "gridcolor": "white",
           "linecolor": "white",
           "ticks": "",
           "title": {
            "standoff": 15
           },
           "zerolinecolor": "white",
           "zerolinewidth": 2
          }
         }
        }
       }
      },
      "text/html": [
       "<div>                            <div id=\"94d69961-e0f8-423a-a7bb-2a7aaef0328b\" class=\"plotly-graph-div\" style=\"height:525px; width:100%;\"></div>            <script type=\"text/javascript\">                require([\"plotly\"], function(Plotly) {                    window.PLOTLYENV=window.PLOTLYENV || {};                                    if (document.getElementById(\"94d69961-e0f8-423a-a7bb-2a7aaef0328b\")) {                    Plotly.newPlot(                        \"94d69961-e0f8-423a-a7bb-2a7aaef0328b\",                        [{\"domain\":{\"x\":[0.0,1.0],\"y\":[0.0,1.0]},\"hovertemplate\":\"label=%{label}<br>value=%{value}<extra></extra>\",\"labels\":[\"Count_CT_Kcng2only\",\"Count_CT_Nos1_Spp1_Kcng2\",\"Count_CT_Pure_Nos1_Kcng2\",\"Count_CT_Pure_Spp1_Kcng2\"],\"legendgroup\":\"\",\"name\":\"\",\"showlegend\":true,\"values\":[398.0,99.0,384.0,114.0],\"type\":\"pie\"}],                        {\"template\":{\"data\":{\"bar\":[{\"error_x\":{\"color\":\"#2a3f5f\"},\"error_y\":{\"color\":\"#2a3f5f\"},\"marker\":{\"line\":{\"color\":\"#E5ECF6\",\"width\":0.5},\"pattern\":{\"fillmode\":\"overlay\",\"size\":10,\"solidity\":0.2}},\"type\":\"bar\"}],\"barpolar\":[{\"marker\":{\"line\":{\"color\":\"#E5ECF6\",\"width\":0.5},\"pattern\":{\"fillmode\":\"overlay\",\"size\":10,\"solidity\":0.2}},\"type\":\"barpolar\"}],\"carpet\":[{\"aaxis\":{\"endlinecolor\":\"#2a3f5f\",\"gridcolor\":\"white\",\"linecolor\":\"white\",\"minorgridcolor\":\"white\",\"startlinecolor\":\"#2a3f5f\"},\"baxis\":{\"endlinecolor\":\"#2a3f5f\",\"gridcolor\":\"white\",\"linecolor\":\"white\",\"minorgridcolor\":\"white\",\"startlinecolor\":\"#2a3f5f\"},\"type\":\"carpet\"}],\"choropleth\":[{\"colorbar\":{\"outlinewidth\":0,\"ticks\":\"\"},\"type\":\"choropleth\"}],\"contour\":[{\"colorbar\":{\"outlinewidth\":0,\"ticks\":\"\"},\"colorscale\":[[0.0,\"#0d0887\"],[0.1111111111111111,\"#46039f\"],[0.2222222222222222,\"#7201a8\"],[0.3333333333333333,\"#9c179e\"],[0.4444444444444444,\"#bd3786\"],[0.5555555555555556,\"#d8576b\"],[0.6666666666666666,\"#ed7953\"],[0.7777777777777778,\"#fb9f3a\"],[0.8888888888888888,\"#fdca26\"],[1.0,\"#f0f921\"]],\"type\":\"contour\"}],\"contourcarpet\":[{\"colorbar\":{\"outlinewidth\":0,\"ticks\":\"\"},\"type\":\"contourcarpet\"}],\"heatmap\":[{\"colorbar\":{\"outlinewidth\":0,\"ticks\":\"\"},\"colorscale\":[[0.0,\"#0d0887\"],[0.1111111111111111,\"#46039f\"],[0.2222222222222222,\"#7201a8\"],[0.3333333333333333,\"#9c179e\"],[0.4444444444444444,\"#bd3786\"],[0.5555555555555556,\"#d8576b\"],[0.6666666666666666,\"#ed7953\"],[0.7777777777777778,\"#fb9f3a\"],[0.8888888888888888,\"#fdca26\"],[1.0,\"#f0f921\"]],\"type\":\"heatmap\"}],\"heatmapgl\":[{\"colorbar\":{\"outlinewidth\":0,\"ticks\":\"\"},\"colorscale\":[[0.0,\"#0d0887\"],[0.1111111111111111,\"#46039f\"],[0.2222222222222222,\"#7201a8\"],[0.3333333333333333,\"#9c179e\"],[0.4444444444444444,\"#bd3786\"],[0.5555555555555556,\"#d8576b\"],[0.6666666666666666,\"#ed7953\"],[0.7777777777777778,\"#fb9f3a\"],[0.8888888888888888,\"#fdca26\"],[1.0,\"#f0f921\"]],\"type\":\"heatmapgl\"}],\"histogram\":[{\"marker\":{\"pattern\":{\"fillmode\":\"overlay\",\"size\":10,\"solidity\":0.2}},\"type\":\"histogram\"}],\"histogram2d\":[{\"colorbar\":{\"outlinewidth\":0,\"ticks\":\"\"},\"colorscale\":[[0.0,\"#0d0887\"],[0.1111111111111111,\"#46039f\"],[0.2222222222222222,\"#7201a8\"],[0.3333333333333333,\"#9c179e\"],[0.4444444444444444,\"#bd3786\"],[0.5555555555555556,\"#d8576b\"],[0.6666666666666666,\"#ed7953\"],[0.7777777777777778,\"#fb9f3a\"],[0.8888888888888888,\"#fdca26\"],[1.0,\"#f0f921\"]],\"type\":\"histogram2d\"}],\"histogram2dcontour\":[{\"colorbar\":{\"outlinewidth\":0,\"ticks\":\"\"},\"colorscale\":[[0.0,\"#0d0887\"],[0.1111111111111111,\"#46039f\"],[0.2222222222222222,\"#7201a8\"],[0.3333333333333333,\"#9c179e\"],[0.4444444444444444,\"#bd3786\"],[0.5555555555555556,\"#d8576b\"],[0.6666666666666666,\"#ed7953\"],[0.7777777777777778,\"#fb9f3a\"],[0.8888888888888888,\"#fdca26\"],[1.0,\"#f0f921\"]],\"type\":\"histogram2dcontour\"}],\"mesh3d\":[{\"colorbar\":{\"outlinewidth\":0,\"ticks\":\"\"},\"type\":\"mesh3d\"}],\"parcoords\":[{\"line\":{\"colorbar\":{\"outlinewidth\":0,\"ticks\":\"\"}},\"type\":\"parcoords\"}],\"pie\":[{\"automargin\":true,\"type\":\"pie\"}],\"scatter\":[{\"marker\":{\"colorbar\":{\"outlinewidth\":0,\"ticks\":\"\"}},\"type\":\"scatter\"}],\"scatter3d\":[{\"line\":{\"colorbar\":{\"outlinewidth\":0,\"ticks\":\"\"}},\"marker\":{\"colorbar\":{\"outlinewidth\":0,\"ticks\":\"\"}},\"type\":\"scatter3d\"}],\"scattercarpet\":[{\"marker\":{\"colorbar\":{\"outlinewidth\":0,\"ticks\":\"\"}},\"type\":\"scattercarpet\"}],\"scattergeo\":[{\"marker\":{\"colorbar\":{\"outlinewidth\":0,\"ticks\":\"\"}},\"type\":\"scattergeo\"}],\"scattergl\":[{\"marker\":{\"colorbar\":{\"outlinewidth\":0,\"ticks\":\"\"}},\"type\":\"scattergl\"}],\"scattermapbox\":[{\"marker\":{\"colorbar\":{\"outlinewidth\":0,\"ticks\":\"\"}},\"type\":\"scattermapbox\"}],\"scatterpolar\":[{\"marker\":{\"colorbar\":{\"outlinewidth\":0,\"ticks\":\"\"}},\"type\":\"scatterpolar\"}],\"scatterpolargl\":[{\"marker\":{\"colorbar\":{\"outlinewidth\":0,\"ticks\":\"\"}},\"type\":\"scatterpolargl\"}],\"scatterternary\":[{\"marker\":{\"colorbar\":{\"outlinewidth\":0,\"ticks\":\"\"}},\"type\":\"scatterternary\"}],\"surface\":[{\"colorbar\":{\"outlinewidth\":0,\"ticks\":\"\"},\"colorscale\":[[0.0,\"#0d0887\"],[0.1111111111111111,\"#46039f\"],[0.2222222222222222,\"#7201a8\"],[0.3333333333333333,\"#9c179e\"],[0.4444444444444444,\"#bd3786\"],[0.5555555555555556,\"#d8576b\"],[0.6666666666666666,\"#ed7953\"],[0.7777777777777778,\"#fb9f3a\"],[0.8888888888888888,\"#fdca26\"],[1.0,\"#f0f921\"]],\"type\":\"surface\"}],\"table\":[{\"cells\":{\"fill\":{\"color\":\"#EBF0F8\"},\"line\":{\"color\":\"white\"}},\"header\":{\"fill\":{\"color\":\"#C8D4E3\"},\"line\":{\"color\":\"white\"}},\"type\":\"table\"}]},\"layout\":{\"annotationdefaults\":{\"arrowcolor\":\"#2a3f5f\",\"arrowhead\":0,\"arrowwidth\":1},\"autotypenumbers\":\"strict\",\"coloraxis\":{\"colorbar\":{\"outlinewidth\":0,\"ticks\":\"\"}},\"colorscale\":{\"diverging\":[[0,\"#8e0152\"],[0.1,\"#c51b7d\"],[0.2,\"#de77ae\"],[0.3,\"#f1b6da\"],[0.4,\"#fde0ef\"],[0.5,\"#f7f7f7\"],[0.6,\"#e6f5d0\"],[0.7,\"#b8e186\"],[0.8,\"#7fbc41\"],[0.9,\"#4d9221\"],[1,\"#276419\"]],\"sequential\":[[0.0,\"#0d0887\"],[0.1111111111111111,\"#46039f\"],[0.2222222222222222,\"#7201a8\"],[0.3333333333333333,\"#9c179e\"],[0.4444444444444444,\"#bd3786\"],[0.5555555555555556,\"#d8576b\"],[0.6666666666666666,\"#ed7953\"],[0.7777777777777778,\"#fb9f3a\"],[0.8888888888888888,\"#fdca26\"],[1.0,\"#f0f921\"]],\"sequentialminus\":[[0.0,\"#0d0887\"],[0.1111111111111111,\"#46039f\"],[0.2222222222222222,\"#7201a8\"],[0.3333333333333333,\"#9c179e\"],[0.4444444444444444,\"#bd3786\"],[0.5555555555555556,\"#d8576b\"],[0.6666666666666666,\"#ed7953\"],[0.7777777777777778,\"#fb9f3a\"],[0.8888888888888888,\"#fdca26\"],[1.0,\"#f0f921\"]]},\"colorway\":[\"#636efa\",\"#EF553B\",\"#00cc96\",\"#ab63fa\",\"#FFA15A\",\"#19d3f3\",\"#FF6692\",\"#B6E880\",\"#FF97FF\",\"#FECB52\"],\"font\":{\"color\":\"#2a3f5f\"},\"geo\":{\"bgcolor\":\"white\",\"lakecolor\":\"white\",\"landcolor\":\"#E5ECF6\",\"showlakes\":true,\"showland\":true,\"subunitcolor\":\"white\"},\"hoverlabel\":{\"align\":\"left\"},\"hovermode\":\"closest\",\"mapbox\":{\"style\":\"light\"},\"paper_bgcolor\":\"white\",\"plot_bgcolor\":\"#E5ECF6\",\"polar\":{\"angularaxis\":{\"gridcolor\":\"white\",\"linecolor\":\"white\",\"ticks\":\"\"},\"bgcolor\":\"#E5ECF6\",\"radialaxis\":{\"gridcolor\":\"white\",\"linecolor\":\"white\",\"ticks\":\"\"}},\"scene\":{\"xaxis\":{\"backgroundcolor\":\"#E5ECF6\",\"gridcolor\":\"white\",\"gridwidth\":2,\"linecolor\":\"white\",\"showbackground\":true,\"ticks\":\"\",\"zerolinecolor\":\"white\"},\"yaxis\":{\"backgroundcolor\":\"#E5ECF6\",\"gridcolor\":\"white\",\"gridwidth\":2,\"linecolor\":\"white\",\"showbackground\":true,\"ticks\":\"\",\"zerolinecolor\":\"white\"},\"zaxis\":{\"backgroundcolor\":\"#E5ECF6\",\"gridcolor\":\"white\",\"gridwidth\":2,\"linecolor\":\"white\",\"showbackground\":true,\"ticks\":\"\",\"zerolinecolor\":\"white\"}},\"shapedefaults\":{\"line\":{\"color\":\"#2a3f5f\"}},\"ternary\":{\"aaxis\":{\"gridcolor\":\"white\",\"linecolor\":\"white\",\"ticks\":\"\"},\"baxis\":{\"gridcolor\":\"white\",\"linecolor\":\"white\",\"ticks\":\"\"},\"bgcolor\":\"#E5ECF6\",\"caxis\":{\"gridcolor\":\"white\",\"linecolor\":\"white\",\"ticks\":\"\"}},\"title\":{\"x\":0.05},\"xaxis\":{\"automargin\":true,\"gridcolor\":\"white\",\"linecolor\":\"white\",\"ticks\":\"\",\"title\":{\"standoff\":15},\"zerolinecolor\":\"white\",\"zerolinewidth\":2},\"yaxis\":{\"automargin\":true,\"gridcolor\":\"white\",\"linecolor\":\"white\",\"ticks\":\"\",\"title\":{\"standoff\":15},\"zerolinecolor\":\"white\",\"zerolinewidth\":2}}},\"legend\":{\"tracegroupgap\":0},\"margin\":{\"t\":60},\"piecolorway\":[\"lightgrey\",\"red\",\"darkturquoise\",\"darkblue\"]},                        {\"toImageButtonOptions\": {\"format\": \"png\", \"filename\": \"custom_image\", \"height\": 500, \"width\": 700, \"scale\": 6}, \"responsive\": true}                    ).then(function(){\n",
       "                            \n",
       "var gd = document.getElementById('94d69961-e0f8-423a-a7bb-2a7aaef0328b');\n",
       "var x = new MutationObserver(function (mutations, observer) {{\n",
       "        var display = window.getComputedStyle(gd).display;\n",
       "        if (!display || display === 'none') {{\n",
       "            console.log([gd, 'removed!']);\n",
       "            Plotly.purge(gd);\n",
       "            observer.disconnect();\n",
       "        }}\n",
       "}});\n",
       "\n",
       "// Listen for the removal of the full notebook cells\n",
       "var notebookContainer = gd.closest('#notebook-container');\n",
       "if (notebookContainer) {{\n",
       "    x.observe(notebookContainer, {childList: true});\n",
       "}}\n",
       "\n",
       "// Listen for the clearing of the current output cell\n",
       "var outputEl = gd.closest('.output');\n",
       "if (outputEl) {{\n",
       "    x.observe(outputEl, {childList: true});\n",
       "}}\n",
       "\n",
       "                        })                };                });            </script>        </div>"
      ]
     },
     "metadata": {},
     "output_type": "display_data"
    }
   ],
   "source": [
    "cols2 = ['Count_CT_Kcng2only',\n",
    "         'Count_CT_Nos1_Spp1_Kcng2',\n",
    "         'Count_CT_Pure_Nos1_Kcng2',\n",
    "         'Count_CT_Pure_Spp1_Kcng2']\n",
    "\n",
    "\n",
    "\n",
    "trim = cellprofilerDF[cellprofilerDF['Mouse ID'] == '7200-1'].sort_index(axis = 1)\n",
    "\n",
    "fig = px.pie(trim.sum()[cols2], \n",
    "             names = trim.sum()[cols2].index, \n",
    "             values = trim.sum()[cols2],\n",
    "             color_discrete_sequence= ['lightgrey', 'red', 'darkturquoise', 'darkblue'],\n",
    "        )\n",
    "\n",
    "\n",
    "config = {\n",
    "  'toImageButtonOptions': {\n",
    "    'format': 'png', # one of png, svg, jpeg, webp\n",
    "    'filename': 'custom_image',\n",
    "    'height': 500,\n",
    "    'width': 700,\n",
    "    'scale':6 # Multiply title/legend/axis/canvas sizes by this factor\n",
    "  }\n",
    "}\n",
    "fig.show(config=config)\n",
    "fig.write_image(savedir + 'Kcng2Nos1Spp1_Pie_7200-1.svg')"
   ]
  },
  {
   "cell_type": "code",
   "execution_count": null,
   "metadata": {},
   "outputs": [],
   "source": []
  },
  {
   "cell_type": "code",
   "execution_count": 55,
   "metadata": {},
   "outputs": [
    {
     "data": {
      "text/plain": [
       "Text(0, 0.5, 'Fraction of Kcng2+ ZI cells')"
      ]
     },
     "execution_count": 55,
     "metadata": {},
     "output_type": "execute_result"
    },
    {
     "data": {
      "image/png": "[encoded data removed]",
      "text/plain": [
       "<Figure size 1800x1200 with 1 Axes>"
      ]
     },
     "metadata": {},
     "output_type": "display_data"
    }
   ],
   "source": [
    "Mouse = '7200-1'\n",
    "MNum = '2'\n",
    "\n",
    "fig = plt.figure(figsize = (6,4),dpi=300)\n",
    "\n",
    "ax1 = fig.add_axes([0,0,1,1])\n",
    "ax1.set_title('Percentage of Kcng2+ ZI cells (Mouse' + MNum + ' : ' + Mouse + ')' )\n",
    "ax1.set_xlabel('ML Position Relative to Bregma (mm)')\n",
    "\n",
    "cellprofilerDF['FileName_RAW'] = cellprofilerDF['FileName_RAW'].str[0:16]\n",
    "percentcols = [i for i in cellprofilerDF.columns.tolist() if i.find('/ Count_Gad2Neurons') >= 0]\n",
    "\n",
    "cellprofilerDF['ML Position'] = cellprofilerDF['ML Position'].astype(str)\n",
    "\n",
    "choose = ['ML Position',\n",
    "          'FileName_RAW',\n",
    "          'Image Position',\n",
    "         'Count_CT_Pure_Nos1_Kcng2 / Count_CT_Kcng2Neurons',\n",
    "         'Count_CT_Pure_Spp1_Kcng2 / Count_CT_Kcng2Neurons',\n",
    "         'Count_CT_Nos1_Spp1_Kcng2 / Count_CT_Kcng2Neurons',\n",
    "         'Count_CT_Kcng2only / Count_CT_Kcng2Neurons',]\n",
    "         \n",
    "\n",
    "cellprofilerDF[cellprofilerDF['Mouse ID'] == Mouse][choose].plot(kind = 'bar', \n",
    "                              stacked= True, \n",
    "                              x = 'Image Position',\n",
    "                              ax = ax1,\n",
    "                              color = ['red', 'darkturquoise','darkblue','lightgrey',]) \n",
    "                                        \n",
    "                                       \n",
    "\n",
    "plt.legend(bbox_to_anchor=(1.0, 1.0), labels = ['Nos1+Kcng2+', 'Spp1+Kcng2+', 'Nos1+Spp1+Kcng2+', 'Kcng2+only'],)\n",
    "plt.ylabel('Fraction of Kcng2+ ZI cells')\n",
    "#plt.savefig(savedir + 'StackedBarPlot_Mouse2_Nos1ii24_Kcng2Nos1Spp1.svg', facecolor = 'white', bbox_inches = 'tight')"
   ]
  },
  {
   "cell_type": "code",
   "execution_count": null,
   "metadata": {},
   "outputs": [],
   "source": [
    "cols2 = [x for x in cellprofilerDF.sum().index.tolist() if \n",
    "  (x.find('Gad2') != -1)\n",
    "& (x.find('Count') != -1)\n",
    "& (x.find('Gad2Neurons') == -1)]\n",
    "\n",
    "\n",
    "\n",
    "\n",
    "fig = px.pie(cellprofilerDF.sum()[cols2], \n",
    "             names = cellprofilerDF.sum()[cols2].index, \n",
    "             values = cellprofilerDF.sum()[cols2])\n",
    "fig.show()"
   ]
  },
  {
   "cell_type": "code",
   "execution_count": null,
   "metadata": {},
   "outputs": [],
   "source": [
    "cols = [x for x in percentplotDF['MarkerCombo'].unique() if \n",
    "          (x.find('/ Count_Gad2Neurons') != -1) \n",
    "        & (x.find('Count_Gad2Neurons ') == -1) \n",
    "        & (x.find('Pure') != -1)]\n",
    "\n"
   ]
  },
  {
   "cell_type": "code",
   "execution_count": null,
   "metadata": {},
   "outputs": [],
   "source": [
    "cols2 = [x for x in cellprofilerDF.sum().index.tolist() if \n",
    "          ((x.find('Pure')) != -1) or\n",
    "          ((x.find('Gad2') != -1)\n",
    "        & (x.find('Count_Kcng2_Pax6_Gad2') != -1)\n",
    "        & (x.find('Gad2Neurons') == -1))]\n"
   ]
  },
  {
   "cell_type": "code",
   "execution_count": null,
   "metadata": {},
   "outputs": [],
   "source": [
    "x = pd.read_csv('Sum_of_Counts.csv', names = ['MarkerCombo', 'Number'])"
   ]
  },
  {
   "cell_type": "code",
   "execution_count": null,
   "metadata": {},
   "outputs": [],
   "source": [
    "a = pd.DataFrame(columns = ['MarkerCombo', 'Number'],\n",
    "             data = {'MarkerCombo': 'Gad2 Only',\n",
    "                     'Number': [x.iloc[9]['Number'] - x.iloc[12]['Number'] - x.iloc[13]['Number'] - x.iloc[4]['Number']]})"
   ]
  },
  {
   "cell_type": "code",
   "execution_count": null,
   "metadata": {},
   "outputs": [],
   "source": [
    "xx = pd.concat([x,a])"
   ]
  },
  {
   "cell_type": "code",
   "execution_count": null,
   "metadata": {},
   "outputs": [],
   "source": [
    "xy = xx[xx['MarkerCombo'].isin(['Pure Kcng2_Gad2', 'Pure Pax6_Gad2', 'Count_Kcng2_Pax6_Gad2','Gad2 Only'])]\n"
   ]
  },
  {
   "cell_type": "code",
   "execution_count": null,
   "metadata": {},
   "outputs": [],
   "source": [
    "xx['Mouse ID'] = '7200-1'"
   ]
  },
  {
   "cell_type": "code",
   "execution_count": null,
   "metadata": {},
   "outputs": [],
   "source": [
    "names = ['Kcng2+Pax6+Gad2+', 'Kcng2+Gad2+', 'Pax6+Gad2+', 'Gad2 only']\n",
    "xy['MarkerCombo'] = names"
   ]
  },
  {
   "cell_type": "code",
   "execution_count": null,
   "metadata": {},
   "outputs": [],
   "source": [
    "xy"
   ]
  },
  {
   "cell_type": "code",
   "execution_count": null,
   "metadata": {},
   "outputs": [],
   "source": [
    "fig =px.pie(data_frame=xy, \n",
    "       title = 'Percentage Of Gad2+ Cells in the ZI',\n",
    "       values='Number',\n",
    "       names= 'MarkerCombo', \n",
    "       hover_name = 'MarkerCombo',\n",
    "       color_discrete_sequence= [ 'lightgray', 'limegreen', 'darkviolet', 'darkorange'],\n",
    "       hole = 0.5,\n",
    "       width = 700,\n",
    "       height = 700)\n",
    "\n",
    "#pio.write_image(fig, 'Gad2Pax6Kcng2Pie_WithoutGad2Only.pdf')\n",
    "fig"
   ]
  },
  {
   "cell_type": "code",
   "execution_count": null,
   "metadata": {},
   "outputs": [],
   "source": [
    "ls"
   ]
  },
  {
   "cell_type": "code",
   "execution_count": null,
   "metadata": {},
   "outputs": [],
   "source": [
    "px.pie(data_frame=xy, \n",
    "       title = 'Percentage Of Gad2+ Cells in the ZI',\n",
    "       values='Number',\n",
    "       hover_name = ['Gad2 Only', 'Pax6+Gad2+', 'Kcng2+Gad2+', 'Kcng2+Pax6+Gad2+'],\n",
    "       names= 'MarkerCombo', \n",
    "       labels = {'MarkerCombo': 'Gad2 Only', \n",
    "                 'MarkerCombo':'Pax6+Gad2+', \n",
    "                 'MarkerCombo':'Kcng2+Gad2+',\n",
    "                 'MarkerCombo':'Kcng2+Pax6+Gad2+'},\n",
    "       \n",
    "       color_discrete_sequence= ['lightgray', 'limegreen', 'darkviolet', 'darkorange'],\n",
    "       hole = 0.6,\n",
    "   )\n"
   ]
  },
  {
   "cell_type": "code",
   "execution_count": null,
   "metadata": {},
   "outputs": [],
   "source": [
    "px.pie(data_frame=xy, \n",
    "       values='Number',\n",
    "       labels = ['Gad2 Only', 'Pax6+Gad2+', 'Kcng2+Gad2+', 'Kcng2+Pax6+Gad2+'],\n",
    "       names='MarkerCombo', \n",
    "       color_discrete_sequence= ['lightgray', 'limegreen', 'darkviolet', 'darkorange'],\n",
    "       )"
   ]
  },
  {
   "cell_type": "code",
   "execution_count": null,
   "metadata": {},
   "outputs": [],
   "source": []
  }
 ],
 "metadata": {
  "kernelspec": {
   "display_name": "Python 3 (ipykernel)",
   "language": "python",
   "name": "python3"
  },
  "language_info": {
   "codemirror_mode": {
    "name": "ipython",
    "version": 3
   },
   "file_extension": ".py",
   "mimetype": "text/x-python",
   "name": "python",
   "nbconvert_exporter": "python",
   "pygments_lexer": "ipython3",
   "version": "3.9.12"
  }
 },
 "nbformat": 4,
 "nbformat_minor": 4
}
