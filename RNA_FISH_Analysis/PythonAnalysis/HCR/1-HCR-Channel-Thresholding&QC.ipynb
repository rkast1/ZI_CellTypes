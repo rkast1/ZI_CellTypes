{
 "cells": [
  {
   "cell_type": "markdown",
   "metadata": {},
   "source": [
    "# HCR Thresholding Notebook \n",
    "\n",
    "<br>\n",
    "\n",
    "# Index of Data Structures in Notebook\n",
    "   ### does not necessarily include all of the created objects, but the useful ones \n",
    "    \n",
    "    \n",
    "## DataFrames\n",
    "#### intDF\n",
    "    Derived from the full cp output DataFrame (intensityDF)\n",
    "    Contains the relevant and essential measurements for entire data set \n",
    "\n",
    "#### manualDFs (within manual_dict)\n",
    "    manuals counts by image, probe, and counter\n",
    "    \n",
    "#### IIIDF\n",
    "    dataframe determining the integrated intensity cutoff on an image x counter x probe basis \n",
    "\n",
    "#### filteredDF\n",
    "    contains the number of positive cells for each image based on the median integrated intensity threshold value for a given thresholding method (NumD6 or NumD8)\n",
    "\n",
    "## Dictionaries\n",
    "\n",
    "#### projdict\n",
    "    Dictionary of Mouse IDs (Keys) and associated Projection Types (Values)    \n",
    "    \n",
    "#### manual_dict\n",
    "    dictionary of dataframes of manual counts. Keys indicate which probe and which \"stage\", i.e. testing or training, \n",
    "    the counts are used for \n",
    "\n",
    "#### man_images_dict\n",
    "    dictionary of lists of the specific images in each manual_dict dataframe. Keys are the same as ^^ just with \"_images\" added on \n",
    "    \n",
    "#### probes_mean_dict\n",
    "    Dictionary of probe x thresholding methods (Keys) and their associated mean III (Values)\n",
    "\n",
    "#### probes_median_dict\n",
    "    Dictionary of probe x thresholding methods (Keys) and their associated median III (Values)\n",
    "    \n",
    "## Outputted Thresholded CSVs\n",
    "\n",
    "#### First group of DFs include just probe 1 positive, probe 2 positive, and double positive. Double positives are counted in probe 1 and 2 positive (and are therefore counted twice).\n",
    "\n",
    "#### Chosen_IIIDF\n",
    "\tFilters data after threshold is chosen to only include information relevant to NumD6 or NumD8. Shows chosen threshold cells that are positive for one probe or double positive \n",
    "\t\n",
    "#### Animal_IIIDF\n",
    "\tSame data included in Chosen IIIDF, but grouped by animal ID with summed total GFP, probe positive, and proportion positive for each of: probe1, probe2, double positive\n",
    "\n",
    "#### APbin_DF\n",
    "\tSame data included in Chosen IIIDF, but groups overlapping AP bins(9) for each animal / injection / probe. Shows total GFP, probe positive, and proportion positive per bin.\n",
    "\n",
    "\n",
    "#### DF2s have the same data as previous DF, but double positive cells are removed from the probe 1 positive and probe 2 positive counts. Double negative cells are also added to the counts.\n",
    "\n",
    "#### Chosen_IIIDF2\n",
    "\tFilters data from Chosen IIIDF to remove double positive cells from probe 1 and probe 2 positive counts. Adds in double negative count. \n",
    "\t\n",
    "#### Animal_IIIDF2\n",
    "\tSame data included in Chosen IIIDF, but grouped by animal ID with summed total GFP, probe positive, and proportion positive for each of: probe1, probe2, double positive as well as proportion negative (still under proportion positive column).\n",
    "\n",
    "#### APbin_DF2\n",
    "\tSame data included in Chosen IIIDF, but groups overlapping AP bins(9) for each animal / injection / probe. Shows total GFP, probe positive, and proportion positive/negative per bin.\n",
    "____________________________"
   ]
  },
  {
   "cell_type": "markdown",
   "metadata": {},
   "source": [
    "# Flow\n",
    "\n",
    "1. The imageDF is used to create numnamedict so that image filenames can be added to the Cell Level DF from CellProfiler\n",
    "\n",
    "2. The intensityDF is the full Cell Level DF from cellprofiler.\n",
    "\n",
    "3. tempimageDF is generated and holds image information in different columns ['FileName_RAW', 'Projection Type', 'Mouse ID'] \n",
    "\n",
    "4. The intDF is a cell level DF that inherits the identifying information (projectiontype, mouse, filename) from tempimageDF and the relevant measurements (area normalized and non-normalized) for each cell in each image from the intensityDF\n",
    "\n",
    "5. The CellDF inherits everything from intDF, but renames several columns (Animal ID, Area, probe1_II_NumD6..etc)\n",
    "\n",
    "6. Chosen_IIIDF inherits data about II from III_med_dict and image info from Cell_DF\n",
    "\n",
    "7. APbin_DF and Animal_III_DF inherits and reorganizes all data from Chosen_IIIDF\n",
    "\n"
   ]
  },
  {
   "cell_type": "markdown",
   "metadata": {},
   "source": [
    "# Importing Packages and Data "
   ]
  },
  {
   "cell_type": "code",
   "execution_count": null,
   "metadata": {},
   "outputs": [],
   "source": [
    "import numpy as np\n",
    "import pandas as pd\n",
    "import matplotlib.pyplot as plt\n",
    "import matplotlib.patches as mpatches\n",
    "import seaborn as sns\n",
    "import scipy.stats as stats\n",
    "import statsmodels.api as sm\n",
    "import os\n",
    "from zipfile import ZipFile\n",
    "import tabulate as tabulate\n",
    "from pandas.plotting import table\n",
    "#import dataframe_image as dfi"
   ]
  },
  {
   "cell_type": "markdown",
   "metadata": {},
   "source": [
    "## Assign Probe IDs"
   ]
  },
  {
   "cell_type": "code",
   "execution_count": null,
   "metadata": {},
   "outputs": [],
   "source": [
    "Probe1 = \"Slc30a3\"\n",
    "Probe2 = \"Spp1\"\n",
    "\n",
    "Person = \"LM\""
   ]
  },
  {
   "cell_type": "markdown",
   "metadata": {},
   "source": [
    "## Define Probe Color Dict"
   ]
  },
  {
   "cell_type": "code",
   "execution_count": null,
   "metadata": {},
   "outputs": [],
   "source": [
    "Double = Probe1+Probe2\n",
    "Neg = \"Double Negative\"\n",
    "\n",
    "probecolordict = {'Kcng2': 'magenta',\n",
    "                  'Spp1' : 'cyan',\n",
    "                  'Pax6' : 'cyan',\n",
    "                  'Nos1' : 'red',\n",
    "                  'Slc30a3' : 'magenta',\n",
    "                  'Slc30a3Spp1': 'darkblue',\n",
    "                  'Nos1Spp1': 'darkblue',\n",
    "                  'Kcng2Pax6': 'darkblue',\n",
    "                  'Double Negative': 'gray'}\n",
    "\n",
    "injcolordict = {'SC': 'limegreen',\n",
    "                'PRN': 'darkviolet',\n",
    "                'MRN': 'limegreen',\n",
    "                'Gi': 'darkviolet',\n",
    "                'dmPAG': 'orange',\n",
    "                'POm': 'skyblue'}\n",
    "\n",
    "#for barplots in combo bar-swarm plots\n",
    "probecolordict2 = {'Kcng2': 'magenta',\n",
    "                  'Spp1' : 'cyan',\n",
    "                  'Pax6' : 'cyan',\n",
    "                  'Nos1' : 'red',\n",
    "                  'Slc30a3' : 'magenta',\n",
    "                  'Slc30a3Spp1': 'steelblue',\n",
    "                  'Nos1Spp1': 'steelblue',\n",
    "                  'Kcng2Pax6': 'steelblue',\n",
    "                  'Double Negative': 'lightgray'}"
   ]
  },
  {
   "cell_type": "markdown",
   "metadata": {},
   "source": [
    "## Mouse ID to Projection Target Dictionary (keys = Mouse ID, values = Projection Target)"
   ]
  },
  {
   "cell_type": "code",
   "execution_count": null,
   "metadata": {},
   "outputs": [],
   "source": [
    "projdict = {'4-5-4f': 'SC' ,\n",
    "            '4-5-5': 'SC', \n",
    "            '7309-5': 'dmPAG',\n",
    "            'B1-4a-1R': 'dmPAG',\n",
    "            '7376-1': 'PRN', \n",
    "            '7376-2': 'PRN',\n",
    "            '1907-2': 'PRN',\n",
    "            '1907-3': 'PRN',\n",
    "            'WT1-5b-1R': 'PRN',\n",
    "            'WT1-5b-none': 'PRN',\n",
    "            '1907-4': 'SC',\n",
    "            '1974-8': 'SC',\n",
    "            'WT1-5a-none': 'SC',\n",
    "            'WT2-9-1R': 'SC',\n",
    "            ##New cases imaged on FV3000 below:\n",
    "            'JAX-10F-1R': 'dmPAG',\n",
    "            'JAX-10F-NE': 'dmPAG',\n",
    "            'JAX-14F-1R': 'dmPAG',\n",
    "            'JAX-MM-NE': 'dmPAG',\n",
    "            'JAX-12F-1L': 'Gi',\n",
    "            'JAX-12F-1R': 'Gi',\n",
    "            'JAX-14M-1R': 'Gi',\n",
    "            'JAX-15M-1L': 'Gi',\n",
    "            'JAX-12M-1L': 'MRN',\n",
    "            'JAX-12M-1R': 'MRN',\n",
    "            'JAX-12M-NE': 'MRN',\n",
    "            'JAX-14M-1L': 'MRN',\n",
    "            'JAX-10M-1R': 'POm',\n",
    "            'JAX-10M-NE': 'POm',\n",
    "            'JAX-13F-1R': 'POm',\n",
    "            'JAX-13M-1R': 'POm'}\n",
    "\n",
    "#JAX-15M-1R is the same as 13M-1R"
   ]
  },
  {
   "cell_type": "markdown",
   "metadata": {},
   "source": [
    "## Provide filepath to Anterior-Posterior Position File to Create an Image x AP Dictionary"
   ]
  },
  {
   "cell_type": "code",
   "execution_count": null,
   "metadata": {},
   "outputs": [],
   "source": [
    "if Probe1 == \"Slc30a3\" and Person == \"LM\":\n",
    "    AP_DF = pd.read_excel(\"/mnt/share/RKDATA/ConfocalData/FV3000/HCR/HCR_FINAL/Analysis/Slc30a3_Spp1/AP_positions_SlcSpp1_UpdatedNames_LM.xlsx\")\n",
    "elif Probe1 == \"Slc30a3\" and Person == \"NR\":\n",
    "    AP_DF = pd.read_excel(\"/mnt/share/RKDATA/ConfocalData/SDC/HCR/RV-dG-GFP_40X_TrueBlack/Data/Slc30a3Cy5_Spp1Cy3_RvGFP/AP_positions_Slc30a3Spp1_LMNameEdit.xlsx\")\n",
    "elif Probe1 == \"Kcng2\":\n",
    "    AP_DF = pd.read_excel(\"/mnt/share/RKDATA/ConfocalData/SDC/HCR/RV-dG-GFP_40X_TrueBlack/Data/Kcng2Cy5_Pax6Cy3_RvGFP/AP_positions_Kcng2Pax6_new.xlsx\")\n",
    "\n",
    "AP_dict = dict(zip(AP_DF[\"FileName_RAW\"].to_list(),AP_DF[\"AP_Position\"].to_list()))"
   ]
  },
  {
   "cell_type": "markdown",
   "metadata": {},
   "source": [
    "## Provide CellProfiler Output Filepaths"
   ]
  },
  {
   "cell_type": "code",
   "execution_count": null,
   "metadata": {},
   "outputs": [],
   "source": [
    "if Probe1 == \"Kcng2\":\n",
    "    CP_Cell_level_filepath= '/mnt/share/RKDATA/ConfocalData/FV3000/HCR/HCR_FINAL/Analysis/Kcng2_Pax6/CellProfilerOutput/Kcng2Pax6_10-17-23FilteredAllRV.csv'\n",
    "elif Probe1 == \"Slc30a3\" and Person == \"LM\":\n",
    "    CP_Cell_level_filepath = \"/mnt/share/RKDATA/ConfocalData/FV3000/HCR/HCR_FINAL/Analysis/Slc30a3_Spp1/CellProfilerOutput/2024_01_24/Slc30a3Spp1_2024_01_24FilteredAllRV.csv\"\n",
    "elif Probe1 == \"Slc30a3\" and Person == \"NR\":\n",
    "    CP_Cell_level_filepath = \"/mnt/share/RKDATA/ConfocalData/SDC/HCR/RV-dG-GFP_40X_TrueBlack/Data/Slc30a3Cy5_Spp1Cy3_RvGFP/CellProfilerOutput/12-8-22/Slc30a3_Spp1_12-8-22FilteredAllGFP.csv\"\n",
    "elif Probe1 == \"Nos1\":\n",
    "    CP_Cell_level_filepath = \"/mnt/share/RKDATA/ConfocalData/SDC/HCR/RV-dG-GFP_40X_TrueBlack/Data/Nos1Cy5_Spp1Cy3_RvGFP/CellProfilerOutput/1-12-23/higher_NumDs/Nos1_Spp1_1-12-23_higher_NumDsFilteredAllGFP.csv\"\n",
    "\n",
    "if CP_Cell_level_filepath.find(\"FilteredAllRV\") != -1:\n",
    "    CP_Image_level_filepath = CP_Cell_level_filepath[0:CP_Cell_level_filepath.find(\"FilteredAllRV.csv\")] +\"Image.csv\"\n",
    "elif CP_Cell_level_filepath.find(\"FilteredAllGFP\") != -1:\n",
    "    CP_Image_level_filepath = CP_Cell_level_filepath[0:CP_Cell_level_filepath.find(\"FilteredAllGFP.csv\")] +\"Image.csv\""
   ]
  },
  {
   "cell_type": "markdown",
   "metadata": {},
   "source": [
    "## Specify Path For Saving Thresholding Related Figures"
   ]
  },
  {
   "cell_type": "code",
   "execution_count": null,
   "metadata": {},
   "outputs": [],
   "source": [
    "image_save_path = \"/mnt/share/RKDATA/ConfocalData/FV3000/HCR/HCR_FINAL/Analysis/Slc30a3_Spp1/Python_Analysis/figures/test_sliding_Scale\""
   ]
  },
  {
   "cell_type": "markdown",
   "metadata": {},
   "source": [
    "## Specify Path For Saving CSV Output \n",
    "(Which Will Serve As Input to The Plotting Notebook)"
   ]
  },
  {
   "cell_type": "code",
   "execution_count": null,
   "metadata": {},
   "outputs": [],
   "source": [
    "csv_save_path = \"/mnt/share/RKDATA/ConfocalData/FV3000/HCR/HCR_FINAL/Analysis/Slc30a3_Spp1/Python_Analysis/Thresholded_CSVS\""
   ]
  },
  {
   "cell_type": "markdown",
   "metadata": {},
   "source": [
    "## Provide Filepaths for Manual Counts"
   ]
  },
  {
   "cell_type": "code",
   "execution_count": null,
   "metadata": {},
   "outputs": [],
   "source": [
    "#get list of files \n",
    "\n",
    "if Probe1 == \"Kcng2\" and Person == \"LM\":\n",
    "    Probe1_train = \"/mnt/share/RKDATA/ConfocalData/FV3000/HCR/HCR_FINAL/Analysis/Kcng2_Pax6/ManualCounts/Kcng2_manual\"\n",
    "    Probe1_test = \"/mnt/share/RKDATA/ConfocalData/FV3000/HCR/HCR_FINAL/Analysis/Kcng2_Pax6/ManualCounts/Kcng2_manual/Testing\"\n",
    "    Probe2_train = \"/mnt/share/RKDATA/ConfocalData/FV3000/HCR/HCR_FINAL/Analysis/Kcng2_Pax6/ManualCounts/Pax6_manual\"\n",
    "    Probe2_test = \"/mnt/share/RKDATA/ConfocalData/FV3000/HCR/HCR_FINAL/Analysis/Kcng2_Pax6/ManualCounts/Pax6_manual/Testing\"\n",
    "elif Probe1 == \"Kcng2\" and Person == \"NR\":\n",
    "    Probe1_train = \"/mnt/share/RKDATA/ConfocalData/SDC/HCR/RV-dG-GFP_40X_TrueBlack/Data/Kcng2Cy5_Pax6Cy3_RvGFP/RyanNita_CellPoseManualCounts/ManualKcng2ROIs\"\n",
    "    Probe1_test = \"/mnt/share/RKDATA/ConfocalData/SDC/HCR/RV-dG-GFP_40X_TrueBlack/Data/Kcng2Cy5_Pax6Cy3_RvGFP/RyanNita_CellPoseManualCounts/ManualKcng2ROIs/Testing_Set\"\n",
    "    Probe2_train = \"/mnt/share/RKDATA/ConfocalData/SDC/HCR/RV-dG-GFP_40X_TrueBlack/Data/Kcng2Cy5_Pax6Cy3_RvGFP/RyanNita_CellPoseManualCounts/ManualPax6ROIs/wThresholding\"\n",
    "    Probe2_test = \"/mnt/share/RKDATA/ConfocalData/SDC/HCR/RV-dG-GFP_40X_TrueBlack/Data/Kcng2Cy5_Pax6Cy3_RvGFP/RyanNita_CellPoseManualCounts/ManualPax6ROIs/wThresholding/Testing_Set\"\n",
    "elif Probe1== \"Slc30a3\" and Person == \"LM\":\n",
    "    Probe1_train = \"/mnt/share/RKDATA/ConfocalData/FV3000/HCR/HCR_FINAL/Analysis/Slc30a3_Spp1/ManualCounts/Slc30a3_manual\"\n",
    "    Probe1_test = \"/mnt/share/RKDATA/ConfocalData/FV3000/HCR/HCR_FINAL/Analysis/Slc30a3_Spp1/ManualCounts/Slc30a3_manual/Testing\"\n",
    "    Probe2_train =\"/mnt/share/RKDATA/ConfocalData/FV3000/HCR/HCR_FINAL/Analysis/Slc30a3_Spp1/ManualCounts/Spp1_manual\"\n",
    "    Probe2_test = \"/mnt/share/RKDATA/ConfocalData/FV3000/HCR/HCR_FINAL/Analysis/Slc30a3_Spp1/ManualCounts/Spp1_manual/Testing\"\n",
    "elif Probe1== \"Slc30a3\" and Person == \"NR\":\n",
    "    Probe1_train = \"/mnt/share/RKDATA/ConfocalData/SDC/HCR/RV-dG-GFP_40X_TrueBlack/Data/Slc30a3Cy5_Spp1Cy3_RvGFP/Manual_Counts/ManualSlc30a3ROIs/Training_Set\"\n",
    "    Probe1_test = \"/mnt/share/RKDATA/ConfocalData/SDC/HCR/RV-dG-GFP_40X_TrueBlack/Data/Slc30a3Cy5_Spp1Cy3_RvGFP/Manual_Counts/ManualSlc30a3ROIs/Testing_Set\"\n",
    "    Probe2_train =\"/mnt/share/RKDATA/ConfocalData/SDC/HCR/RV-dG-GFP_40X_TrueBlack/Data/Slc30a3Cy5_Spp1Cy3_RvGFP/Manual_Counts/ManualSpp1ROIs/Training_Set\"\n",
    "    Probe2_test = \"/mnt/share/RKDATA/ConfocalData/SDC/HCR/RV-dG-GFP_40X_TrueBlack/Data/Slc30a3Cy5_Spp1Cy3_RvGFP/Manual_Counts/ManualSpp1ROIs/Testing_Set\"\n",
    "elif Probe1 == \"Nos1\":\n",
    "    Probe1_train = \"/mnt/share/RKDATA/ConfocalData/FV3000/HCR/HCR_FINAL/Analysis/Nos1_Spp1/ManualCounts/Nos1_manual\"\n",
    "    Probe1_test = \"/mnt/share/RKDATA/ConfocalData/FV3000/HCR/HCR_FINAL/Analysis/Nos1_Spp1/ManualCounts/Nos1_manual/Testing\"\n",
    "    Probe2_train =\"/mnt/share/RKDATA/ConfocalData/FV3000/HCR/HCR_FINAL/Analysis/Nos1_Spp1/ManualCounts/Spp1_manual\"\n",
    "    Probe2_test = \"/mnt/share/RKDATA/ConfocalData/FV3000/HCR/HCR_FINAL/Analysis/Nos1_Spp1/ManualCounts/Spp1_manual/Testing\"\n",
    "\n",
    "file_path_list = [Probe1_train, Probe2_train, Probe1_test, Probe2_test]"
   ]
  },
  {
   "cell_type": "markdown",
   "metadata": {},
   "source": [
    "## Option to use cell area as a normalizing factor"
   ]
  },
  {
   "cell_type": "code",
   "execution_count": null,
   "metadata": {},
   "outputs": [],
   "source": [
    "#We ARE using area normalization as of 102323\n",
    "normalize = True\n",
    "\n",
    "if normalize == True:\n",
    "    norm_save = \"Area_normalized\"\n",
    "elif normalize == False:\n",
    "    norm_save= \"not_normalized\" "
   ]
  },
  {
   "cell_type": "markdown",
   "metadata": {},
   "source": [
    "## Create DataFrames from the Image Level and Cell Level .csv output from Cell Profiler"
   ]
  },
  {
   "cell_type": "code",
   "execution_count": null,
   "metadata": {},
   "outputs": [],
   "source": [
    "intensityDF = pd.read_csv(CP_Cell_level_filepath)\n",
    "imageDF = pd.read_csv(CP_Image_level_filepath)\n",
    "numnamedict = dict(zip(imageDF['ImageNumber'].tolist(), imageDF['FileName_RAW'].tolist()))\n",
    "\n",
    "filelist = []\n",
    "for i in range(len(intensityDF)):\n",
    "    filelist.append(numnamedict[intensityDF.iloc[i]['ImageNumber']])\n",
    "\n",
    "intensityDF['FileName_RAW'] = filelist\n",
    "\n",
    "tempimageDF = pd.DataFrame()\n",
    "tempimageDF.loc[:, ('ImageNumber', 'FileName_RAW')] = imageDF[['ImageNumber','FileName_RAW']]"
   ]
  },
  {
   "cell_type": "code",
   "execution_count": null,
   "metadata": {
    "scrolled": false
   },
   "outputs": [],
   "source": [
    "tempimageDF"
   ]
  },
  {
   "cell_type": "code",
   "execution_count": null,
   "metadata": {},
   "outputs": [],
   "source": [
    "imageDF"
   ]
  },
  {
   "cell_type": "markdown",
   "metadata": {},
   "source": [
    "# Reformat FV3000 filenames to match the requirements of SDC processing scripts"
   ]
  },
  {
   "cell_type": "code",
   "execution_count": null,
   "metadata": {},
   "outputs": [],
   "source": [
    "FV3000_SDC_dict = dict(zip(tempimageDF['FileName_RAW'].tolist(),tempimageDF['FileName_RAW'].tolist()))"
   ]
  },
  {
   "cell_type": "code",
   "execution_count": null,
   "metadata": {},
   "outputs": [],
   "source": [
    "FV3000_SDC_dict"
   ]
  },
  {
   "cell_type": "code",
   "execution_count": null,
   "metadata": {},
   "outputs": [],
   "source": [
    "#Extract unique/useful part of the FileName_RAW strings\n",
    "imagelist = []\n",
    "\n",
    "for i in range(len(tempimageDF)):\n",
    "    name = (tempimageDF.iloc[i]['FileName_RAW'])\n",
    "    imagelist.append(name)\n"
   ]
  },
  {
   "cell_type": "code",
   "execution_count": null,
   "metadata": {},
   "outputs": [],
   "source": [
    "tempimageDF.loc[:,'FileName_RAW'] =  imagelist"
   ]
  },
  {
   "cell_type": "code",
   "execution_count": null,
   "metadata": {},
   "outputs": [],
   "source": [
    "#Add the Mouse ID associated with each image to the intDF\n",
    "mouselist = []\n",
    "\n",
    "for i in range(len(imagelist)):\n",
    "    x = imagelist[i]\n",
    "    y = x[4: x.find('-S')]\n",
    "    mouselist.append(y)\n",
    "    \n",
    "tempimageDF.insert(0, 'Mouse ID', mouselist)"
   ]
  },
  {
   "cell_type": "code",
   "execution_count": null,
   "metadata": {},
   "outputs": [],
   "source": [
    "#Use the projdict and the MouseID portion of the FileName to create a Projection Type Column\n",
    "projectlist = []\n",
    "\n",
    "for i in range(len(tempimageDF)):\n",
    "    if tempimageDF.loc[i,'Mouse ID'] == '':\n",
    "        projectlist.append('NaN')\n",
    "    else:\n",
    "        projection = projdict[tempimageDF.loc[i,'Mouse ID']]\n",
    "        projectlist.append(projection)\n",
    "\n",
    "tempimageDF.insert(0,'Projection Type',projectlist)"
   ]
  },
  {
   "cell_type": "code",
   "execution_count": null,
   "metadata": {},
   "outputs": [],
   "source": [
    "#Trim the data down to the columns related to the  Intensity and Area\n",
    "cols = [x for x in intensityDF.columns.tolist() if ((x.find('Integrated') != -1) & \n",
    "                                                    (x.find('Edge') == -1)) or \n",
    "                                                    (x.find('Area') != -1)]\n",
    "\n",
    "cols.append('ImageNumber')"
   ]
  },
  {
   "cell_type": "code",
   "execution_count": null,
   "metadata": {},
   "outputs": [],
   "source": [
    "intDF = pd.DataFrame()\n",
    "intDF.loc[:, cols] = intensityDF[cols]\n",
    "\n",
    "FileNameList = []\n",
    "ProjList = []\n",
    "MouseList = []\n",
    "\n",
    "for i in range(len(intDF)):\n",
    "    img = intDF.loc[i,'ImageNumber']\n",
    "    FileNameList.append(tempimageDF[tempimageDF['ImageNumber'] == img]['FileName_RAW'].iloc[0])\n",
    "    ProjList.append(tempimageDF[tempimageDF['ImageNumber'] == img]['Projection Type'].iloc[0])\n",
    "    MouseList.append(tempimageDF[tempimageDF['ImageNumber'] == img]['Mouse ID'].iloc[0])\n",
    "\n",
    "intDF.insert(0, 'Projection Type', ProjList)\n",
    "intDF.insert(1,'Mouse ID', MouseList)\n",
    "intDF.insert(2, 'FileName_RAW', FileNameList)\n",
    "\n",
    "keep_col = [\"Projection Type\",\"Mouse ID\",\"FileName_RAW\",\"AreaShape_Area\",\n",
    "             \"Intensity_IntegratedIntensity_Final_Threshold_C1_NumD6\",\n",
    "             'Intensity_IntegratedIntensity_Final_Threshold_C1_NumD8',\n",
    "             'Intensity_IntegratedIntensity_Final_Threshold_C2_NumD6',\n",
    "             'Intensity_IntegratedIntensity_Final_Threshold_C2_NumD8']\n",
    "drop_col = []\n",
    "for col in intDF.columns:\n",
    "    if col in keep_col:\n",
    "        pass\n",
    "    else:\n",
    "        drop_col.append(col)\n",
    "\n",
    "intDF.drop(drop_col, axis = 1, inplace= True)"
   ]
  },
  {
   "cell_type": "code",
   "execution_count": null,
   "metadata": {},
   "outputs": [],
   "source": [
    "intDF\n",
    "intDF.loc[:,Probe1+\"_NumD6_norm\"] = intDF[\"Intensity_IntegratedIntensity_Final_Threshold_C1_NumD6\"]/intDF[\"AreaShape_Area\"]\n",
    "intDF.loc[:, Probe1+\"_NumD8_norm\"] = intDF[\"Intensity_IntegratedIntensity_Final_Threshold_C1_NumD8\"]/intDF[\"AreaShape_Area\"]\n",
    "intDF.loc[:, Probe2+\"_NumD6_norm\"] = intDF[\"Intensity_IntegratedIntensity_Final_Threshold_C2_NumD6\"]/intDF[\"AreaShape_Area\"]\n",
    "intDF.loc[:, Probe2+\"_NumD8_norm\"] = intDF[\"Intensity_IntegratedIntensity_Final_Threshold_C2_NumD8\"]/intDF[\"AreaShape_Area\"]"
   ]
  },
  {
   "cell_type": "code",
   "execution_count": null,
   "metadata": {},
   "outputs": [],
   "source": [
    "intDF"
   ]
  },
  {
   "cell_type": "code",
   "execution_count": null,
   "metadata": {
    "scrolled": true
   },
   "outputs": [],
   "source": [
    "FV3000_SDC_AP_dict = {}\n",
    "\n",
    "for key in AP_dict.keys():\n",
    "    if type(key) == str:\n",
    "        print(key)\n",
    "        \n",
    "        if key in FV3000_SDC_dict.keys():\n",
    "            FV3000_SDC_AP_dict[FV3000_SDC_dict[key]] = AP_dict[key]"
   ]
  },
  {
   "cell_type": "code",
   "execution_count": null,
   "metadata": {},
   "outputs": [],
   "source": [
    "cellDF = intDF.rename(columns = {\"Intensity_IntegratedIntensity_Final_Threshold_C1_NumD6\" : Probe1+\"_II_NumD6\",\n",
    "                                \"Intensity_IntegratedIntensity_Final_Threshold_C1_NumD8\": Probe1+\"_II_NumD8\",\n",
    "                                \"Intensity_IntegratedIntensity_Final_Threshold_C2_NumD6\": Probe2+\"_II_NumD6\",\n",
    "                                \"Intensity_IntegratedIntensity_Final_Threshold_C2_NumD8\": Probe2+\"_II_NumD8\",\n",
    "                                \"Mouse ID\": \"Animal ID\",\n",
    "                                \"AreaShape_Area\":\"Area\"})\n",
    "cellDF.name = \"cellDF\"\n",
    "\n",
    "#adding in bregma position of images\n",
    "\n",
    "AP_list = []\n",
    "\n",
    "for i in range(len(intDF)):\n",
    "    AP_list.append(FV3000_SDC_AP_dict[intDF.iloc[i][\"FileName_RAW\"]])\n",
    "    \n",
    "intDF[\"AP_position\"] = AP_list\n"
   ]
  },
  {
   "cell_type": "markdown",
   "metadata": {},
   "source": [
    "# Import Manual Counts from ZIP files"
   ]
  },
  {
   "cell_type": "code",
   "execution_count": null,
   "metadata": {},
   "outputs": [],
   "source": [
    "print(file_path_list)"
   ]
  },
  {
   "cell_type": "code",
   "execution_count": null,
   "metadata": {
    "scrolled": true
   },
   "outputs": [],
   "source": [
    "#getting manual counts from # of ROIs in ZIP files for each image, and keeping the probes in separate DFs\n",
    "\n",
    "manual_df_list = []\n",
    "\n",
    "\n",
    "for file_path in file_path_list:\n",
    "    counter_list = []\n",
    "    image_list= []\n",
    "    probe_list = []\n",
    "    count_list = []\n",
    "    mouse_list = []\n",
    "    projection_list = []\n",
    "    \n",
    "    filelist = os.listdir(file_path)\n",
    "    for file in filelist:\n",
    "        key = file\n",
    "        \n",
    "        if Person == \"LM\":\n",
    "            probe = file_path[file_path.find('ManualCounts/')+13:file_path.find('_manual')]\n",
    "        elif Person == \"NR\":\n",
    "            probe = file_path[file_path.find('Counts/Manual')+13:file_path.find('ROIs')]\n",
    "        \n",
    "              \n",
    "        temp_name = \"\"    \n",
    "        if file.find(\"-Kcng2Counts\") != -1:\n",
    "            temp_name = file[0:-19]\n",
    "        elif file.find(\"-Kcng2counts\") != -1:\n",
    "            temp_name = file[0:-19]\n",
    "        elif file.find(\"-Pax6Counts\") != -1:\n",
    "            temp_name = file[0:-18]\n",
    "        elif file.find(\"-Pax6counts\") != -1:\n",
    "            temp_name = file[0:-18]\n",
    "        elif file.find(\"-Slc30a3Counts\") != -1:\n",
    "            temp_name = file[0:-21]\n",
    "        elif file.find(\"-Spp1counts\") != -1:\n",
    "            temp_name = file[0:-18]\n",
    "        elif file.find(\"-Nos1counts\") != -1:\n",
    "            temp_name = file[0:-18]\n",
    "        \n",
    "        image = temp_name\n",
    "        \n",
    "        if file.find(\"-Kcng2Counts\") != -1:\n",
    "            image = file[0:-19]\n",
    "        elif file.find(\"-Kcng2counts\") != -1:\n",
    "            image = file[0:-19]\n",
    "        elif file_path.find(\"ManualKcng2\") != -1:\n",
    "            image = file[0:-7]\n",
    "        elif file.find(\"-Pax6Counts\") != -1:\n",
    "            image = file[0:-18]\n",
    "        elif file.find(\"-Pax6counts\") != -1:\n",
    "            image = file[0:-18]\n",
    "        elif file_path.find(\"ManualPax6\") != -1:\n",
    "            image = gile[0:-7]\n",
    "        elif file.find(\"-Slc30a3Counts\") != -1:\n",
    "            image = file[0:-21]\n",
    "        elif file.find(\"_Slc30a3_\") != -1:\n",
    "            image = file[0:-15]\n",
    "        elif file.find(\"-Spp1Counts\") != -1:\n",
    "            image = file[0:-18]\n",
    "        elif file.find(\"_Spp1_\") != -1:\n",
    "            image = file[0:-12]\n",
    "        elif file.find(\"-Nos1Counts\") != -1:\n",
    "            image = file[0:-18]\n",
    "        elif file.find(\"_Nos1_\") != -1:\n",
    "            image = file[0:-12]\n",
    "        \n",
    "        if file.find(\".zip\") != -1:\n",
    "            final_path = file_path+\"/\"+file\n",
    "            with ZipFile(final_path) as archive:\n",
    "                count = len(archive.infolist())\n",
    "            #counter = file[file.find(\"ounts-\") +6 : file.find(\".zip\")] #use for NR data\n",
    "            counter = file[-6 : file.find(\".zip\")] #use for LM data\n",
    "            mouse = key[4:key.find(\"-S\")] \n",
    "            image_list.append(image + \".tif\")\n",
    "            probe_list.append(probe)\n",
    "            counter_list.append(counter)\n",
    "            count_list.append(count)\n",
    "            mouse_list.append(mouse)\n",
    "            projection_list.append(projdict[mouse])\n",
    "\n",
    "    manualDF = pd.DataFrame()\n",
    "    manualDF[\"Probe\"] = probe_list\n",
    "    manualDF[\"Number of Std Devs\"] = 0\n",
    "    manualDF[\"Projection Type\"] = projection_list\n",
    "    manualDF[\"Count_Method\"] = counter_list\n",
    "    manualDF[\"Mouse ID\"] = mouse_list\n",
    "    manualDF[\"Count_GFPcells\"] = 0\n",
    "    manualDF[\"ImageNumber\"] = 0\n",
    "    manualDF[\"FileName_RAW\"] = image_list\n",
    "    manualDF[\"Number Probe Positive\"] = count_list\n",
    "    \n",
    "    manual_df_list.append(manualDF)\n",
    "\n",
    "manual_dict = dict(zip([\"Probe1_train\", \"Probe2_train\", \"Probe1_test\",\"Probe2_test\"],manual_df_list))"
   ]
  },
  {
   "cell_type": "code",
   "execution_count": null,
   "metadata": {
    "scrolled": true
   },
   "outputs": [],
   "source": [
    "#inspect manual_dict to ensure the data is correct\n",
    "\n",
    "manual_dict['Probe2_train']"
   ]
  },
  {
   "cell_type": "code",
   "execution_count": null,
   "metadata": {},
   "outputs": [],
   "source": [
    "#getting total number of GFP cells to add into manualDFs\n",
    "\n",
    "for manualDF in manual_dict.values():\n",
    "    \n",
    "    gfp_list = []\n",
    "    for image in manualDF[\"FileName_RAW\"]:\n",
    "        tempDF = cellDF[cellDF[\"FileName_RAW\"] == image]\n",
    "        gfp = len(tempDF)\n",
    "        gfp_list.append(gfp)\n",
    "    \n",
    "\n",
    "    manualDF[\"Count_GFPcells\"] = gfp_list"
   ]
  },
  {
   "cell_type": "code",
   "execution_count": null,
   "metadata": {},
   "outputs": [],
   "source": [
    "manualDF"
   ]
  },
  {
   "cell_type": "code",
   "execution_count": null,
   "metadata": {},
   "outputs": [],
   "source": [
    "\n",
    "#Make a lists of the images in each manualDF\n",
    "man_image_list = []\n",
    "\n",
    "for manualDF in manual_dict.values():\n",
    "    man_images = manualDF[\"FileName_RAW\"].unique().tolist()\n",
    "    man_image_list.append(man_images)\n",
    "    \n",
    "    \n",
    "#check that all of the manually counted images were run in the pipeline\n",
    "for man_image in man_image_list:\n",
    "    for x in man_images:\n",
    "        if x not in image_list:\n",
    "            print(x)\n",
    "\n",
    "man_image_dict = dict(zip([\"Probe1_train_images\", \"Probe2_train_images\", \"Probe1_test_images\", \"Probe2_test_images\"],\n",
    "                         man_image_list))\n",
    "\n"
   ]
  },
  {
   "cell_type": "code",
   "execution_count": null,
   "metadata": {},
   "outputs": [],
   "source": [
    "manualDF"
   ]
  },
  {
   "cell_type": "code",
   "execution_count": null,
   "metadata": {
    "scrolled": false
   },
   "outputs": [],
   "source": [
    "#RK Description of this cell on 1-15-22\n",
    "#Identify the IntegratedIntensity Threshold (III, integrated intensity intersection)\n",
    "#that would produce the same number of cells as the manual counts for each thresholding method, image, and manual counter combination\n",
    "\n",
    "IIIDF_list= []\n",
    "\n",
    "if normalize == True:\n",
    "    key_phrase= \"_norm\"\n",
    "elif normalize == False:\n",
    "    key_phrase = '_II_'\n",
    "\n",
    "#only going through the training manual counts to determine the integrated intensity intersection\n",
    "\n",
    "for key in [\"Probe1_train\", \"Probe2_train\"]:\n",
    "    tempIIIDF = pd.DataFrame()\n",
    "    imagelist = []\n",
    "    probelist = []\n",
    "    methodlist = []\n",
    "    counterlist = []\n",
    "    intersectionlist = []\n",
    "    \n",
    "    manualDF = manual_dict[key]\n",
    "    man_images = man_image_dict[key+\"_images\"]\n",
    "    probe = manualDF[\"Probe\"][0]\n",
    "   \n",
    "    for m in cellDF.columns:\n",
    "        proceed = 0\n",
    "        if m.find(key_phrase) != -1:\n",
    "           \n",
    "            if m.find(Probe1) != -1 and probe == Probe1:\n",
    "                proceed = 1\n",
    "            elif m.find(Probe2) != -1 and probe == Probe2 :\n",
    "                proceed = 1\n",
    "        \n",
    "        if proceed >= 1:\n",
    "            for person in manualDF[\"Count_Method\"].unique():\n",
    "                for image in manualDF[manualDF[\"Count_Method\"] == person][\"FileName_RAW\"]:\n",
    "                    manny = manualDF[(manualDF['FileName_RAW'] == image)&(manualDF[\"Count_Method\"] == person)]\n",
    "                    val = manny['Number Probe Positive'].values[0] ###LM_edit: I switched .loc to values \n",
    "                    x = cellDF[cellDF['FileName_RAW'] == image]\n",
    "                    y = x.sort_values(by = m, ascending = False).reset_index()\n",
    "                    III = (float(y.iloc[val][m]) + float(y.iloc[val-1][m])) / 2\n",
    "\n",
    "                    imagelist.append(image)\n",
    "                    probelist.append(probe)\n",
    "                    methodlist.append(m)\n",
    "                    counterlist.append(person)\n",
    "                    intersectionlist.append(III)\n",
    "                    \n",
    "                    \n",
    "\n",
    "\n",
    "\n",
    "\n",
    "    tempIIIDF['Image'] = imagelist\n",
    "    tempIIIDF['Probe'] = probelist\n",
    "    tempIIIDF['Method'] = methodlist\n",
    "    tempIIIDF['Counter'] = counterlist\n",
    "    tempIIIDF['Intersection'] = intersectionlist\n",
    "    IIIDF_list.append(tempIIIDF)\n",
    "\n",
    "#agDF= pd.concat(ag)\n",
    "#agDF\n",
    "\n",
    "#combining the training data from the two probe combos into one DF at this point, \n",
    "#though easy enough to change the following code to have separate DFs for the different probes\n",
    "IIIDF = pd.concat(IIIDF_list)"
   ]
  },
  {
   "cell_type": "code",
   "execution_count": null,
   "metadata": {},
   "outputs": [],
   "source": [
    "#Generate dictionaries of thresholding method and the corresponding integrated intensity intersection mean or \n",
    "#integrated intensity intersection median\n",
    "\n",
    "IIImean = IIIDF.groupby(['Method', \"Image\"]).mean(numeric_only=True).groupby([\"Method\"]).mean(numeric_only=True).reset_index()\n",
    "IIImed = IIIDF.groupby(['Method', \"Image\"]).mean(numeric_only=True).groupby([\"Method\"]).median(numeric_only=True).reset_index()\n",
    "\n",
    "probes_mean = []\n",
    "probes_med = []\n",
    "\n",
    "for m in range(len(IIImean)):\n",
    "    x = (IIImean.iloc[m][\"Method\"], IIImean.iloc[m][\"Intersection\"])\n",
    "    probes_mean.append(x)\n",
    "    \n",
    "for m in range(len(IIImed)):\n",
    "    y = (IIImed.iloc[m][\"Method\"], IIImed.iloc[m][\"Intersection\"])\n",
    "    probes_med.append(y)\n",
    "    \n",
    "III_mean_dict = dict(probes_mean)\n",
    "III_med_dict = dict(probes_med)\n",
    "III_med_dict"
   ]
  },
  {
   "cell_type": "markdown",
   "metadata": {},
   "source": [
    "## Produce a dataframe that contains only the cells that meet the manually validated, normalized integrated intensity threshold"
   ]
  },
  {
   "cell_type": "code",
   "execution_count": null,
   "metadata": {
    "scrolled": true
   },
   "outputs": [],
   "source": [
    "#Generate a DF that contains the Percentage of Probe+ Cells for each image, based on the probeXmethod appropriate \n",
    "#integrated intensity cutoff value from the IIIDF\n",
    "\n",
    "filteredDF = pd.DataFrame()\n",
    "\n",
    "dfimagelist = []\n",
    "dfmethodlist = []\n",
    "dfcells = []\n",
    "gfplist = [] \n",
    "threshlist = []\n",
    "relthreshlist = []\n",
    "probelist = []\n",
    "stage_list = []\n",
    "\n",
    "for key in manual_dict.keys():\n",
    "    \n",
    "    manualDF = manual_dict[key]\n",
    "    probee = manualDF[\"Probe\"][0]\n",
    "    man_images = man_image_dict[key + \"_images\"]\n",
    "    methodlist = IIIDF[IIIDF['Probe'] == probee]['Method'].unique().tolist()\n",
    "    \n",
    "    for meth in methodlist:\n",
    "\n",
    "            median = float(III_med_dict[meth])\n",
    "            \n",
    "            for image in man_images:\n",
    "                if key.find(\"train\") != -1:\n",
    "                    stage = \"train\"\n",
    "                elif key.find(\"test\") !=-1:\n",
    "                    stage = \"test\"\n",
    "               \n",
    "                x = cellDF[cellDF['FileName_RAW'] == image]\n",
    "                gfp = len(x)\n",
    "                numcells = len(x[x[meth] >= median])\n",
    "                dfimagelist.append(image)\n",
    "                dfmethodlist.append(meth)\n",
    "                dfcells.append(numcells)\n",
    "                gfplist.append(gfp)\n",
    "                threshlist.append(median)\n",
    "                probelist.append(probee)\n",
    "                stage_list.append(stage)\n",
    "\n",
    "filteredDF['FileName_RAW'] = dfimagelist\n",
    "filteredDF['Probe'] = probelist\n",
    "filteredDF[\"Stage\"] = stage_list\n",
    "filteredDF['Method'] = dfmethodlist\n",
    "filteredDF['Threshold'] = threshlist\n",
    "filteredDF['Probe+ Cells'] = dfcells\n",
    "filteredDF['Number GFP Cells'] = gfplist\n",
    "filteredDF['Percent Positive'] = filteredDF['Probe+ Cells'] / filteredDF['Number GFP Cells']\n",
    "\n",
    "#Split the method into LOF and NumD columns for facetgrids and lmplots to be split up into LOF and NumD cols and rows\n",
    "\n",
    "if normalize == True:\n",
    "    new = filteredDF['Method'].str.rsplit(\"_\", n = 2, expand = True) \n",
    "    filteredDF['NumD'] = new[1]\n",
    "    \n",
    "elif normalize == False:\n",
    "    new = filteredDF['Method'].str.rsplit(\"_\", n = 3, expand = True) \n",
    "    filteredDF['NumD'] = new[2]"
   ]
  },
  {
   "cell_type": "code",
   "execution_count": null,
   "metadata": {},
   "outputs": [],
   "source": [
    "#### This can show you the full filtered DF\n",
    "pd.set_option(\"display.max_rows\", None, \"display.max_columns\", None)\n",
    "filteredDF"
   ]
  },
  {
   "cell_type": "code",
   "execution_count": null,
   "metadata": {},
   "outputs": [],
   "source": [
    "#generating DF of manual counts to append to filteredDF\n",
    "temp = pd.concat(manual_dict.values()).groupby(['FileName_RAW','Probe']).mean(numeric_only=True).reset_index() \n",
    "man_ave = pd.DataFrame()\n",
    "\n",
    "#Specifically Extracting only the columns of interest from the manualDFs\n",
    "man_ave['FileName_RAW'] = temp[\"FileName_RAW\"] \n",
    "man_ave['Probe'] = temp['Probe'] \n",
    "man_ave['True Threshold'] = 'Manual' \n",
    "man_ave['Relative Threshold'] = 'Manual' \n",
    "man_ave['Probe+ Cells'] = temp[\"Number Probe Positive\"]\n",
    "man_ave['Number GFP Cells']= temp['Count_GFPcells'] \n",
    "man_ave['Percent Positive'] = temp[\"Number Probe Positive\"]/temp['Count_GFPcells'] "
   ]
  },
  {
   "cell_type": "code",
   "execution_count": null,
   "metadata": {},
   "outputs": [],
   "source": [
    "#Create a Manual Percent Positive Column for the filteredDF\n",
    "perc_list_man = []\n",
    "ag = []\n",
    "\n",
    "for i in range(len(filteredDF)):\n",
    "    \n",
    "        x = man_ave[(man_ave['FileName_RAW'] == filteredDF.iloc[i]['FileName_RAW']) &\n",
    "                (man_ave['Probe'] == filteredDF.iloc[i]['Probe'])]['Percent Positive']\n",
    "        \n",
    "        if len(x) > 0: \n",
    "            perc_list_man.append(float(x))\n",
    "            \n",
    "        else: \n",
    "            perc_list_man.append(\"nan\")\n",
    "            ag.append(x)\n",
    "        \n",
    "filteredDF['Manual Percent Positive'] = perc_list_man\n"
   ]
  },
  {
   "cell_type": "markdown",
   "metadata": {},
   "source": [
    "## Graphing Correlation between manual and automated colocalization"
   ]
  },
  {
   "cell_type": "code",
   "execution_count": null,
   "metadata": {},
   "outputs": [],
   "source": [
    "sns.set_theme(style = 'white', font_scale=1.5)"
   ]
  },
  {
   "cell_type": "code",
   "execution_count": null,
   "metadata": {
    "scrolled": false
   },
   "outputs": [],
   "source": [
    "PROBE = Probe1\n",
    "Title = \"Correlation between manual and automated counts\\ntraining vs test\"\n",
    "image_name = \"man_vs_auto_lmplot-\"+PROBE\n",
    "\n",
    "g = sns.lmplot(data = filteredDF[filteredDF['Probe'] == PROBE],\n",
    "                  x = 'Manual Percent Positive', \n",
    "                  y = 'Percent Positive',\n",
    "                  row = \"Stage\",\n",
    "                  col = 'NumD',\n",
    "                  line_kws = {'color': probecolordict[PROBE]},\n",
    "                  scatter_kws =  {'color': probecolordict[PROBE]})\n",
    "\n",
    "\n",
    "def annotate(data, **kws):\n",
    "    line = stats.linregress(data['Manual Percent Positive'], data['Percent Positive'])\n",
    "    ax = plt.gca()\n",
    "\n",
    "    ax.text(.05, .8, 'R2={:.2}, p={:.2}\\n f(x)={:.2}x+{:.2}'.format(line.rvalue**2, \n",
    "                                                            line.pvalue, line.slope, line.intercept),\n",
    "            transform=ax.transAxes)\n",
    "    \n",
    "g.set(ylim = (0,1), xlim = (0,1))\n",
    "g.map_dataframe(annotate)\n",
    "\n",
    "g.set_xlabels('Manual ' + PROBE + '+ Percent Positive')\n",
    "\n",
    "g.set_ylabels('Cell Profiler\\n' + PROBE + '+ Percent Positive')\n",
    "\n",
    "g.set_titles(col_template=\"{col_name}\" ,row_template=\"{row_name}\")\n",
    "\n",
    "g.tight_layout()\n",
    "g.fig.suptitle(Title+\"\\n\"+\"Normalized by area = \" + str(normalize))\n",
    "g.fig.subplots_adjust(top=0.9) \n",
    "g.fig.set_size_inches(15, 15)\n",
    "#plt.savefig(image_save_path+\"/\"+\"NumD6vNumD8/\"+image_name+\".svg\", format= \"svg\", bbox_inches = 'tight' )"
   ]
  },
  {
   "cell_type": "code",
   "execution_count": null,
   "metadata": {},
   "outputs": [],
   "source": [
    "plt.figure(dpi =300, tight_layout=True)\n",
    "PROBE = Probe1\n",
    "SET = 'test'\n",
    "METHOD = 'NumD8'\n",
    "\n",
    "if SET == 'train':\n",
    "    Name = 'TRAIN'\n",
    "    TitleLabel = 'Training'\n",
    "    \n",
    "if SET == 'test':\n",
    "    Name = 'TEST'\n",
    "    TitleLabel = 'Test'\n",
    "    \n",
    "    \n",
    "\n",
    "image_name = \"ChosenMethod_man_vs_auto_lmplot\" + Name + \"_\" + PROBE\n",
    "\n",
    "g = sns.lmplot(data = filteredDF[(filteredDF['Probe'] == PROBE) &\n",
    "                                 (filteredDF['Stage'] == SET) &\n",
    "                                 (filteredDF['NumD'] == METHOD)],\n",
    "                  x = 'Manual Percent Positive', \n",
    "                  y = 'Percent Positive',\n",
    "                  line_kws = {'color': probecolordict[PROBE]},\n",
    "                  scatter_kws =  {'color': probecolordict[PROBE]})\n",
    "\n",
    "\n",
    "def annotate(data, **kws):\n",
    "    line = stats.linregress(data['Manual Percent Positive'], data['Percent Positive'])\n",
    "    ax = plt.gca()\n",
    "\n",
    "    ax.text(.05, .8, 'R2={:.2}, p={:.2}\\n f(x)={:.2}x+{:.2}'.format(line.rvalue**2, \n",
    "                                                            line.pvalue, line.slope, line.intercept),\n",
    "            transform=ax.transAxes)\n",
    "    \n",
    "g.set(ylim = (0,1), xlim = (0,1))\n",
    "g.map_dataframe(annotate)\n",
    "\n",
    "plt.title(\"Correlation Between Manual and\\nAutomated Quantification on \" + TitleLabel + \" Images\",pad=20)\n",
    "g.set_xlabels('Manual Quantificaiton\\nProportion ' + PROBE + ' Positive')\n",
    "g.set_ylabels('Cell Profiler\\nProportion ' + PROBE + ' Positive')\n",
    "\n",
    "#g.set_titles(col_template=\"{col_name}\" ,row_template = \"{row_name}\")\n",
    "###plt.savefig(image_save_path + \"/NumD6vNumD8/\" + image_name + \".svg\", format= \"svg\", bbox_inches = 'tight')"
   ]
  },
  {
   "cell_type": "code",
   "execution_count": null,
   "metadata": {
    "scrolled": false
   },
   "outputs": [],
   "source": [
    "PROBE = Probe2\n",
    "Title = \"Correlation between manual and automated counts\\ntraining vs test\"\n",
    "image_name = \"man_vs_auto_lmplot-\"+PROBE\n",
    "g = sns.lmplot(data = filteredDF[filteredDF['Probe'] == PROBE],\n",
    "                  x = 'Manual Percent Positive', \n",
    "                  y = 'Percent Positive',\n",
    "                  row = \"Stage\",\n",
    "                   col = 'NumD',\n",
    "                  line_kws = {'color': probecolordict[PROBE]},\n",
    "                  scatter_kws =  {'color': probecolordict[PROBE]})\n",
    "\n",
    "\n",
    "def annotate(data, **kws):\n",
    "    line = stats.linregress(data['Manual Percent Positive'], data['Percent Positive'])\n",
    "    ax = plt.gca()\n",
    "\n",
    "    ax.text(.05, .8, 'R2={:.2}, p={:.2}\\n f(x)={:.2}x+{:.2}'.format(line.rvalue**2, \n",
    "                                                            line.pvalue, line.slope, line.intercept),\n",
    "            transform=ax.transAxes)\n",
    "    \n",
    "g.set(ylim = (0,1), xlim = (0,1))\n",
    "g.map_dataframe(annotate)\n",
    "g.set_xlabels('Manual ' + PROBE + '+ Percent Positive')\n",
    "g.set_ylabels('Cell Profiler\\n' + PROBE + '+ Percent Positive')\n",
    "g.set_titles(col_template=\"{col_name}\" ,row_template=\"{row_name}\")\n",
    "g.tight_layout()\n",
    "g.fig.suptitle(Title+\"\\n\"+\"Normalized by area = \" + str(normalize))\n",
    "g.fig.subplots_adjust(top=0.9) \n",
    "g.fig.set_size_inches(15, 15)\n",
    "###plt.savefig(image_save_path+\"/\"+\"NumD6vNumD8/\"+image_name+\".svg\", format= \"svg\", bbox_inches = 'tight' )"
   ]
  },
  {
   "cell_type": "markdown",
   "metadata": {},
   "source": [
    "# Pixel Thresholding\n",
    "## Selection of pixel thresholding method for each probe based on R^2 value"
   ]
  },
  {
   "cell_type": "code",
   "execution_count": null,
   "metadata": {},
   "outputs": [],
   "source": [
    "#add in the Person qualifier to make sure I'm using the correct thresholding for NR data vs LM data\n",
    "if Probe1 == \"Kcng2\":\n",
    "    P1NumD=\"_NumD6\"\n",
    "    P2NumD=\"_NumD8\" ##RK Changed on 10-23-23\n",
    "elif Probe1 == \"Slc30a3\" and Person == \"NR\":\n",
    "    P1NumD=\"_NumD6\"\n",
    "    P2NumD=\"_NumD8\"\n",
    "elif Probe1 == \"Slc30a3\" and Person == \"LM\":\n",
    "    P1NumD=\"_NumD8\"\n",
    "    P2NumD=\"_NumD6\"\n",
    "elif Probe1 == \"Nos1\":\n",
    "    P1NumD=\"_NumD8\"\n",
    "    P2NumD=\"_NumD8\"\n",
    "    \n",
    "if normalize == False:\n",
    "    probe1_method = Probe1 +\"_II\"+P1NumD\n",
    "    probe2_method = Probe2 +\"_II\"+P2NumD\n",
    "elif normalize == True:\n",
    "    probe1_method = Probe1+P1NumD+\"_norm\"\n",
    "    probe2_method =Probe2+P2NumD+\"_norm\""
   ]
  },
  {
   "cell_type": "markdown",
   "metadata": {},
   "source": [
    "## Sliding Scale for Cutoffs"
   ]
  },
  {
   "cell_type": "code",
   "execution_count": null,
   "metadata": {},
   "outputs": [],
   "source": [
    "#DF for percent pos on all images based on II cutoff values\n",
    "\n",
    "imagelist = []\n",
    "probelist = []\n",
    "probe_pos = []\n",
    "animal_list= []\n",
    "inj_list = []\n",
    "per_pos = []\n",
    "all_GFP = []\n",
    "method_list=[]\n",
    "relativity_list = []\n",
    "cutoff_list = []\n",
    "sliding_IIDF = pd.DataFrame()\n",
    "\n",
    "if normalize == False:\n",
    "    range_list = [-8,-4,0,4,8,16,32]\n",
    "elif normalize == True:\n",
    "    range_list= [-0.008, -0.004, 0, 0.004, 0.008, 0.016, 0.032] #(np.array(range(-1,30,3))*(1/1000)).tolist()\n",
    "II_range = dict(zip(str(range_list),range_list))\n",
    "\n",
    "for method in probe1_method,probe2_method: #3/3/23 changed from \"for method in filteredDF\" as to only include chosen method\n",
    "    if method.find(Probe1)!=-1:\n",
    "        probe= Probe1\n",
    "    elif method.find(Probe2)!=-1:\n",
    "        probe = Probe2\n",
    "    else:\n",
    "        print(method)\n",
    "        break\n",
    "    #for m in cellDF.columns:      \n",
    "     #   if m == method:\n",
    "    for image in cellDF[\"FileName_RAW\"].unique():\n",
    "        animal = image[4:image.find(\"-S\")]\n",
    "        injection = projdict[animal]\n",
    "        x = cellDF[cellDF[\"FileName_RAW\"] == image]\n",
    "        x.sort_values(method, ascending = False).reset_index()\n",
    "        for a in range_list:\n",
    "            cutoff = float(III_med_dict[method])+a \n",
    "            num_pos = 0\n",
    "            for y in range(len(x)): \n",
    "                if float(x.iloc[y][method])>=cutoff: \n",
    "                    num_pos = num_pos + 1\n",
    "\n",
    "            GFP = len(x)\n",
    "            percent_pos = num_pos/GFP\n",
    "            imagelist.append(image)\n",
    "            probelist.append(probe)\n",
    "            probe_pos.append(num_pos)\n",
    "            animal_list.append(animal)\n",
    "            inj_list.append(injection)\n",
    "            per_pos.append(percent_pos)\n",
    "            all_GFP.append(GFP)\n",
    "            method_list.append(method)\n",
    "            relativity_list.append(a)\n",
    "            cutoff_list.append(cutoff)\n",
    "                        \n",
    "                        \n",
    "sliding_IIDF['FileName_RAW'] = imagelist\n",
    "sliding_IIDF['Animal ID'] = animal_list\n",
    "sliding_IIDF['Inj Site'] = inj_list\n",
    "sliding_IIDF['Probe'] = probelist\n",
    "sliding_IIDF['Method'] = method_list\n",
    "sliding_IIDF[\"Cutoff\"] = cutoff_list\n",
    "sliding_IIDF[\"Relative Threshold\"] = relativity_list\n",
    "sliding_IIDF['Total GFP'] = all_GFP\n",
    "sliding_IIDF['Pos Cells'] = probe_pos \n",
    "sliding_IIDF['Percent Positive'] = per_pos\n",
    "\n",
    "\n",
    "\n",
    "if normalize == True:\n",
    "    new = sliding_IIDF['Method'].str.rsplit(\"_\", n = 2, expand = True) \n",
    "    sliding_IIDF['NumD'] = new[1]\n",
    "elif normalize == False:\n",
    "    new = sliding_IIDF['Method'].str.rsplit(\"_\", n = 3, expand = True) \n",
    "    sliding_IIDF['NumD'] = new[2]"
   ]
  },
  {
   "cell_type": "code",
   "execution_count": null,
   "metadata": {},
   "outputs": [],
   "source": [
    "animalslidingIIDF = sliding_IIDF.groupby(['Animal ID', 'Inj Site', 'Cutoff', 'Relative Threshold', 'Probe', 'Method'])[['Total GFP', 'Pos Cells']].sum()\n",
    "\n",
    "animalslidingIIDF.insert(0,'Proportion Positive', animalslidingIIDF['Pos Cells'] / animalslidingIIDF['Total GFP'])\n",
    "                         \n",
    "    \n",
    "animalslidingIIDF.reset_index(inplace=True)\n"
   ]
  },
  {
   "cell_type": "code",
   "execution_count": null,
   "metadata": {},
   "outputs": [],
   "source": [
    "animalslidingIIDF"
   ]
  },
  {
   "cell_type": "code",
   "execution_count": null,
   "metadata": {},
   "outputs": [],
   "source": [
    "animalslidingIIDF[(animalslidingIIDF[\"Relative Threshold\"]== -0.008)&(animalslidingIIDF[\"Method\"] == probe2_method)].value_counts(\"Proportion Positive\")"
   ]
  },
  {
   "cell_type": "code",
   "execution_count": null,
   "metadata": {},
   "outputs": [],
   "source": [
    "sliding_IIDF[(sliding_IIDF[\"Relative Threshold\"]== -0.008)&(sliding_IIDF[\"NumD\"] == \"NumD8\")].value_counts(\"Percent Positive\")"
   ]
  },
  {
   "cell_type": "markdown",
   "metadata": {},
   "source": [
    "## Graphing Sliding Threshold Cutoff vs Percent Pos"
   ]
  },
  {
   "cell_type": "code",
   "execution_count": null,
   "metadata": {},
   "outputs": [],
   "source": [
    "sns.set_theme(style = 'white', font_scale=0.8)"
   ]
  },
  {
   "cell_type": "code",
   "execution_count": null,
   "metadata": {
    "scrolled": false
   },
   "outputs": [],
   "source": [
    "plt.figure(dpi=300)\n",
    "probe = Probe1\n",
    "if probe == Probe1:\n",
    "    method = probe1_method\n",
    "elif probe == Probe2:\n",
    "    method = probe2_method\n",
    "\n",
    "\n",
    "Title = \"Percent Pos for \"+probe+\" based on Sliding Threshold\\nImage Level\"\n",
    "image_name = \"sliding-threshold_\"+probe\n",
    "g = sns.catplot(data=sliding_IIDF[(sliding_IIDF[\"Method\"] == probe1_method) \n",
    "                                       | (sliding_IIDF[\"Method\"] == probe2_method)] ,\n",
    "            x= \"Relative Threshold\", y= \"Percent Positive\",\n",
    "           hue = \"Probe\", palette=probecolordict,\n",
    "                kind = \"point\", units = \"FileName_RAW\", legend_out= False)\n",
    "\n",
    "g.set(ylim= (0,1.1))\n",
    "g.set_xlabels(\"Threshold Relative to Optimized\\n\"+method)\n",
    "#g.set_titles(col_template=\"{col_name}\" ,row_template=\"{row_name}\")\n",
    "plt.title(Title, pad =20)#+\"\\nNormalized by area = \" + str(normalize)).set_size(20)\n",
    "\n",
    "plt.legend(title= 'ZI Projection Type', bbox_to_anchor=(1.02, 0.7),  borderaxespad=0.1)\n",
    "###plt.savefig(image_save_path+\"/\"+image_name+\".svg\", format= \"svg\", bbox_inches = 'tight' )"
   ]
  },
  {
   "cell_type": "code",
   "execution_count": null,
   "metadata": {},
   "outputs": [],
   "source": [
    "plt.figure(dpi=400)\n",
    "probe = Probe1\n",
    "if probe == Probe1:\n",
    "    method = probe1_method\n",
    "elif probe == Probe2:\n",
    "    method = probe2_method\n",
    "\n",
    "Title = \"Proportion Retrogradely Labeled ZI->PRN Neurons\\nExpressing Marker Genes Defined on Sliding Threshold\\nAnimal Level\"\n",
    "\n",
    "image_name = \"sliding-threshold_AnimalLevel_\" + probe\n",
    "\n",
    "g = sns.catplot(data= animalslidingIIDF[(animalslidingIIDF[\"Method\"] == probe1_method) \n",
    "                                       | (animalslidingIIDF[\"Method\"] == probe2_method)] ,\n",
    "                x= \"Relative Threshold\", \n",
    "                y= \"Proportion Positive\",\n",
    "                hue = \"Probe\", \n",
    "                #hue_order=[\"PRN\",\"SC\"], \n",
    "                palette=probecolordict,\n",
    "                kind = \"point\",\n",
    "                scale =1.5,\n",
    "                #units = \"Animal ID\",\n",
    "                errorbar = 'se',\n",
    "                n_boot = None, \n",
    "                legend_out=False,\n",
    "                )\n",
    "\n",
    "\n",
    "g.set(ylim= (0,1.1))\n",
    "g.set_ylabels(\"Proportion \" + probe + \" Positive\")\n",
    "g.set_xlabels(\"Threshold Relative to Minimal \" + probe + \" Expression Threshold\\nNormalized By Cell Area\")\n",
    "plt.title(Title)#+\"\\nNormalized by area = \" + str(normalize),).set_size(20)\n",
    "g.fig.set_size_inches(15, 9)\n",
    "plt.legend(title= 'Marker Gene', bbox_to_anchor=(1.02, 0.7), loc = [1.1,0.7],  borderaxespad=0.1,)\n",
    "\n",
    "###plt.savefig(image_save_path+\"/\"+image_name+\".svg\", format= \"svg\",  bbox_inches = 'tight')"
   ]
  },
  {
   "cell_type": "code",
   "execution_count": null,
   "metadata": {},
   "outputs": [],
   "source": [
    "plt.figure(dpi=300)\n",
    "probe = Probe1\n",
    "if probe == Probe1:\n",
    "    method = probe1_method\n",
    "elif probe == Probe2:\n",
    "    method = probe2_method\n",
    "\n",
    "Title = \"Percent Pos for \"+probe+\" based on Sliding Threshold\\nImage Level\"\n",
    "image_name = \"sliding-threshold_ImageLevel_\"+probe\n",
    "g = sns.catplot(data=sliding_IIDF[(sliding_IIDF[\"Probe\"] == probe) & (sliding_IIDF[\"Method\"] == method)],\n",
    "            x= \"Relative Threshold\", y= \"Percent Positive\",\n",
    "            hue = \"Inj Site\", \n",
    "                #hue_order=[\"PRN\",\"SC\"], \n",
    "                palette=injcolordict,\n",
    "                kind = \"point\", units = \"FileName_RAW\", legend_out = False,\n",
    "               scale=1.5,\n",
    "               markers = 's')\n",
    "\n",
    "g.set(ylim= (0,1.1))\n",
    "\n",
    "g.set_xlabels(\"Threshold Relative to Minimal \" + probe + \" Expression Threshold\\nNormalized By Cell Area\")\n",
    "#g.set_titles(col_template=\"{col_name}\" ,row_template=\"{row_name}\")\n",
    "plt.title(Title, pad = 20)#+\"\\nNormalized by area = \" + str(normalize)).set_size(20)\n",
    "g.fig.set_size_inches(15, 9)\n",
    "plt.legend(title= 'ZI Projection Type', bbox_to_anchor=(1.02, 0.7), loc = [1.1,0.7],  borderaxespad=0.1)\n",
    "\n",
    "###plt.savefig(image_save_path+\"/\"+image_name+\".svg\", format= \"svg\",  bbox_inches = 'tight')"
   ]
  },
  {
   "cell_type": "code",
   "execution_count": null,
   "metadata": {},
   "outputs": [],
   "source": [
    "#set sliding threshold range from (-4,60)*(1/1000)\n",
    "\n",
    "plt.figure(dpi=300)\n",
    "probe = Probe1\n",
    "if probe == Probe1:\n",
    "    method = probe1_method\n",
    "elif probe == Probe2:\n",
    "    method = probe2_method\n",
    "\n",
    "Title = \"Percent Pos for \"+probe+\" based on Sliding Threshold\\nAnimal Level\"\n",
    "image_name = \"sliding-threshold_AnimalLevel_\"+probe\n",
    "g = sns.catplot(data=animalslidingIIDF[(animalslidingIIDF[\"Probe\"] == probe) & (animalslidingIIDF[\"Method\"] == method)],\n",
    "            x= \"Relative Threshold\", y= \"Proportion Positive\",\n",
    "            hue = \"Inj Site\", \n",
    "                #hue_order=[\"PRN\",\"SC\"], \n",
    "                palette=injcolordict,\n",
    "                kind = \"point\", units = \"Animal ID\", legend_out = False,\n",
    "               scale=1.5,\n",
    "               markers = 's')\n",
    "\n",
    "g.set(ylim= (0,1.1))\n",
    "\n",
    "g.set_xlabels(\"Threshold Relative to Minimal \" + probe + \" Expression Threshold\\nNormalized By Cell Area\")\n",
    "#g.set_titles(col_template=\"{col_name}\" ,row_template=\"{row_name}\")\n",
    "plt.title(Title, pad = 20)#+\"\\nNormalized by area = \" + str(normalize)).set_size(20)\n",
    "g.fig.set_size_inches(15, 9)\n",
    "plt.legend(title= 'ZI Projection Type', bbox_to_anchor=(1.02, 0.7), loc = [1.1,0.7],  borderaxespad=0.1)\n",
    "plt.xticks(rotation = 90)\n",
    "\n",
    "###plt.savefig(image_save_path+\"/\"+image_name+\".svg\", format= \"svg\",  bbox_inches = 'tight')"
   ]
  },
  {
   "cell_type": "code",
   "execution_count": null,
   "metadata": {},
   "outputs": [],
   "source": [
    "# set sliding threshold range from (-1,30,3))*(1/100)\n",
    "\n",
    "plt.figure(dpi=300)\n",
    "probe = Probe2\n",
    "if probe == Probe1:\n",
    "    method = probe1_method\n",
    "elif probe == Probe2:\n",
    "    method = probe2_method\n",
    "\n",
    "Title = \"Percent Pos for \"+probe+\" based on Sliding Threshold\\nAnimal Level\"\n",
    "image_name = \"sliding-threshold_AnimalLevel_\"+probe\n",
    "g = sns.catplot(data=animalslidingIIDF[(animalslidingIIDF[\"Probe\"] == probe) & (animalslidingIIDF[\"Method\"] == method)],\n",
    "            x= \"Relative Threshold\", y= \"Proportion Positive\",\n",
    "            hue = \"Inj Site\", \n",
    "                #hue_order=[\"PRN\",\"SC\"], \n",
    "                palette=injcolordict,\n",
    "                kind = \"point\", units = \"Animal ID\", legend_out = False,\n",
    "               scale=1.5,\n",
    "               markers = 's')\n",
    "\n",
    "g.set(ylim= (0,1.1))\n",
    "\n",
    "g.set_xlabels(\"Threshold Relative to Minimal \" + probe + \" Expression Threshold\\nNormalized By Cell Area\")\n",
    "#g.set_titles(col_template=\"{col_name}\" ,row_template=\"{row_name}\")\n",
    "plt.title(Title, pad = 20)#+\"\\nNormalized by area = \" + str(normalize)).set_size(20)\n",
    "g.fig.set_size_inches(15, 9)\n",
    "plt.legend(title= 'ZI Projection Type', bbox_to_anchor=(1.02, 0.7), loc = [1.1,0.7],  borderaxespad=0.1)\n",
    "\n",
    "###plt.savefig(image_save_path+\"/\"+image_name+\".svg\", format= \"svg\",  bbox_inches = 'tight')"
   ]
  },
  {
   "cell_type": "markdown",
   "metadata": {},
   "source": [
    "# Cell Thresholding\n",
    "## Filtering Full Dataset"
   ]
  },
  {
   "cell_type": "code",
   "execution_count": null,
   "metadata": {
    "scrolled": true
   },
   "outputs": [],
   "source": [
    "#DF for percent pos on all images based on II cutoff values\n",
    "\n",
    "imagelist = []\n",
    "probelist = []\n",
    "probe_pos = []\n",
    "animal_list= []\n",
    "inj_list = []\n",
    "per_pos = []\n",
    "all_GFP = []\n",
    "method_list=[]\n",
    "\n",
    "chosen_IIIDF = pd.DataFrame()\n",
    "\n",
    "for method in [probe1_method, probe2_method, 'Double']:\n",
    "    \n",
    "    if method.find(Probe1) != -1:\n",
    "        probe= Probe1\n",
    "        \n",
    "    elif method.find(Probe2) != -1:\n",
    "        probe = Probe2\n",
    "        \n",
    "    elif method.find('Double') != -1:\n",
    "        probe = Probe1 + Probe2\n",
    "        \n",
    "    else:\n",
    "        print(method)\n",
    "        break\n",
    "        \n",
    "    #for m in cellDF.columns:      \n",
    "     #   if m == method:\n",
    "        \n",
    "    for image in cellDF[\"FileName_RAW\"].unique():\n",
    "        \n",
    "        animal = image[4:image.find(\"-S\")] ##LM_EDIT!\n",
    "        injection = projdict[animal]\n",
    "        x = cellDF[cellDF[\"FileName_RAW\"] == image]\n",
    "        \n",
    "        if method.find('Double') == -1:\n",
    "            cutoff = float(III_med_dict[method]) #getting the median integrated intensity value for given method\n",
    "            \n",
    "        if method.find('Double') >= 0:\n",
    "            cutoff1 = float(III_med_dict[probe1_method])\n",
    "            cutoff2 = float(III_med_dict[probe2_method])\n",
    "\n",
    "        num_pos = 0\n",
    "        \n",
    "        for y in range(len(x)): \n",
    "            if (method.find('Double') == -1):\n",
    "                if (float(x.iloc[y][method]) >= cutoff):\n",
    "                    num_pos = num_pos + 1\n",
    "                \n",
    "            elif (method.find('Double') >= 0):\n",
    "                if (float(x.iloc[y][probe1_method]) >= cutoff1) & (float(x.iloc[y][probe2_method]) >= cutoff2):\n",
    "                    num_pos = num_pos + 1\n",
    "\n",
    "        GFP = len(x)\n",
    "        percent_pos = num_pos/GFP\n",
    "        imagelist.append(image)\n",
    "        probelist.append(probe)\n",
    "        probe_pos.append(num_pos)\n",
    "        animal_list.append(animal)\n",
    "        inj_list.append(injection)\n",
    "        per_pos.append(percent_pos)\n",
    "        all_GFP.append(GFP)\n",
    "        method_list.append(method)\n",
    "                        \n",
    "                        \n",
    "chosen_IIIDF['FileName_RAW'] = imagelist\n",
    "chosen_IIIDF['Animal ID'] = animal_list\n",
    "chosen_IIIDF['Inj Site'] = inj_list\n",
    "chosen_IIIDF['Probe'] = probelist\n",
    "chosen_IIIDF['Method'] = method_list\n",
    "chosen_IIIDF['Total GFP'] = all_GFP\n",
    "chosen_IIIDF['Pos Cells'] = probe_pos \n",
    "chosen_IIIDF['Proportion Positive'] = per_pos\n",
    "\n",
    "\n",
    "if normalize == True:\n",
    "    \n",
    "    new = chosen_IIIDF['Method'].str.rsplit(\"_\", n = 2, expand = True) \n",
    "    chosen_IIIDF['NumD'] = new[1]\n",
    "    \n",
    "elif normalize == False:\n",
    "    \n",
    "    new = chosen_IIIDF['Method'].str.rsplit(\"_\", n = 3, expand = True) \n",
    "    chosen_IIIDF['NumD'] = new[2]\n",
    "\n",
    "#adding bregma position\n",
    "AP_list = []\n",
    "\n",
    "for i in range(len(chosen_IIIDF)):     \n",
    "    AP_list.append(AP_dict[chosen_IIIDF.iloc[i][\"FileName_RAW\"]])    \n",
    "    \n",
    "chosen_IIIDF[\"AP_position\"] = AP_list         "
   ]
  },
  {
   "cell_type": "code",
   "execution_count": null,
   "metadata": {},
   "outputs": [],
   "source": [
    "chosen_IIIDF"
   ]
  },
  {
   "cell_type": "code",
   "execution_count": null,
   "metadata": {
    "scrolled": true
   },
   "outputs": [],
   "source": [
    "# Binning AP coordinates into 9 position bins and 6 position bins to allow for coarser analysis by position\n",
    "\n",
    "AP_order = chosen_IIIDF[\"AP_position\"].unique().tolist()\n",
    "AP_order.sort(reverse= True)\n",
    "\n",
    "\n",
    "AP_9_bindict= dict(zip(AP_order,[1,1,2,2,3,3,4,4,5,5,6,6,7,7,8,8,9,9,10,10])) ##added the two 10s d/t larger range\n",
    "AP_6_bindict = dict(zip(AP_order, [1,1,1,2,2,2,3,3,3,4,4,4,5,5,5,6,6,6,7,7])) ##added the two 7s d/t larger range\n",
    "\n",
    "AP_9bin = []\n",
    "AP_6bin = []\n",
    "\n",
    "\n",
    "\n",
    "for i in range(len(chosen_IIIDF)):\n",
    "    AP_9bin.append(AP_9_bindict[chosen_IIIDF[\"AP_position\"].iloc[i]])\n",
    "    AP_6bin.append(AP_6_bindict[chosen_IIIDF[\"AP_position\"].iloc[i]])\n",
    "\n",
    "chosen_IIIDF[\"AP_bin(9)\"] = AP_9bin\n",
    "chosen_IIIDF[\"AP_bin(6)\"] = AP_6bin\n",
    "#chosen_IIIDF.to_csv(csv_save_path + '/chosen_IIIDF.csv', sep=',', index = False)"
   ]
  },
  {
   "cell_type": "code",
   "execution_count": null,
   "metadata": {},
   "outputs": [],
   "source": [
    "#results summated by animal\n",
    "\n",
    "animal_IIIDF = chosen_IIIDF.groupby(['Animal ID', 'Inj Site', 'Probe', 'Method']).sum(numeric_only=True).reset_index()\n",
    "animal_IIIDF.drop([\"AP_position\",\"AP_bin(9)\",\"AP_bin(6)\"], axis=1, inplace= True)\n",
    "animal_IIIDF[\"Proportion Positive\"] = animal_IIIDF[\"Pos Cells\"] / animal_IIIDF[\"Total GFP\"]\n",
    "animal_IIIDF\n",
    "#animal_IIIDF.to_csv(csv_save_path + '/animal_IIIDF.csv', sep=',', index = False)"
   ]
  },
  {
   "cell_type": "code",
   "execution_count": null,
   "metadata": {},
   "outputs": [],
   "source": [
    "#results summated by animal x AP bin based on 9 bins\n",
    "\n",
    "APbin_DF = chosen_IIIDF.groupby(['Animal ID', 'Inj Site', 'Probe', 'Method',\"AP_bin(9)\"]).sum(numeric_only=True).reset_index()\n",
    "APbin_DF.drop([\"AP_position\",\"AP_bin(6)\"], axis=1, inplace= True)\n",
    "APbin_DF[\"Proportion Positive\"] = APbin_DF[\"Pos Cells\"] / APbin_DF[\"Total GFP\"]\n",
    "APbin_DF\n",
    "#APbin_DF.to_csv(csv_save_path + '/APbin_DF.csv', sep=',', index = False)"
   ]
  },
  {
   "cell_type": "code",
   "execution_count": null,
   "metadata": {},
   "outputs": [],
   "source": [
    "#refine chosen_IIIDF to remove double pos cells from single pos counts and also include double neg cells\n",
    "\n",
    "df_list = []\n",
    "\n",
    "for image in chosen_IIIDF[\"FileName_RAW\"].unique():\n",
    "    x = chosen_IIIDF[chosen_IIIDF[\"FileName_RAW\"] == image].copy()\n",
    "    for method in probe1_method,probe2_method:\n",
    "        singlepos = x[x[\"Method\"] == method][\"Pos Cells\"].iloc[0] - x[x[\"Method\"] == \"Double\"][\"Pos Cells\"].iloc[0]\n",
    "        x.loc[x[\"Method\"] == method,\"Pos Cells\"] = singlepos\n",
    "        \n",
    "    y = x[x[\"Method\"] == \"Double\"].copy()\n",
    "    \n",
    "    y[\"Method\"] = \"Neg\"\n",
    "    y[\"Probe\"] = \"Double Negative\"\n",
    "    y[\"Pos Cells\"] = x[\"Total GFP\"].iloc[0] - x[\"Pos Cells\"].sum()\n",
    "    \n",
    "    df_list.append(x)\n",
    "    df_list.append(y)\n",
    "\n",
    "\n",
    "chosen_IIIDF2 = pd.concat(df_list)\n",
    "chosen_IIIDF2[\"Proportion Positive\"] = chosen_IIIDF2[\"Pos Cells\"] / chosen_IIIDF2[\"Total GFP\"]\n",
    "\n",
    "chosen_IIIDF2.rename(columns={\"Pos Cells\": \"Cells\"}, inplace = True)\n",
    "#chosen_IIIDF2.to_csv(csv_save_path + '/chosen_IIIDF2.csv', sep=',', index = False)"
   ]
  },
  {
   "cell_type": "code",
   "execution_count": null,
   "metadata": {
    "scrolled": true
   },
   "outputs": [],
   "source": [
    "animal_IIIDF2 = chosen_IIIDF2.groupby(['Animal ID', 'Inj Site', 'Probe', 'Method']).sum(numeric_only=True).reset_index()\n",
    "animal_IIIDF2[\"Proportion Positive\"] = animal_IIIDF2[\"Cells\"] / animal_IIIDF2[\"Total GFP\"]\n",
    "animal_IIIDF2.drop([\"AP_position\",\"AP_bin(9)\",\"AP_bin(6)\"], axis=1, inplace= True)\n",
    "#animal_IIIDF2.to_csv(csv_save_path + '/animal_IIIDF2.csv', sep=',', index = False)"
   ]
  },
  {
   "cell_type": "code",
   "execution_count": null,
   "metadata": {},
   "outputs": [],
   "source": [
    "APbin_DF2 = chosen_IIIDF2.groupby(['Animal ID', 'Inj Site', 'Probe', 'Method',\"AP_bin(9)\"]).sum(numeric_only=True).reset_index()\n",
    "APbin_DF2[\"Proportion Positive\"] = APbin_DF2[\"Cells\"] / APbin_DF2[\"Total GFP\"]\n",
    "APbin_DF2.drop([\"AP_position\",\"AP_bin(6)\"], axis=1, inplace= True)\n",
    "APbin_DF2\n",
    "#APbin_DF2.to_csv(csv_save_path + '/APbin_DF2.csv', sep=',', index = False)"
   ]
  },
  {
   "cell_type": "code",
   "execution_count": null,
   "metadata": {},
   "outputs": [],
   "source": [
    "#### This can show you the full filtered DF\n",
    "pd.set_option(\"display.max_rows\", None, \"display.max_columns\", None)\n",
    "chosen_IIIDF"
   ]
  },
  {
   "cell_type": "code",
   "execution_count": null,
   "metadata": {},
   "outputs": [],
   "source": [
    "pd.set_option(\"display.max_rows\", None, \"display.max_columns\", None)\n",
    "animal_IIIDF"
   ]
  },
  {
   "cell_type": "code",
   "execution_count": null,
   "metadata": {},
   "outputs": [],
   "source": [
    "pd.set_option(\"display.max_rows\", None, \"display.max_columns\", None)\n",
    "APbin_DF"
   ]
  },
  {
   "cell_type": "code",
   "execution_count": null,
   "metadata": {},
   "outputs": [],
   "source": []
  }
 ],
 "metadata": {
  "kernelspec": {
   "display_name": "Python 3 (ipykernel)",
   "language": "python",
   "name": "python3"
  },
  "language_info": {
   "codemirror_mode": {
    "name": "ipython",
    "version": 3
   },
   "file_extension": ".py",
   "mimetype": "text/x-python",
   "name": "python",
   "nbconvert_exporter": "python",
   "pygments_lexer": "ipython3",
   "version": "3.9.12"
  }
 },
 "nbformat": 4,
 "nbformat_minor": 4
}
